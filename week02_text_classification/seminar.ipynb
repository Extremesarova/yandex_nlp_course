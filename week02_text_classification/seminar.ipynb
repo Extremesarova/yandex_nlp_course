{
 "cells": [
  {
   "cell_type": "markdown",
   "metadata": {},
   "source": [
    "# Large scale text analysis with deep learning (3 points)\n",
    "\n",
    "Today we're gonna apply the newly learned tools for the task of predicting job salary.\n",
    "\n",
    "<img src=\"https://storage.googleapis.com/kaggle-competitions/kaggle/3342/media/salary%20prediction%20engine%20v2.png\" width=400px>\n",
    "\n",
    "_Special thanks to [Oleg Vasilev](https://github.com/Omrigan/) for the core assignment idea._"
   ]
  },
  {
   "cell_type": "code",
   "execution_count": 8,
   "metadata": {},
   "outputs": [],
   "source": [
    "import matplotlib.pyplot as plt\n",
    "import numpy as np\n",
    "import pandas as pd\n",
    "\n",
    "%matplotlib inline"
   ]
  },
  {
   "cell_type": "markdown",
   "metadata": {},
   "source": [
    "### About the challenge\n",
    "For starters, let's download and unpack the data from [here]. \n",
    "\n",
    "You can also get it from [yadisk url](https://yadi.sk/d/vVEOWPFY3NruT7) the competition [page](https://www.kaggle.com/c/job-salary-prediction/data) (pick `Train_rev1.*`)."
   ]
  },
  {
   "cell_type": "code",
   "execution_count": 9,
   "metadata": {},
   "outputs": [
    {
     "data": {
      "text/plain": [
       "(244768, 12)"
      ]
     },
     "execution_count": 9,
     "metadata": {},
     "output_type": "execute_result"
    }
   ],
   "source": [
    "# !wget https://ysda-seminars.s3.eu-central-1.amazonaws.com/Train_rev1.zip\n",
    "# !unzip Train_rev1.zip\n",
    "data = pd.read_csv(\"./Train_rev1.csv\", index_col=None)\n",
    "data.shape"
   ]
  },
  {
   "cell_type": "code",
   "execution_count": 10,
   "metadata": {},
   "outputs": [
    {
     "data": {
      "text/html": [
       "<div>\n",
       "<style scoped>\n",
       "    .dataframe tbody tr th:only-of-type {\n",
       "        vertical-align: middle;\n",
       "    }\n",
       "\n",
       "    .dataframe tbody tr th {\n",
       "        vertical-align: top;\n",
       "    }\n",
       "\n",
       "    .dataframe thead th {\n",
       "        text-align: right;\n",
       "    }\n",
       "</style>\n",
       "<table border=\"1\" class=\"dataframe\">\n",
       "  <thead>\n",
       "    <tr style=\"text-align: right;\">\n",
       "      <th></th>\n",
       "      <th>Id</th>\n",
       "      <th>Title</th>\n",
       "      <th>FullDescription</th>\n",
       "      <th>LocationRaw</th>\n",
       "      <th>LocationNormalized</th>\n",
       "      <th>ContractType</th>\n",
       "      <th>ContractTime</th>\n",
       "      <th>Company</th>\n",
       "      <th>Category</th>\n",
       "      <th>SalaryRaw</th>\n",
       "      <th>SalaryNormalized</th>\n",
       "      <th>SourceName</th>\n",
       "    </tr>\n",
       "  </thead>\n",
       "  <tbody>\n",
       "    <tr>\n",
       "      <th>0</th>\n",
       "      <td>12612628</td>\n",
       "      <td>Engineering Systems Analyst</td>\n",
       "      <td>Engineering Systems Analyst Dorking Surrey Sal...</td>\n",
       "      <td>Dorking, Surrey, Surrey</td>\n",
       "      <td>Dorking</td>\n",
       "      <td>NaN</td>\n",
       "      <td>permanent</td>\n",
       "      <td>Gregory Martin International</td>\n",
       "      <td>Engineering Jobs</td>\n",
       "      <td>20000 - 30000/annum 20-30K</td>\n",
       "      <td>25000</td>\n",
       "      <td>cv-library.co.uk</td>\n",
       "    </tr>\n",
       "    <tr>\n",
       "      <th>1</th>\n",
       "      <td>12612830</td>\n",
       "      <td>Stress Engineer Glasgow</td>\n",
       "      <td>Stress Engineer Glasgow Salary **** to **** We...</td>\n",
       "      <td>Glasgow, Scotland, Scotland</td>\n",
       "      <td>Glasgow</td>\n",
       "      <td>NaN</td>\n",
       "      <td>permanent</td>\n",
       "      <td>Gregory Martin International</td>\n",
       "      <td>Engineering Jobs</td>\n",
       "      <td>25000 - 35000/annum 25-35K</td>\n",
       "      <td>30000</td>\n",
       "      <td>cv-library.co.uk</td>\n",
       "    </tr>\n",
       "    <tr>\n",
       "      <th>2</th>\n",
       "      <td>12612844</td>\n",
       "      <td>Modelling and simulation analyst</td>\n",
       "      <td>Mathematical Modeller / Simulation Analyst / O...</td>\n",
       "      <td>Hampshire, South East, South East</td>\n",
       "      <td>Hampshire</td>\n",
       "      <td>NaN</td>\n",
       "      <td>permanent</td>\n",
       "      <td>Gregory Martin International</td>\n",
       "      <td>Engineering Jobs</td>\n",
       "      <td>20000 - 40000/annum 20-40K</td>\n",
       "      <td>30000</td>\n",
       "      <td>cv-library.co.uk</td>\n",
       "    </tr>\n",
       "    <tr>\n",
       "      <th>3</th>\n",
       "      <td>12613049</td>\n",
       "      <td>Engineering Systems Analyst / Mathematical Mod...</td>\n",
       "      <td>Engineering Systems Analyst / Mathematical Mod...</td>\n",
       "      <td>Surrey, South East, South East</td>\n",
       "      <td>Surrey</td>\n",
       "      <td>NaN</td>\n",
       "      <td>permanent</td>\n",
       "      <td>Gregory Martin International</td>\n",
       "      <td>Engineering Jobs</td>\n",
       "      <td>25000 - 30000/annum 25K-30K negotiable</td>\n",
       "      <td>27500</td>\n",
       "      <td>cv-library.co.uk</td>\n",
       "    </tr>\n",
       "    <tr>\n",
       "      <th>4</th>\n",
       "      <td>12613647</td>\n",
       "      <td>Pioneer, Miser Engineering Systems Analyst</td>\n",
       "      <td>Pioneer, Miser  Engineering Systems Analyst Do...</td>\n",
       "      <td>Surrey, South East, South East</td>\n",
       "      <td>Surrey</td>\n",
       "      <td>NaN</td>\n",
       "      <td>permanent</td>\n",
       "      <td>Gregory Martin International</td>\n",
       "      <td>Engineering Jobs</td>\n",
       "      <td>20000 - 30000/annum 20-30K</td>\n",
       "      <td>25000</td>\n",
       "      <td>cv-library.co.uk</td>\n",
       "    </tr>\n",
       "  </tbody>\n",
       "</table>\n",
       "</div>"
      ],
      "text/plain": [
       "         Id                                              Title  \\\n",
       "0  12612628                        Engineering Systems Analyst   \n",
       "1  12612830                            Stress Engineer Glasgow   \n",
       "2  12612844                   Modelling and simulation analyst   \n",
       "3  12613049  Engineering Systems Analyst / Mathematical Mod...   \n",
       "4  12613647         Pioneer, Miser Engineering Systems Analyst   \n",
       "\n",
       "                                     FullDescription  \\\n",
       "0  Engineering Systems Analyst Dorking Surrey Sal...   \n",
       "1  Stress Engineer Glasgow Salary **** to **** We...   \n",
       "2  Mathematical Modeller / Simulation Analyst / O...   \n",
       "3  Engineering Systems Analyst / Mathematical Mod...   \n",
       "4  Pioneer, Miser  Engineering Systems Analyst Do...   \n",
       "\n",
       "                         LocationRaw LocationNormalized ContractType  \\\n",
       "0            Dorking, Surrey, Surrey            Dorking          NaN   \n",
       "1        Glasgow, Scotland, Scotland            Glasgow          NaN   \n",
       "2  Hampshire, South East, South East          Hampshire          NaN   \n",
       "3     Surrey, South East, South East             Surrey          NaN   \n",
       "4     Surrey, South East, South East             Surrey          NaN   \n",
       "\n",
       "  ContractTime                       Company          Category  \\\n",
       "0    permanent  Gregory Martin International  Engineering Jobs   \n",
       "1    permanent  Gregory Martin International  Engineering Jobs   \n",
       "2    permanent  Gregory Martin International  Engineering Jobs   \n",
       "3    permanent  Gregory Martin International  Engineering Jobs   \n",
       "4    permanent  Gregory Martin International  Engineering Jobs   \n",
       "\n",
       "                                SalaryRaw  SalaryNormalized        SourceName  \n",
       "0              20000 - 30000/annum 20-30K             25000  cv-library.co.uk  \n",
       "1              25000 - 35000/annum 25-35K             30000  cv-library.co.uk  \n",
       "2              20000 - 40000/annum 20-40K             30000  cv-library.co.uk  \n",
       "3  25000 - 30000/annum 25K-30K negotiable             27500  cv-library.co.uk  \n",
       "4              20000 - 30000/annum 20-30K             25000  cv-library.co.uk  "
      ]
     },
     "execution_count": 10,
     "metadata": {},
     "output_type": "execute_result"
    }
   ],
   "source": [
    "data.head()"
   ]
  },
  {
   "cell_type": "markdown",
   "metadata": {},
   "source": [
    "One problem with salary prediction is that it's oddly distributed: there are many people who are paid standard salaries and a few that get tons o money. The distribution is fat-tailed on the right side, which is inconvenient for MSE minimization.\n",
    "\n",
    "There are several techniques to combat this: using a different loss function, predicting log-target instead of raw target or even replacing targets with their percentiles among all salaries in the training set. We gonna use logarithm for now.\n",
    "\n",
    "_You can read more [in the official description](https://www.kaggle.com/c/job-salary-prediction#description)._"
   ]
  },
  {
   "cell_type": "code",
   "execution_count": 11,
   "metadata": {},
   "outputs": [
    {
     "data": {
      "image/png": "[encoded data removed]",
      "text/plain": [
       "<Figure size 576x288 with 2 Axes>"
      ]
     },
     "metadata": {
      "needs_background": "light"
     },
     "output_type": "display_data"
    }
   ],
   "source": [
    "data[\"Log1pSalary\"] = np.log1p(data[\"SalaryNormalized\"]).astype(\"float32\")\n",
    "\n",
    "plt.figure(figsize=[8, 4])\n",
    "plt.subplot(1, 2, 1)\n",
    "plt.hist(data[\"SalaryNormalized\"], bins=20)\n",
    "\n",
    "plt.subplot(1, 2, 2)\n",
    "plt.hist(data[\"Log1pSalary\"], bins=20);"
   ]
  },
  {
   "cell_type": "markdown",
   "metadata": {},
   "source": [
    "Our task is to predict one number, __Log1pSalary__.\n",
    "\n",
    "To do so, our model can access a number of features:\n",
    "* Free text: __`Title`__ and  __`FullDescription`__\n",
    "* Categorical: __`Category`__, __`Company`__, __`LocationNormalized`__, __`ContractType`__, and __`ContractTime`__."
   ]
  },
  {
   "cell_type": "code",
   "execution_count": 12,
   "metadata": {},
   "outputs": [
    {
     "data": {
      "text/html": [
       "<div>\n",
       "<style scoped>\n",
       "    .dataframe tbody tr th:only-of-type {\n",
       "        vertical-align: middle;\n",
       "    }\n",
       "\n",
       "    .dataframe tbody tr th {\n",
       "        vertical-align: top;\n",
       "    }\n",
       "\n",
       "    .dataframe thead th {\n",
       "        text-align: right;\n",
       "    }\n",
       "</style>\n",
       "<table border=\"1\" class=\"dataframe\">\n",
       "  <thead>\n",
       "    <tr style=\"text-align: right;\">\n",
       "      <th></th>\n",
       "      <th>Id</th>\n",
       "      <th>Title</th>\n",
       "      <th>FullDescription</th>\n",
       "      <th>LocationRaw</th>\n",
       "      <th>LocationNormalized</th>\n",
       "      <th>ContractType</th>\n",
       "      <th>ContractTime</th>\n",
       "      <th>Company</th>\n",
       "      <th>Category</th>\n",
       "      <th>SalaryRaw</th>\n",
       "      <th>SalaryNormalized</th>\n",
       "      <th>SourceName</th>\n",
       "      <th>Log1pSalary</th>\n",
       "    </tr>\n",
       "  </thead>\n",
       "  <tbody>\n",
       "    <tr>\n",
       "      <th>134921</th>\n",
       "      <td>70255694</td>\n",
       "      <td>CNC Programmer (OFFLINE)</td>\n",
       "      <td>We are looking for a CNC Offline Programmer – ...</td>\n",
       "      <td>Birmingham West Midlands (County) West Midlands</td>\n",
       "      <td>UK</td>\n",
       "      <td>NaN</td>\n",
       "      <td>permanent</td>\n",
       "      <td>Spence Precision</td>\n",
       "      <td>Other/General Jobs</td>\n",
       "      <td>From 14 to 15 per hour</td>\n",
       "      <td>27840</td>\n",
       "      <td>totaljobs.com</td>\n",
       "      <td>10.234265</td>\n",
       "    </tr>\n",
       "    <tr>\n",
       "      <th>224858</th>\n",
       "      <td>72432334</td>\n",
       "      <td>Optometrist</td>\n",
       "      <td>Find ****’s of vacancies like this on the sect...</td>\n",
       "      <td>Yeovil, Somerset, S. W. England, Somerset</td>\n",
       "      <td>UK</td>\n",
       "      <td>NaN</td>\n",
       "      <td>NaN</td>\n",
       "      <td>Prospect Health</td>\n",
       "      <td>Healthcare &amp; Nursing Jobs</td>\n",
       "      <td>45000 - 50000 per annum Bonus</td>\n",
       "      <td>47500</td>\n",
       "      <td>jobs.opticianonline.net</td>\n",
       "      <td>10.768506</td>\n",
       "    </tr>\n",
       "    <tr>\n",
       "      <th>19147</th>\n",
       "      <td>67098828</td>\n",
       "      <td>Financial Accountant</td>\n",
       "      <td>This Financial Accountant job in central Edinb...</td>\n",
       "      <td>Scotland</td>\n",
       "      <td>Scotland</td>\n",
       "      <td>full_time</td>\n",
       "      <td>permanent</td>\n",
       "      <td>Hays Senior Finance</td>\n",
       "      <td>Accounting &amp; Finance Jobs</td>\n",
       "      <td>From 38,000 to 44,000 per year</td>\n",
       "      <td>41000</td>\n",
       "      <td>GAAPweb</td>\n",
       "      <td>10.621352</td>\n",
       "    </tr>\n",
       "  </tbody>\n",
       "</table>\n",
       "</div>"
      ],
      "text/plain": [
       "              Id                     Title  \\\n",
       "134921  70255694  CNC Programmer (OFFLINE)   \n",
       "224858  72432334               Optometrist   \n",
       "19147   67098828      Financial Accountant   \n",
       "\n",
       "                                          FullDescription  \\\n",
       "134921  We are looking for a CNC Offline Programmer – ...   \n",
       "224858  Find ****’s of vacancies like this on the sect...   \n",
       "19147   This Financial Accountant job in central Edinb...   \n",
       "\n",
       "                                            LocationRaw LocationNormalized  \\\n",
       "134921  Birmingham West Midlands (County) West Midlands                 UK   \n",
       "224858        Yeovil, Somerset, S. W. England, Somerset                 UK   \n",
       "19147                                          Scotland           Scotland   \n",
       "\n",
       "       ContractType ContractTime              Company  \\\n",
       "134921          NaN    permanent     Spence Precision   \n",
       "224858          NaN          NaN      Prospect Health   \n",
       "19147     full_time    permanent  Hays Senior Finance   \n",
       "\n",
       "                         Category                       SalaryRaw  \\\n",
       "134921         Other/General Jobs          From 14 to 15 per hour   \n",
       "224858  Healthcare & Nursing Jobs   45000 - 50000 per annum Bonus   \n",
       "19147   Accounting & Finance Jobs  From 38,000 to 44,000 per year   \n",
       "\n",
       "        SalaryNormalized               SourceName  Log1pSalary  \n",
       "134921             27840            totaljobs.com    10.234265  \n",
       "224858             47500  jobs.opticianonline.net    10.768506  \n",
       "19147              41000                  GAAPweb    10.621352  "
      ]
     },
     "execution_count": 12,
     "metadata": {},
     "output_type": "execute_result"
    }
   ],
   "source": [
    "text_columns = [\"Title\", \"FullDescription\"]\n",
    "categorical_columns = [\n",
    "    \"Category\",\n",
    "    \"Company\",\n",
    "    \"LocationNormalized\",\n",
    "    \"ContractType\",\n",
    "    \"ContractTime\",\n",
    "]\n",
    "TARGET_COLUMN = \"Log1pSalary\"\n",
    "\n",
    "# cast missing values to string \"NaN\"\n",
    "data[categorical_columns] = data[categorical_columns].fillna(\"NaN\")\n",
    "\n",
    "data.sample(3)"
   ]
  },
  {
   "cell_type": "markdown",
   "metadata": {},
   "source": [
    "### Preprocessing text data\n",
    "\n",
    "Just like last week, applying NLP to a problem begins from tokenization: splitting raw text into sequences of tokens (words, punctuation, etc).\n",
    "\n",
    "__Your task__ is to lowercase and tokenize all texts under `Title` and `FullDescription` columns. Store the tokenized data as a __space-separated__ string of tokens for performance reasons.\n",
    "\n",
    "It's okay to use nltk tokenizers. Assertions were designed for WordPunctTokenizer, slight deviations are okay."
   ]
  },
  {
   "cell_type": "code",
   "execution_count": 13,
   "metadata": {
    "scrolled": true
   },
   "outputs": [
    {
     "name": "stdout",
     "output_type": "stream",
     "text": [
      "Raw text:\n",
      "2         Mathematical Modeller / Simulation Analyst / O...\n",
      "100002    A successful and high achieving specialist sch...\n",
      "200002    Web Designer  HTML, CSS, JavaScript, Photoshop...\n",
      "Name: FullDescription, dtype: object\n"
     ]
    }
   ],
   "source": [
    "print(\"Raw text:\")\n",
    "print(data[\"FullDescription\"][2::100000])"
   ]
  },
  {
   "cell_type": "code",
   "execution_count": 14,
   "metadata": {},
   "outputs": [],
   "source": [
    "import nltk\n",
    "\n",
    "tokenizer = nltk.tokenize.WordPunctTokenizer()\n",
    "\n",
    "# TODO YOUR CODE HERE\n",
    "description_lowercased_tokenized = data[\"FullDescription\"].apply(\n",
    "    lambda desc: \" \".join(tokenizer.tokenize(str(desc).lower()))\n",
    ")\n",
    "title_lowercased = data[\"Title\"].apply(\n",
    "    lambda title: \" \".join(tokenizer.tokenize(str(title).lower()))\n",
    ")\n",
    "\n",
    "# YOUR CODE HERE\n",
    "data[\"FullDescription\"] = description_lowercased_tokenized\n",
    "data[\"Title\"] = title_lowercased"
   ]
  },
  {
   "cell_type": "markdown",
   "metadata": {},
   "source": [
    "Now we can assume that our text is a space-separated list of tokens:"
   ]
  },
  {
   "cell_type": "code",
   "execution_count": 15,
   "metadata": {},
   "outputs": [
    {
     "name": "stdout",
     "output_type": "stream",
     "text": [
      "Tokenized:\n",
      "2         mathematical modeller / simulation analyst / o...\n",
      "100002    a successful and high achieving specialist sch...\n",
      "200002    web designer html , css , javascript , photosh...\n",
      "Name: FullDescription, dtype: object\n"
     ]
    }
   ],
   "source": [
    "print(\"Tokenized:\")\n",
    "print(data[\"FullDescription\"][2::100000])\n",
    "assert (\n",
    "    data[\"FullDescription\"][2][:50]\n",
    "    == \"mathematical modeller / simulation analyst / opera\"\n",
    ")\n",
    "assert data[\"Title\"][54321] == \"international digital account manager ( german )\""
   ]
  },
  {
   "cell_type": "markdown",
   "metadata": {},
   "source": [
    "Not all words are equally useful. Some of them are typos or rare words that are only present a few times. \n",
    "\n",
    "Let's count how many times is each word present in the data so that we can build a \"white list\" of known words."
   ]
  },
  {
   "cell_type": "code",
   "execution_count": 16,
   "metadata": {},
   "outputs": [],
   "source": [
    "from collections import Counter\n",
    "\n",
    "token_counts = Counter()\n",
    "\n",
    "# Count how many times does each token occur in both \"Title\" and \"FullDescription\" in total\n",
    "# TODO <YOUR CODE>\n",
    "for str_ in np.concatenate([data[\"FullDescription\"].values, data[\"Title\"].values]):\n",
    "    token_counts.update(str(str_).split())"
   ]
  },
  {
   "cell_type": "code",
   "execution_count": 17,
   "metadata": {},
   "outputs": [
    {
     "name": "stdout",
     "output_type": "stream",
     "text": [
      "Total unique tokens : 202704\n",
      "('and', 2657388)\n",
      "('.', 2523216)\n",
      "(',', 2318606)\n",
      "('the', 2080994)\n",
      "('to', 2019884)\n",
      "...\n",
      "('improvemen', 1)\n",
      "('techniciancivil', 1)\n",
      "('mlnlycke', 1)\n",
      "Correct!\n"
     ]
    }
   ],
   "source": [
    "print(\"Total unique tokens :\", len(token_counts))\n",
    "print(\"\\n\".join(map(str, token_counts.most_common(n=5))))\n",
    "print(\"...\")\n",
    "print(\"\\n\".join(map(str, token_counts.most_common()[-3:])))\n",
    "\n",
    "assert token_counts.most_common(1)[0][1] in range(2600000, 2700000)\n",
    "assert len(token_counts) in range(200000, 210000)\n",
    "print(\"Correct!\")"
   ]
  },
  {
   "cell_type": "code",
   "execution_count": 18,
   "metadata": {},
   "outputs": [
    {
     "data": {
      "image/png": "[encoded data removed]",
      "text/plain": [
       "<Figure size 432x288 with 1 Axes>"
      ]
     },
     "metadata": {
      "needs_background": "light"
     },
     "output_type": "display_data"
    }
   ],
   "source": [
    "# Let's see how many words are there for each count\n",
    "plt.hist(list(token_counts.values()), range=[0, 10**4], bins=50, log=True)\n",
    "plt.xlabel(\"Word counts\");"
   ]
  },
  {
   "cell_type": "markdown",
   "metadata": {},
   "source": [
    "__Task 1.1__ Get a list of all tokens that occur at least 10 times."
   ]
  },
  {
   "cell_type": "code",
   "execution_count": 19,
   "metadata": {},
   "outputs": [],
   "source": [
    "min_count = 10\n",
    "\n",
    "# tokens from token_counts keys that had at least min_count occurrences throughout the dataset\n",
    "tokens = sorted(t for t, c in token_counts.items() if c >= min_count)\n",
    "# TODO<YOUR CODE HERE>\n",
    "\n",
    "# Add a special tokens for unknown and empty words\n",
    "UNK, PAD = \"UNK\", \"PAD\"\n",
    "tokens = [UNK, PAD] + tokens"
   ]
  },
  {
   "cell_type": "code",
   "execution_count": 20,
   "metadata": {},
   "outputs": [
    {
     "name": "stdout",
     "output_type": "stream",
     "text": [
      "Vocabulary size: 34158\n",
      "Correct!\n"
     ]
    }
   ],
   "source": [
    "print(\"Vocabulary size:\", len(tokens))\n",
    "assert type(tokens) == list\n",
    "assert len(tokens) in range(32000, 35000)\n",
    "assert \"me\" in tokens\n",
    "assert UNK in tokens\n",
    "print(\"Correct!\")"
   ]
  },
  {
   "cell_type": "markdown",
   "metadata": {},
   "source": [
    "__Task 1.2__ Build an inverse token index: a dictionary from token(string) to it's index in `tokens` (int)"
   ]
  },
  {
   "cell_type": "code",
   "execution_count": 21,
   "metadata": {},
   "outputs": [],
   "source": [
    "token_to_id = {token: i for i, token in enumerate(tokens)}"
   ]
  },
  {
   "cell_type": "code",
   "execution_count": 22,
   "metadata": {},
   "outputs": [
    {
     "name": "stdout",
     "output_type": "stream",
     "text": [
      "Correct!\n"
     ]
    }
   ],
   "source": [
    "assert isinstance(token_to_id, dict)\n",
    "assert len(token_to_id) == len(tokens)\n",
    "for tok in tokens:\n",
    "    assert tokens[token_to_id[tok]] == tok\n",
    "\n",
    "print(\"Correct!\")"
   ]
  },
  {
   "cell_type": "markdown",
   "metadata": {},
   "source": [
    "And finally, let's use the vocabulary you've built to map text lines into neural network-digestible matrices."
   ]
  },
  {
   "cell_type": "code",
   "execution_count": 23,
   "metadata": {},
   "outputs": [],
   "source": [
    "UNK_IX, PAD_IX = map(token_to_id.get, [UNK, PAD])\n",
    "\n",
    "\n",
    "def as_matrix(sequences, max_len=None):\n",
    "    \"\"\"Convert a list of tokens into a matrix with padding\"\"\"\n",
    "    if isinstance(sequences[0], str):\n",
    "        sequences = list(map(str.split, sequences))\n",
    "\n",
    "    max_len = min(max(map(len, sequences)), max_len or float(\"inf\"))\n",
    "\n",
    "    matrix = np.full((len(sequences), max_len), np.int32(PAD_IX))\n",
    "    for i, seq in enumerate(sequences):\n",
    "        row_ix = [token_to_id.get(word, UNK_IX) for word in seq[:max_len]]\n",
    "        matrix[i, : len(row_ix)] = row_ix\n",
    "\n",
    "    return matrix"
   ]
  },
  {
   "cell_type": "code",
   "execution_count": 24,
   "metadata": {},
   "outputs": [
    {
     "name": "stdout",
     "output_type": "stream",
     "text": [
      "Lines:\n",
      "engineering systems analyst\n",
      "hr assistant\n",
      "senior ec & i engineer\n",
      "\n",
      "Matrix:\n",
      "[[10807 30161  2166     1     1]\n",
      " [15020  2844     1     1     1]\n",
      " [27645 10201    16 15215 10804]]\n"
     ]
    }
   ],
   "source": [
    "print(\"Lines:\")\n",
    "print(\"\\n\".join(data[\"Title\"][::100000].values), end=\"\\n\\n\")\n",
    "print(\"Matrix:\")\n",
    "print(as_matrix(data[\"Title\"][::100000]))"
   ]
  },
  {
   "cell_type": "markdown",
   "metadata": {},
   "source": [
    "Now let's  encode the categirical data we have.\n",
    "\n",
    "As usual, we shall use one-hot encoding for simplicity. Kudos if you implement more advanced encodings: tf-idf, pseudo-time-series, etc."
   ]
  },
  {
   "cell_type": "code",
   "execution_count": 25,
   "metadata": {},
   "outputs": [
    {
     "data": {
      "text/plain": [
       "DictVectorizer(dtype=<class 'numpy.float32'>, sparse=False)"
      ]
     },
     "execution_count": 25,
     "metadata": {},
     "output_type": "execute_result"
    }
   ],
   "source": [
    "from sklearn.feature_extraction import DictVectorizer\n",
    "\n",
    "# we only consider top-1k most frequent companies to minimize memory usage\n",
    "top_companies, top_counts = zip(*Counter(data[\"Company\"]).most_common(1000))\n",
    "recognized_companies = set(top_companies)\n",
    "data[\"Company\"] = data[\"Company\"].apply(\n",
    "    lambda comp: comp if comp in recognized_companies else \"Other\"\n",
    ")\n",
    "\n",
    "categorical_vectorizer = DictVectorizer(dtype=np.float32, sparse=False)\n",
    "categorical_vectorizer.fit(data[categorical_columns].apply(dict, axis=1))"
   ]
  },
  {
   "cell_type": "markdown",
   "metadata": {},
   "source": [
    "### The deep learning part\n",
    "\n",
    "Once we've learned to tokenize the data, let's design a machine learning experiment.\n",
    "\n",
    "As before, we won't focus too much on validation, opting for a simple train-test split.\n",
    "\n",
    "__To be completely rigorous,__ we've committed a small crime here: we used the whole data for tokenization and vocabulary building. A more strict way would be to do that part on training set only. You may want to do that and measure the magnitude of changes."
   ]
  },
  {
   "cell_type": "code",
   "execution_count": 26,
   "metadata": {},
   "outputs": [
    {
     "name": "stdout",
     "output_type": "stream",
     "text": [
      "Train size =  195814\n",
      "Validation size =  48954\n"
     ]
    }
   ],
   "source": [
    "from sklearn.model_selection import train_test_split\n",
    "\n",
    "data_train, data_val = train_test_split(data, test_size=0.2, random_state=42)\n",
    "data_train.index = range(len(data_train))\n",
    "data_val.index = range(len(data_val))\n",
    "\n",
    "print(\"Train size = \", len(data_train))\n",
    "print(\"Validation size = \", len(data_val))"
   ]
  },
  {
   "cell_type": "code",
   "execution_count": 27,
   "metadata": {},
   "outputs": [],
   "source": [
    "# !pip3 install torch torchvision torchaudio --extra-index-url https://download.pytorch.org/whl/cu113"
   ]
  },
  {
   "cell_type": "code",
   "execution_count": 28,
   "metadata": {},
   "outputs": [],
   "source": [
    "import torch\n",
    "\n",
    "\n",
    "def to_tensors(batch, device):\n",
    "    batch_tensors = dict()\n",
    "    for key, arr in batch.items():\n",
    "        if key in [\"FullDescription\", \"Title\"]:\n",
    "            batch_tensors[key] = torch.tensor(arr, device=device, dtype=torch.int64)\n",
    "        else:\n",
    "            batch_tensors[key] = torch.tensor(arr, device=device)\n",
    "    return batch_tensors\n",
    "\n",
    "\n",
    "def make_batch(data, max_len=None, word_dropout=0, device=torch.device(\"cpu\")):\n",
    "    \"\"\"\n",
    "    Creates a keras-friendly dict from the batch data.\n",
    "    :param word_dropout: replaces token index with UNK_IX with this probability\n",
    "    :returns: a dict with {'title' : int64[batch, title_max_len]\n",
    "    \"\"\"\n",
    "    batch = {}\n",
    "    batch[\"Title\"] = as_matrix(data[\"Title\"].values, max_len)\n",
    "    batch[\"FullDescription\"] = as_matrix(data[\"FullDescription\"].values, max_len)\n",
    "    batch[\"Categorical\"] = categorical_vectorizer.transform(\n",
    "        data[categorical_columns].apply(dict, axis=1)\n",
    "    )\n",
    "\n",
    "    if word_dropout != 0:\n",
    "        batch[\"FullDescription\"] = apply_word_dropout(\n",
    "            batch[\"FullDescription\"], 1.0 - word_dropout\n",
    "        )\n",
    "\n",
    "    if TARGET_COLUMN in data.columns:\n",
    "        batch[TARGET_COLUMN] = data[TARGET_COLUMN].values\n",
    "\n",
    "    return to_tensors(batch, device)\n",
    "\n",
    "\n",
    "def apply_word_dropout(\n",
    "    matrix,\n",
    "    keep_prop,\n",
    "    replace_with=UNK_IX,\n",
    "    pad_ix=PAD_IX,\n",
    "):\n",
    "    dropout_mask = np.random.choice(2, np.shape(matrix), p=[keep_prop, 1 - keep_prop])\n",
    "    dropout_mask &= matrix != pad_ix\n",
    "    return np.choose(dropout_mask, [matrix, np.full_like(matrix, replace_with)])"
   ]
  },
  {
   "cell_type": "code",
   "execution_count": 29,
   "metadata": {
    "scrolled": true
   },
   "outputs": [
    {
     "data": {
      "text/plain": [
       "{'Title': tensor([[27645, 29893, 33674,     1,     1,     1,     1],\n",
       "         [29239,   197, 19175, 20042, 15554, 23162,  4051],\n",
       "         [10609, 30412, 17746,    33,  8705, 29157,    65]]),\n",
       " 'FullDescription': tensor([[27645, 29893, 33674, 32939,   982, 27645, 29893, 33674, 16451, 32939],\n",
       "         [29239,   197, 19175, 20042, 15554, 23162,  4051, 25511,   907,    82],\n",
       "         [30746, 21956, 20601,  6409, 16451,  8165, 27493,   982, 30412, 17746]]),\n",
       " 'Categorical': tensor([[0., 0., 0.,  ..., 0., 0., 0.],\n",
       "         [0., 0., 0.,  ..., 0., 0., 0.],\n",
       "         [0., 0., 0.,  ..., 0., 0., 0.]]),\n",
       " 'Log1pSalary': tensor([ 9.7115, 10.4631, 10.7144])}"
      ]
     },
     "execution_count": 29,
     "metadata": {},
     "output_type": "execute_result"
    }
   ],
   "source": [
    "batch_to_watch = make_batch(data_train[:3], max_len=10)\n",
    "batch_to_watch"
   ]
  },
  {
   "cell_type": "code",
   "execution_count": 32,
   "metadata": {},
   "outputs": [
    {
     "data": {
      "text/plain": [
       "torch.Size([3, 10])"
      ]
     },
     "execution_count": 32,
     "metadata": {},
     "output_type": "execute_result"
    }
   ],
   "source": [
    "batch_to_watch['FullDescription'].shape"
   ]
  },
  {
   "cell_type": "markdown",
   "metadata": {},
   "source": [
    "#### Architecture\n",
    "\n",
    "Our basic model consists of three branches:\n",
    "* Title encoder\n",
    "* Description encoder\n",
    "* Categorical features encoder\n",
    "\n",
    "We will then feed all 3 branches into one common network that predicts salary.\n",
    "\n",
    "![scheme](https://github.com/yandexdataschool/nlp_course/raw/master/resources/w2_conv_arch.png)"
   ]
  },
  {
   "cell_type": "markdown",
   "metadata": {},
   "source": [
    "This clearly doesn't fit into keras' __Sequential__ interface. To build such a network, one will have to use PyTorch."
   ]
  },
  {
   "cell_type": "code",
   "execution_count": 23,
   "metadata": {},
   "outputs": [],
   "source": [
    "import torch\n",
    "import torch.functional as F\n",
    "import torch.nn as nn\n",
    "from torch.autograd import Variable\n",
    "\n",
    "DEVICE = \"cuda\" if torch.cuda.is_available() else \"cpu\""
   ]
  },
  {
   "cell_type": "code",
   "execution_count": 24,
   "metadata": {},
   "outputs": [],
   "source": [
    "class GlobalMaxPooling(nn.Module):\n",
    "    def __init__(self, dim=-1):\n",
    "        super(self.__class__, self).__init__()\n",
    "        self.dim = dim\n",
    "\n",
    "    def forward(self, x):\n",
    "        return x.max(dim=self.dim)[0]"
   ]
  },
  {
   "cell_type": "code",
   "execution_count": 25,
   "metadata": {},
   "outputs": [],
   "source": [
    "class TitleEncoder(nn.Module):\n",
    "    def __init__(self, n_tokens=len(tokens), hid_size=64):\n",
    "        \"\"\"\n",
    "        A simple sequential encoder for titles.\n",
    "        x -> emb -> conv -> relu -> global_max\n",
    "        \"\"\"\n",
    "        super().__init__()\n",
    "        self.relu = nn.ReLU()\n",
    "        self.emb = nn.Embedding(n_tokens, 32, padding_idx=PAD_IX)\n",
    "        self.conv1 = nn.Conv1d(32, hid_size, kernel_size=3, padding=1)\n",
    "        self.pool1 = GlobalMaxPooling()\n",
    "\n",
    "    def forward(self, batch):\n",
    "        # YOUR CODE HERE\n",
    "\n",
    "        x = self.emb(batch)\n",
    "\n",
    "        # we transpose from [batch, time, units] to [batch, units, time] to fit Conv1d dim order\n",
    "        x = torch.transpose(x, 1, 2)\n",
    "\n",
    "        c = self.conv1(x)\n",
    "        p = self.pool1(self.relu(c))\n",
    "\n",
    "        return p"
   ]
  },
  {
   "cell_type": "code",
   "execution_count": 26,
   "metadata": {},
   "outputs": [
    {
     "name": "stdout",
     "output_type": "stream",
     "text": [
      "Seems fine\n"
     ]
    }
   ],
   "source": [
    "title_encoder = TitleEncoder(hid_size=64)\n",
    "\n",
    "dummy_x = Variable(torch.LongTensor(make_batch(data_train[:3], max_len=10)[\"Title\"]))\n",
    "dummy_v = title_encoder(dummy_x)\n",
    "\n",
    "assert isinstance(dummy_v, Variable)\n",
    "assert tuple(dummy_v.shape) == (dummy_x.shape[0], 64)\n",
    "\n",
    "del title_encoder\n",
    "print(\"Seems fine\")"
   ]
  },
  {
   "cell_type": "code",
   "execution_count": 27,
   "metadata": {},
   "outputs": [],
   "source": [
    "class DescriptionEncoder(nn.Module):\n",
    "    def __init__(self, n_tokens=len(tokens), hid_size=64):\n",
    "        \"\"\"\n",
    "        A simple sequential encoder for descriptions.\n",
    "        x -> emb -> conv -> relu -> global_max\n",
    "        \"\"\"\n",
    "        super().__init__()\n",
    "        self.relu = nn.ReLU()\n",
    "        self.emb = nn.Embedding(n_tokens, 32, padding_idx=PAD_IX)\n",
    "        self.conv1 = nn.Conv1d(32, hid_size, kernel_size=3, padding=1)\n",
    "        self.pool1 = GlobalMaxPooling()\n",
    "\n",
    "    def forward(self, batch):\n",
    "        # YOUR CODE HERE\n",
    "\n",
    "        x = self.emb(batch)\n",
    "\n",
    "        # we transpose from [batch, time, units] to [batch, units, time] to fit Conv1d dim order\n",
    "        x = torch.transpose(x, 1, 2)\n",
    "\n",
    "        c = self.conv1(x)\n",
    "        p = self.pool1(self.relu(c))\n",
    "\n",
    "        return p"
   ]
  },
  {
   "cell_type": "code",
   "execution_count": 28,
   "metadata": {},
   "outputs": [
    {
     "name": "stdout",
     "output_type": "stream",
     "text": [
      "Seems fine\n"
     ]
    }
   ],
   "source": [
    "description_encoder = DescriptionEncoder(hid_size=64)\n",
    "\n",
    "dummy_x = Variable(\n",
    "    torch.LongTensor(make_batch(data_train[:3], max_len=10)[\"FullDescription\"])\n",
    ")\n",
    "dummy_v = description_encoder(dummy_x)\n",
    "\n",
    "assert isinstance(dummy_v, Variable)\n",
    "assert tuple(dummy_v.shape) == (dummy_x.shape[0], 64)\n",
    "\n",
    "del description_encoder\n",
    "print(\"Seems fine\")"
   ]
  },
  {
   "cell_type": "code",
   "execution_count": 29,
   "metadata": {},
   "outputs": [],
   "source": [
    "class SalaryPredictor(nn.Module):\n",
    "    def __init__(\n",
    "        self, n_cat_features=len(categorical_vectorizer.vocabulary_), hid_size=64\n",
    "    ):\n",
    "        super().__init__()\n",
    "        #  YOUR CODE HERE\n",
    "        self.relu = nn.ReLU()\n",
    "        self.flatten = nn.Flatten()\n",
    "        self.title_encoder = TitleEncoder(hid_size=64)\n",
    "        self.desc_encoder = DescriptionEncoder(hid_size=64)\n",
    "\n",
    "        self.cat_dense1 = nn.Linear(n_cat_features, hid_size)\n",
    "        self.cat_dense2 = nn.Linear(hid_size, hid_size)\n",
    "\n",
    "        self.out_dense1 = nn.Linear(192, 100)\n",
    "        self.out_dense2 = nn.Linear(100, 1)\n",
    "\n",
    "    def forward(self, batch):\n",
    "        # process each data source with it's respective encoder\n",
    "        title_h = self.title_encoder(batch[\"Title\"])\n",
    "        desc_h = self.desc_encoder(batch[\"FullDescription\"])\n",
    "\n",
    "        # apply categorical encoder\n",
    "        cat_h = self.relu(self.cat_dense1(batch[\"Categorical\"]))\n",
    "        cat_h = self.cat_dense2(cat_h)\n",
    "\n",
    "        # concatenate all vectors together...\n",
    "        joint_h = torch.cat([title_h, desc_h, cat_h], dim=1)\n",
    "\n",
    "        # ... and stack a few more layers at the top\n",
    "        joint_h = self.out_dense1(joint_h)\n",
    "        joint_h = self.relu(joint_h)\n",
    "        joint_h = self.out_dense2(joint_h)\n",
    "\n",
    "        # Note 1: do not forget to select first columns, [:, 0], to get to 1d outputs\n",
    "        # Note 2: please do not use output nonlinearities.\n",
    "\n",
    "        return joint_h[:, 0]"
   ]
  },
  {
   "cell_type": "code",
   "execution_count": 30,
   "metadata": {},
   "outputs": [],
   "source": [
    "model = SalaryPredictor()\n",
    "batch = make_batch(data_train[:100])\n",
    "criterion = nn.MSELoss()\n",
    "\n",
    "dummy_pred = model(batch)\n",
    "dummy_loss = criterion(dummy_pred, batch[TARGET_COLUMN])\n",
    "assert dummy_pred.shape == torch.Size([100])\n",
    "assert (\n",
    "    len(torch.unique(dummy_pred)) > 20\n",
    "), \"model returns suspiciously few unique outputs. Check your initialization\"\n",
    "assert dummy_loss.ndim == 0 and 0.0 <= dummy_loss <= 250.0, \"make sure you minimize MSE\""
   ]
  },
  {
   "cell_type": "markdown",
   "metadata": {},
   "source": [
    "#### Training and evaluation\n",
    "\n",
    "As usual, we gonna feed our monster with random minibatches of data. \n",
    "\n",
    "As we train, we want to monitor not only loss function, which is computed in log-space, but also the actual error measured in dollars."
   ]
  },
  {
   "cell_type": "code",
   "execution_count": 31,
   "metadata": {},
   "outputs": [],
   "source": [
    "def iterate_minibatches(\n",
    "    data,\n",
    "    batch_size=256,\n",
    "    shuffle=True,\n",
    "    cycle=False,\n",
    "    device=torch.device(\"cpu\"),\n",
    "    **kwargs\n",
    "):\n",
    "    \"\"\"iterates minibatches of data in random order\"\"\"\n",
    "    while True:\n",
    "        indices = np.arange(len(data))\n",
    "        if shuffle:\n",
    "            indices = np.random.permutation(indices)\n",
    "\n",
    "        for start in range(0, len(indices), batch_size):\n",
    "            batch = make_batch(data.iloc[indices[start : start + batch_size]], **kwargs)\n",
    "            yield batch\n",
    "\n",
    "        if not cycle:\n",
    "            break"
   ]
  },
  {
   "cell_type": "markdown",
   "metadata": {},
   "source": [
    "### Model training\n",
    "\n",
    "We can now fit our model the usual minibatch way. The interesting part is that we train on an infinite stream of minibatches, produced by `iterate_minibatches` function."
   ]
  },
  {
   "cell_type": "code",
   "execution_count": 32,
   "metadata": {},
   "outputs": [],
   "source": [
    "from tqdm.notebook import tqdm\n",
    "\n",
    "BATCH_SIZE = 16\n",
    "EPOCHS = 5\n",
    "DEVICE = torch.device(\"cpu\")"
   ]
  },
  {
   "cell_type": "code",
   "execution_count": 33,
   "metadata": {},
   "outputs": [],
   "source": [
    "def print_metrics(model, data, batch_size=BATCH_SIZE, name=\"\", **kw):\n",
    "    squared_error = abs_error = num_samples = 0.0\n",
    "    model.eval()\n",
    "    with torch.no_grad():\n",
    "        for batch in iterate_minibatches(\n",
    "            data, batch_size=batch_size, shuffle=False, **kw\n",
    "        ):\n",
    "            batch_pred = model(batch)\n",
    "            squared_error += torch.sum(torch.square(batch_pred - batch[TARGET_COLUMN]))\n",
    "            abs_error += torch.sum(torch.abs(batch_pred - batch[TARGET_COLUMN]))\n",
    "            num_samples += len(batch_pred)\n",
    "    mse = squared_error.detach().cpu().numpy() / num_samples\n",
    "    mae = abs_error.detach().cpu().numpy() / num_samples\n",
    "    print(\"%s results:\" % (name or \"\"))\n",
    "    print(\"Mean square error: %.5f\" % mse)\n",
    "    print(\"Mean absolute error: %.5f\" % mae)\n",
    "    return mse, mae"
   ]
  },
  {
   "cell_type": "code",
   "execution_count": 34,
   "metadata": {},
   "outputs": [
    {
     "name": "stdout",
     "output_type": "stream",
     "text": [
      "epoch: 0\n"
     ]
    },
    {
     "data": {
      "application/vnd.jupyter.widget-view+json": {
       "model_id": "2063350a831142d188ac0f7e3cdbc77e",
       "version_major": 2,
       "version_minor": 0
      },
      "text/plain": [
       "  0%|          | 0/12238 [00:00<?, ?it/s]"
      ]
     },
     "metadata": {},
     "output_type": "display_data"
    },
    {
     "name": "stdout",
     "output_type": "stream",
     "text": [
      " results:\n",
      "Mean square error: 0.10693\n",
      "Mean absolute error: 0.24882\n",
      "epoch: 1\n"
     ]
    },
    {
     "data": {
      "application/vnd.jupyter.widget-view+json": {
       "model_id": "1fe966e09f004e81848cc0e4edcff6bd",
       "version_major": 2,
       "version_minor": 0
      },
      "text/plain": [
       "  0%|          | 0/12238 [00:00<?, ?it/s]"
      ]
     },
     "metadata": {},
     "output_type": "display_data"
    },
    {
     "name": "stdout",
     "output_type": "stream",
     "text": [
      " results:\n",
      "Mean square error: 0.08706\n",
      "Mean absolute error: 0.22260\n",
      "epoch: 2\n"
     ]
    },
    {
     "data": {
      "application/vnd.jupyter.widget-view+json": {
       "model_id": "206dbec9d8284d7eb1fed5a9a6e8ff20",
       "version_major": 2,
       "version_minor": 0
      },
      "text/plain": [
       "  0%|          | 0/12238 [00:00<?, ?it/s]"
      ]
     },
     "metadata": {},
     "output_type": "display_data"
    },
    {
     "name": "stdout",
     "output_type": "stream",
     "text": [
      " results:\n",
      "Mean square error: 0.08070\n",
      "Mean absolute error: 0.21257\n",
      "epoch: 3\n"
     ]
    },
    {
     "data": {
      "application/vnd.jupyter.widget-view+json": {
       "model_id": "209a297c1ea3430e81924efefaee5f87",
       "version_major": 2,
       "version_minor": 0
      },
      "text/plain": [
       "  0%|          | 0/12238 [00:00<?, ?it/s]"
      ]
     },
     "metadata": {},
     "output_type": "display_data"
    },
    {
     "name": "stdout",
     "output_type": "stream",
     "text": [
      " results:\n",
      "Mean square error: 0.07941\n",
      "Mean absolute error: 0.21070\n",
      "epoch: 4\n"
     ]
    },
    {
     "data": {
      "application/vnd.jupyter.widget-view+json": {
       "model_id": "506c6a00f5bf4bde8ee452a53fa76119",
       "version_major": 2,
       "version_minor": 0
      },
      "text/plain": [
       "  0%|          | 0/12238 [00:00<?, ?it/s]"
      ]
     },
     "metadata": {},
     "output_type": "display_data"
    },
    {
     "name": "stdout",
     "output_type": "stream",
     "text": [
      " results:\n",
      "Mean square error: 0.07734\n",
      "Mean absolute error: 0.21006\n"
     ]
    }
   ],
   "source": [
    "model = SalaryPredictor().to(DEVICE)\n",
    "criterion = nn.MSELoss(reduction=\"sum\")\n",
    "optimizer = torch.optim.Adam(model.parameters(), lr=1e-4)\n",
    "\n",
    "for epoch in range(EPOCHS):\n",
    "    print(f\"epoch: {epoch}\")\n",
    "    model.train()\n",
    "    for i, batch in tqdm(\n",
    "        enumerate(\n",
    "            iterate_minibatches(data_train, batch_size=BATCH_SIZE, device=DEVICE)\n",
    "        ),\n",
    "        total=len(data_train) // BATCH_SIZE,\n",
    "    ):\n",
    "        pred = model(batch)\n",
    "        loss = criterion(pred, batch[TARGET_COLUMN])\n",
    "        optimizer.zero_grad()\n",
    "        loss.backward()\n",
    "        optimizer.step()\n",
    "\n",
    "    print_metrics(model, data_val)"
   ]
  },
  {
   "cell_type": "code",
   "execution_count": 116,
   "metadata": {},
   "outputs": [],
   "source": [
    "torch.save(model, \"model.pth\")"
   ]
  },
  {
   "cell_type": "markdown",
   "metadata": {},
   "source": [
    "### Bonus part: explaining model predictions\n",
    "\n",
    "It's usually a good idea to understand how your model works before you let it make actual decisions. It's simple for linear models: just see which words learned positive or negative weights. However, its much harder for neural networks that learn complex nonlinear dependencies.\n",
    "\n",
    "There are, however, some ways to look inside the black box:\n",
    "* Seeing how model responds to input perturbations\n",
    "* Finding inputs that maximize/minimize activation of some chosen neurons (_read more [on distill.pub](https://distill.pub/2018/building-blocks/)_)\n",
    "* Building local linear approximations to your neural network: [article](https://arxiv.org/abs/1602.04938), [eli5 library](https://github.com/TeamHG-Memex/eli5/tree/master/eli5/formatters)\n",
    "\n",
    "Today we gonna try the first method just because it's the simplest one."
   ]
  },
  {
   "cell_type": "code",
   "execution_count": 62,
   "metadata": {},
   "outputs": [],
   "source": [
    "def predict(model, batch):\n",
    "    return model(batch).detach().numpy()"
   ]
  },
  {
   "cell_type": "code",
   "execution_count": 66,
   "metadata": {},
   "outputs": [],
   "source": [
    "def explain(model, sample, col_name=\"Title\"):\n",
    "    \"\"\"Computes the effect each word had on model predictions\"\"\"\n",
    "    sample = dict(sample)\n",
    "    sample_col_tokens = [\n",
    "        tokens[token_to_id.get(tok, 0)] for tok in sample[col_name].split()\n",
    "    ]\n",
    "    data_drop_one_token = pd.DataFrame([sample] * (len(sample_col_tokens) + 1))\n",
    "\n",
    "    for drop_i in range(len(sample_col_tokens)):\n",
    "        data_drop_one_token.loc[drop_i, col_name] = \" \".join(\n",
    "            UNK if i == drop_i else tok for i, tok in enumerate(sample_col_tokens)\n",
    "        )\n",
    "    *predictions_drop_one_token, baseline_pred = predict(\n",
    "        model, make_batch(data_drop_one_token)\n",
    "    )\n",
    "\n",
    "    diffs = baseline_pred - predictions_drop_one_token\n",
    "    return list(zip(sample_col_tokens, diffs))"
   ]
  },
  {
   "cell_type": "code",
   "execution_count": 81,
   "metadata": {},
   "outputs": [],
   "source": [
    "from IPython.display import HTML, display_html\n",
    "\n",
    "\n",
    "def draw_html(\n",
    "    tokens_and_weights,\n",
    "    cmap=plt.get_cmap(\"bwr\"),\n",
    "    display=True,\n",
    "    token_template=\"\"\"<span style=\"background-color: {color_hex}\">{token}</span>\"\"\",\n",
    "    font_style=\"font-size:14px;\",\n",
    "):\n",
    "    def get_color_hex(weight):\n",
    "        rgba = cmap(1.0 / (1 + np.exp(weight)), bytes=True)\n",
    "        return \"#%02X%02X%02X\" % rgba[:3]\n",
    "\n",
    "    tokens_html = [\n",
    "        token_template.format(token=token, color_hex=get_color_hex(weight))\n",
    "        for token, weight in tokens_and_weights\n",
    "    ]\n",
    "\n",
    "    raw_html = \"\"\"<p style=\"{}\">{}</p>\"\"\".format(font_style, \" \".join(tokens_html))\n",
    "    if display:\n",
    "        display_html(HTML(raw_html))\n",
    "\n",
    "    return raw_html"
   ]
  },
  {
   "cell_type": "code",
   "execution_count": 82,
   "metadata": {},
   "outputs": [
    {
     "data": {
      "text/html": [
       "<p style=\"font-size:20px;\"><span style=\"background-color: #FFE6E6\">sales</span> <span style=\"background-color: #F6F6FF\">specialist</span> <span style=\"background-color: #AAAAFF\">iv</span> <span style=\"background-color: #BABAFF\">access</span> <span style=\"background-color: #C2C2FF\">and</span> <span style=\"background-color: #D6D6FF\">infusion</span></p>"
      ]
     },
     "metadata": {},
     "output_type": "display_data"
    },
    {
     "data": {
      "text/html": [
       "<p style=\"font-size:14px;\"><span style=\"background-color: #FFF8F8\">sales</span> <span style=\"background-color: #FFFEFE\">representative</span> <span style=\"background-color: #FFFEFE\">medical</span> <span style=\"background-color: #FFFAFA\">sales</span> <span style=\"background-color: #FFFEFE\">iv</span> <span style=\"background-color: #FFFEFE\">access</span> <span style=\"background-color: #FFFEFE\">and</span> <span style=\"background-color: #FFFEFE\">infusion</span> <span style=\"background-color: #FFFEFE\">an</span> <span style=\"background-color: #FFFEFE\">opportunity</span> <span style=\"background-color: #FFECEC\">to</span> <span style=\"background-color: #FFFEFE\">work</span> <span style=\"background-color: #FFFEFE\">for</span> <span style=\"background-color: #FFFEFE\">the</span> <span style=\"background-color: #FFEAEA\">industry</span> <span style=\"background-color: #FFE6E6\">leading</span> <span style=\"background-color: #FFDADA\">manufacturer</span> <span style=\"background-color: #FFFEFE\">of</span> <span style=\"background-color: #FFFEFE\">iv</span> <span style=\"background-color: #FFFEFE\">access</span> <span style=\"background-color: #FFFEFE\">and</span> <span style=\"background-color: #FFFEFE\">infusion</span> <span style=\"background-color: #FFFEFE\">solutions</span> <span style=\"background-color: #FFFEFE\">.</span> <span style=\"background-color: #FFFCFC\">formally</span> <span style=\"background-color: #FFFEFE\">recognised</span> <span style=\"background-color: #FFFEFE\">as</span> <span style=\"background-color: #F6F6FF\">the</span> <span style=\"background-color: #FFFEFE\">number</span> <span style=\"background-color: #FFFEFE\">****</span> <span style=\"background-color: #FFEEEE\">company</span> <span style=\"background-color: #FFFEFE\">in</span> <span style=\"background-color: #FFFEFE\">this</span> <span style=\"background-color: #DCDCFF\">market</span> <span style=\"background-color: #DCDCFF\">space</span> <span style=\"background-color: #FFF6F6\">,</span> <span style=\"background-color: #FFFEFE\">our</span> <span style=\"background-color: #F8F8FF\">client</span> <span style=\"background-color: #F8F8FF\">are</span> <span style=\"background-color: #F8F8FF\">an</span> <span style=\"background-color: #FFFEFE\">ethical</span> <span style=\"background-color: #FFFCFC\">and</span> <span style=\"background-color: #FFF0F0\">dynamic</span> <span style=\"background-color: #FFFEFE\">organisation</span> <span style=\"background-color: #FFFCFC\">absolutely</span> <span style=\"background-color: #FFFEFE\">committed</span> <span style=\"background-color: #FFFEFE\">to</span> <span style=\"background-color: #FFFEFE\">the</span> <span style=\"background-color: #FFFEFE\">advancement</span> <span style=\"background-color: #FFFEFE\">of</span> <span style=\"background-color: #FFFEFE\">innovative</span> <span style=\"background-color: #FEFEFF\">technologies</span> <span style=\"background-color: #FAFAFF\">.</span> <span style=\"background-color: #F8F8FF\">job</span> <span style=\"background-color: #FFF0F0\">title</span> <span style=\"background-color: #FFF2F2\">:</span> <span style=\"background-color: #FFFEFE\">sales</span> <span style=\"background-color: #FFFEFE\">specialist</span> <span style=\"background-color: #FFFEFE\">iv</span> <span style=\"background-color: #FFFEFE\">access</span> <span style=\"background-color: #FFFEFE\">and</span> <span style=\"background-color: #FFFEFE\">infusion</span> <span style=\"background-color: #FFFEFE\">selling</span> <span style=\"background-color: #FFFEFE\">:</span> <span style=\"background-color: #FFFEFE\">medication</span> <span style=\"background-color: #FFFEFE\">delivery</span> <span style=\"background-color: #FFFEFE\">solutions</span> <span style=\"background-color: #FFF2F2\">selling</span> <span style=\"background-color: #FFF4F4\">to</span> <span style=\"background-color: #ECECFF\">:</span> <span style=\"background-color: #FFFEFE\">iv</span> <span style=\"background-color: #FFFEFE\">teams</span> <span style=\"background-color: #FFFEFE\">,</span> <span style=\"background-color: #FFFEFE\">infection</span> <span style=\"background-color: #FEFEFF\">control</span> <span style=\"background-color: #FFFEFE\">,</span> <span style=\"background-color: #FFE4E4\">lead</span> <span style=\"background-color: #FFFEFE\">intensive</span> <span style=\"background-color: #FFF8F8\">care</span> <span style=\"background-color: #FFFEFE\">nurse</span> <span style=\"background-color: #FFFEFE\">specialists</span> <span style=\"background-color: #FFFAFA\">,</span> <span style=\"background-color: #DADAFF\">ward</span> <span style=\"background-color: #FCFCFF\">managers</span> <span style=\"background-color: #FEFEFF\">territory</span> <span style=\"background-color: #FFE6E6\">:</span> <span style=\"background-color: #FFE6E6\">east</span> <span style=\"background-color: #FFFEFE\">midlands</span> <span style=\"background-color: #FFF6F6\">location</span> <span style=\"background-color: #FFFEFE\">:</span> <span style=\"background-color: #FFC3C3\">east</span> <span style=\"background-color: #FFF2F2\">midlands</span> <span style=\"background-color: #EEEEFF\">package</span> <span style=\"background-color: #FFFCFC\">:</span> <span style=\"background-color: #FFFEFE\">basic</span> <span style=\"background-color: #FFFEFE\">:</span> <span style=\"background-color: #FFFEFE\">****</span> <span style=\"background-color: #FFFEFE\">k</span> <span style=\"background-color: #FFFEFE\">****</span> <span style=\"background-color: #FFFEFE\">k</span> <span style=\"background-color: #FFFCFC\">,</span> <span style=\"background-color: #FFFEFE\">uncapped</span> <span style=\"background-color: #FFFCFC\">bonus</span> <span style=\"background-color: #FFFEFE\">in</span> <span style=\"background-color: #FFFEFE\">addition</span> <span style=\"background-color: #FFFEFE\">,</span> <span style=\"background-color: #FFF8F8\">full</span> <span style=\"background-color: #FFFEFE\">corporate</span> <span style=\"background-color: #FFF4F4\">benefits</span> <span style=\"background-color: #FAFAFF\">company</span> <span style=\"background-color: #FCFCFF\">information</span> <span style=\"background-color: #FCFCFF\">hugely</span> <span style=\"background-color: #FFF6F6\">ethical</span> <span style=\"background-color: #FFFEFE\">and</span> <span style=\"background-color: #FFFEFE\">professional</span> <span style=\"background-color: #FEFEFF\">global</span> <span style=\"background-color: #FFF6F6\">organisation</span> <span style=\"background-color: #FEFEFF\">extremely</span> <span style=\"background-color: #FFF8F8\">well</span> <span style=\"background-color: #FFEEEE\">established</span> <span style=\"background-color: #FFF2F2\">in</span> <span style=\"background-color: #FFFEFE\">the</span> <span style=\"background-color: #FFFEFE\">uk</span> <span style=\"background-color: #FFFAFA\">the</span> <span style=\"background-color: #E6E6FF\">market</span> <span style=\"background-color: #FFE8E8\">leader</span> <span style=\"background-color: #FAFAFF\">across</span> <span style=\"background-color: #FEFEFF\">all</span> <span style=\"background-color: #F3F3FF\">of</span> <span style=\"background-color: #FFFEFE\">their</span> <span style=\"background-color: #FFF6F6\">core</span> <span style=\"background-color: #FFFEFE\">business</span> <span style=\"background-color: #FFFEFE\">areas</span> <span style=\"background-color: #FFFCFC\">focus</span> <span style=\"background-color: #FFFCFC\">on</span> <span style=\"background-color: #FFFEFE\">providing</span> <span style=\"background-color: #FFFCFC\">cutting</span> <span style=\"background-color: #F6F6FF\">edge</span> <span style=\"background-color: #FEFEFF\">solutions</span> <span style=\"background-color: #FFFEFE\">along</span> <span style=\"background-color: #FFFEFE\">with</span> <span style=\"background-color: #FFFEFE\">outstanding</span> <span style=\"background-color: #FFFCFC\">service</span> <span style=\"background-color: #FFFEFE\">and</span> <span style=\"background-color: #F8F8FF\">support</span> <span style=\"background-color: #F8F8FF\">a</span> <span style=\"background-color: #F8F8FF\">business</span> <span style=\"background-color: #FFFAFA\">that</span> <span style=\"background-color: #FFFEFE\">retain</span> <span style=\"background-color: #FEFEFF\">talented</span> <span style=\"background-color: #FEFEFF\">personnel</span> <span style=\"background-color: #FEFEFF\">by</span> <span style=\"background-color: #FFFCFC\">offering</span> <span style=\"background-color: #FFEEEE\">a</span> <span style=\"background-color: #FAFAFF\">strong</span> <span style=\"background-color: #FCFCFF\">platform</span> <span style=\"background-color: #FFEEEE\">for</span> <span style=\"background-color: #FFFEFE\">career</span> <span style=\"background-color: #FFF6F6\">development</span> <span style=\"background-color: #FFF2F2\">sales</span> <span style=\"background-color: #FFFEFE\">specialist</span> <span style=\"background-color: #FFFEFE\">iv</span> <span style=\"background-color: #FFFEFE\">access</span> <span style=\"background-color: #FFFEFE\">and</span> <span style=\"background-color: #FFFEFE\">infusion</span> <span style=\"background-color: #FFFEFE\">you</span> <span style=\"background-color: #FFFEFE\">must</span> <span style=\"background-color: #FFFEFE\">have</span> <span style=\"background-color: #FFFCFC\">/</span> <span style=\"background-color: #FFF8F8\">be</span> <span style=\"background-color: #FFF8F8\">the</span> <span style=\"background-color: #FFF8F8\">following</span> <span style=\"background-color: #FFE4E4\">at</span> <span style=\"background-color: #F8F8FF\">least</span> <span style=\"background-color: #FFE6E6\">2</span> <span style=\"background-color: #FEFEFF\">years</span> <span style=\"background-color: #F0F0FF\">medical</span> <span style=\"background-color: #FFE6E6\">device</span> <span style=\"background-color: #FFF8F8\">sales</span> <span style=\"background-color: #FFFEFE\">experience</span> <span style=\"background-color: #F8F8FF\">.</span> <span style=\"background-color: #F8F8FF\">candidates</span> <span style=\"background-color: #FFFCFC\">who</span> <span style=\"background-color: #FFFEFE\">have</span> <span style=\"background-color: #FFF8F8\">sold</span> <span style=\"background-color: #FFFAFA\">disposables</span> <span style=\"background-color: #FFFEFE\">/</span> <span style=\"background-color: #FFFEFE\">consumables</span> <span style=\"background-color: #FFF2F2\">or</span> <span style=\"background-color: #FFFEFE\">similar</span> <span style=\"background-color: #FFF4F4\">into</span> <span style=\"background-color: #FFFEFE\">hospitals</span> <span style=\"background-color: #FFFEFE\">would</span> <span style=\"background-color: #FCFCFF\">be</span> <span style=\"background-color: #FCFCFF\">of</span> <span style=\"background-color: #F8F8FF\">particular</span> <span style=\"background-color: #FCFCFF\">interest</span> <span style=\"background-color: #FCFCFF\">.</span> <span style=\"background-color: #FFFEFE\">candidates</span> <span style=\"background-color: #FFF6F6\">must</span> <span style=\"background-color: #F3F3FF\">have</span> <span style=\"background-color: #FFFEFE\">sold</span> <span style=\"background-color: #FFFAFA\">into</span> <span style=\"background-color: #FCFCFF\">hospitals</span> <span style=\"background-color: #FAFAFF\">demonstrable</span> <span style=\"background-color: #FAFAFF\">performance</span> <span style=\"background-color: #FFFEFE\">and</span> <span style=\"background-color: #FFFEFE\">achievements</span> <span style=\"background-color: #FFFEFE\">so</span> <span style=\"background-color: #FFFEFE\">far</span> <span style=\"background-color: #FEFEFF\">personable</span> <span style=\"background-color: #FEFEFF\">,</span> <span style=\"background-color: #FEFEFF\">adaptable</span> <span style=\"background-color: #FFFEFE\">and</span> <span style=\"background-color: #FFFEFE\">willing</span> <span style=\"background-color: #FFE6E6\">to</span> <span style=\"background-color: #FFDCDC\">learn</span> <span style=\"background-color: #FFDCDC\">keen</span> <span style=\"background-color: #FFF2F2\">and</span> <span style=\"background-color: #FFFEFE\">eager</span> <span style=\"background-color: #FFFEFE\">to</span> <span style=\"background-color: #FFFEFE\">be</span> <span style=\"background-color: #FCFCFF\">a</span> <span style=\"background-color: #FCFCFF\">success</span> <span style=\"background-color: #FCFCFF\">candidates</span> <span style=\"background-color: #FFF6F6\">must</span> <span style=\"background-color: #FFFEFE\">have</span> <span style=\"background-color: #FFFCFC\">a</span> <span style=\"background-color: #FFFEFE\">degree</span> <span style=\"background-color: #FFFEFE\">or</span> <span style=\"background-color: #FFFEFE\">at</span> <span style=\"background-color: #FFFEFE\">least</span> <span style=\"background-color: #FFFEFE\">be</span> <span style=\"background-color: #FFFEFE\">able</span> <span style=\"background-color: #FFFEFE\">to</span> <span style=\"background-color: #FFFCFC\">show</span> <span style=\"background-color: #FFFEFE\">a</span> <span style=\"background-color: #ECECFF\">strong</span> <span style=\"background-color: #FFFEFE\">ability</span> <span style=\"background-color: #FFFEFE\">to</span> <span style=\"background-color: #FFFEFE\">learn</span> <span style=\"background-color: #EAEAFF\">role</span> <span style=\"background-color: #FFF2F2\">information</span> <span style=\"background-color: #FFF8F8\">managing</span> <span style=\"background-color: #FFFAFA\">the</span> <span style=\"background-color: #FFFCFC\">east</span> <span style=\"background-color: #FFFEFE\">midlands</span> <span style=\"background-color: #E2E2FF\">region</span> <span style=\"background-color: #FFF0F0\">selling</span> <span style=\"background-color: #F8F8FF\">across</span> <span style=\"background-color: #FFFEFE\">the</span> <span style=\"background-color: #FFFAFA\">company</span> <span style=\"background-color: #FFFEFE\">'</span> <span style=\"background-color: #FFFEFE\">s</span> <span style=\"background-color: #FFFEFE\">range</span> <span style=\"background-color: #FFFEFE\">of</span> <span style=\"background-color: #FFFEFE\">iv</span> <span style=\"background-color: #FFFEFE\">and</span> <span style=\"background-color: #FFFEFE\">infusion</span> <span style=\"background-color: #FFFEFE\">solutions</span> <span style=\"background-color: #FFFEFE\">portfolio</span> <span style=\"background-color: #FFFEFE\">selling</span> <span style=\"background-color: #FEFEFF\">into</span> <span style=\"background-color: #FFECEC\">lead</span> <span style=\"background-color: #FEFEFF\">intensive</span> <span style=\"background-color: #FFF8F8\">care</span> <span style=\"background-color: #FFFEFE\">nurse</span> <span style=\"background-color: #FFFEFE\">specialists</span> <span style=\"background-color: #FFFAFA\">,</span> <span style=\"background-color: #FFFEFE\">ward</span> <span style=\"background-color: #FFFEFE\">managers</span> <span style=\"background-color: #FFFEFE\">,</span> <span style=\"background-color: #FFFEFE\">iv</span> <span style=\"background-color: #FFFEFE\">teams</span> <span style=\"background-color: #FFFEFE\">,</span> <span style=\"background-color: #FFFCFC\">infection</span> <span style=\"background-color: #FFFEFE\">control</span> <span style=\"background-color: #FCFCFF\">teams</span> <span style=\"background-color: #FAFAFF\">,</span> <span style=\"background-color: #FAFAFF\">procurement</span> <span style=\"background-color: #FFFCFC\">sales</span> <span style=\"background-color: #FFFEFE\">specialist</span> <span style=\"background-color: #FFFEFE\">iv</span> <span style=\"background-color: #FFFEFE\">access</span> <span style=\"background-color: #FFFEFE\">and</span> <span style=\"background-color: #FFFEFE\">infusion</span> <span style=\"background-color: #FFFEFE\">candidates</span> <span style=\"background-color: #FFFCFC\">must</span> <span style=\"background-color: #FFFEFE\">be</span> <span style=\"background-color: #FFDCDC\">eligible</span> <span style=\"background-color: #FFFEFE\">to</span> <span style=\"background-color: #FFD8D8\">work</span> <span style=\"background-color: #FFFEFE\">and</span> <span style=\"background-color: #FFF4F4\">live</span> <span style=\"background-color: #FFFEFE\">in</span> <span style=\"background-color: #FEFEFF\">the</span> <span style=\"background-color: #FEFEFF\">uk</span> <span style=\"background-color: #FFF8F8\">.</span> <span style=\"background-color: #E8E8FF\">please</span> <span style=\"background-color: #E8E8FF\">contact</span> <span style=\"background-color: #FAFAFF\">allan</span> <span style=\"background-color: #FEFEFF\">waller</span> <span style=\"background-color: #FEFEFF\">on</span> <span style=\"background-color: #FEFEFF\">****</span> <span style=\"background-color: #FFFEFE\">****</span> <span style=\"background-color: #FFFEFE\">****</span> <span style=\"background-color: #FFFEFE\">or</span> <span style=\"background-color: #FFFEFE\">please</span> <span style=\"background-color: #FFFEFE\">hit</span> <span style=\"background-color: #FFFCFC\">the</span> <span style=\"background-color: #FCFCFF\">apply</span> <span style=\"background-color: #FCFCFF\">button</span> <span style=\"background-color: #FFFEFE\">.</span> <span style=\"background-color: #FFFEFE\">this</span> <span style=\"background-color: #FFFCFC\">job</span> <span style=\"background-color: #FFFEFE\">was</span> <span style=\"background-color: #FFFEFE\">originally</span> <span style=\"background-color: #FFFEFE\">posted</span> <span style=\"background-color: #FFFEFE\">as</span> <span style=\"background-color: #FFEEEE\">www</span> <span style=\"background-color: #FCFCFF\">.</span> <span style=\"background-color: #FCFCFF\">salestarget</span> <span style=\"background-color: #FFFEFE\">.</span> <span style=\"background-color: #FFFEFE\">co</span> <span style=\"background-color: #FFFEFE\">.</span> <span style=\"background-color: #FFFEFE\">uk</span> <span style=\"background-color: #FFFEFE\">/</span> <span style=\"background-color: #FFFEFE\">jobseeking</span> <span style=\"background-color: #FEFEFF\">/</span> <span style=\"background-color: #FFFEFE\">UNK</span> <span style=\"background-color: #FFFEFE\">****</span></p>"
      ]
     },
     "metadata": {},
     "output_type": "display_data"
    }
   ],
   "source": [
    "i = 36605\n",
    "tokens_and_weights = explain(model, data.loc[i], \"Title\")\n",
    "draw_html(\n",
    "    [(tok, weight * 5) for tok, weight in tokens_and_weights],\n",
    "    font_style=\"font-size:20px;\",\n",
    ")\n",
    "\n",
    "tokens_and_weights = explain(model, data.loc[i], \"FullDescription\")\n",
    "draw_html([(tok, weight * 10) for tok, weight in tokens_and_weights]);"
   ]
  },
  {
   "cell_type": "code",
   "execution_count": 86,
   "metadata": {},
   "outputs": [
    {
     "data": {
      "text/html": [
       "<p style=\"font-size:20px;\"><span style=\"background-color: #8E8EFF\">cleaning</span> <span style=\"background-color: #FFF2F2\">operative</span></p>"
      ]
     },
     "metadata": {},
     "output_type": "display_data"
    },
    {
     "data": {
      "text/html": [
       "<p style=\"font-size:14px;\"><span style=\"background-color: #EAEAFF\">12</span> <span style=\"background-color: #ECECFF\">.</span> <span style=\"background-color: #CACAFF\">5</span> <span style=\"background-color: #FF8686\">hours</span> <span style=\"background-color: #FFA6A6\">per</span> <span style=\"background-color: #CACAFF\">week</span> <span style=\"background-color: #FFF6F6\">monday</span> <span style=\"background-color: #FFB2B2\">friday</span> <span style=\"background-color: #C3C3FF\">9am</span> <span style=\"background-color: #FFB6B6\">11</span> <span style=\"background-color: #EAEAFF\">.</span> <span style=\"background-color: #CACAFF\">30am</span> <span style=\"background-color: #FFEAEA\">duties</span> <span style=\"background-color: #FEFEFF\">to</span> <span style=\"background-color: #E6E6FF\">include</span> <span style=\"background-color: #EAEAFF\">sweeping</span> <span style=\"background-color: #DEDEFF\">,</span> <span style=\"background-color: #FAFAFF\">mopping</span> <span style=\"background-color: #FFC2C2\">,</span> <span style=\"background-color: #FFF2F2\">vacuuming</span> <span style=\"background-color: #FFDEDE\">,</span> <span style=\"background-color: #FFF4F4\">buffing</span> <span style=\"background-color: #FFE6E6\">,</span> <span style=\"background-color: #FFC6C6\">cleaning</span> <span style=\"background-color: #F0F0FF\">staff</span> <span style=\"background-color: #F3F3FF\">toilets</span> <span style=\"background-color: #F0F0FF\">and</span> <span style=\"background-color: #FFFEFE\">rest</span> <span style=\"background-color: #FCFCFF\">room</span> <span style=\"background-color: #FFFCFC\">.</span> <span style=\"background-color: #FFECEC\">must</span> <span style=\"background-color: #FFFCFC\">be</span> <span style=\"background-color: #FFFAFA\">able</span> <span style=\"background-color: #FFFAFA\">to</span> <span style=\"background-color: #FCFCFF\">read</span> <span style=\"background-color: #FFFCFC\">as</span> <span style=\"background-color: #FFFEFE\">they</span> <span style=\"background-color: #FFE8E8\">will</span> <span style=\"background-color: #F6F6FF\">be</span> <span style=\"background-color: #FEFEFF\">using</span> <span style=\"background-color: #FFFEFE\">UNK</span> <span style=\"background-color: #FFFCFC\">which</span> <span style=\"background-color: #F3F3FF\">need</span> <span style=\"background-color: #FFFEFE\">UNK</span> <span style=\"background-color: #F6F6FF\">as</span> <span style=\"background-color: #FFFAFA\">per</span> <span style=\"background-color: #FFF8F8\">instructions</span> <span style=\"background-color: #FFFEFE\">on</span> <span style=\"background-color: #F3F3FF\">the</span> <span style=\"background-color: #E0E0FF\">containers</span> <span style=\"background-color: #CECEFF\">.</span> <span style=\"background-color: #C2C2FF\">sucessfull</span> <span style=\"background-color: #FAFAFF\">applicants</span> <span style=\"background-color: #F3F3FF\">will</span> <span style=\"background-color: #FFF4F4\">be</span> <span style=\"background-color: #E0E0FF\">trained</span> <span style=\"background-color: #FFF0F0\">on</span> <span style=\"background-color: #DADAFF\">all</span> <span style=\"background-color: #DCDCFF\">electrical</span> <span style=\"background-color: #FCFCFF\">appliances</span> <span style=\"background-color: #FFFEFE\">and</span> <span style=\"background-color: #FFFEFE\">UNK</span> <span style=\"background-color: #FFF2F2\">of</span> <span style=\"background-color: #FFF8F8\">cleaning</span> <span style=\"background-color: #EEEEFF\">materials</span> <span style=\"background-color: #F2F2FF\">.</span></p>"
      ]
     },
     "metadata": {},
     "output_type": "display_data"
    }
   ],
   "source": [
    "i = 12077\n",
    "tokens_and_weights = explain(model, data.loc[i], \"Title\")\n",
    "draw_html(\n",
    "    [(tok, weight * 5) for tok, weight in tokens_and_weights],\n",
    "    font_style=\"font-size:20px;\",\n",
    ")\n",
    "\n",
    "tokens_and_weights = explain(model, data.loc[i], \"FullDescription\")\n",
    "draw_html([(tok, weight * 10) for tok, weight in tokens_and_weights]);"
   ]
  },
  {
   "cell_type": "code",
   "execution_count": 115,
   "metadata": {},
   "outputs": [
    {
     "name": "stdout",
     "output_type": "stream",
     "text": [
      "Index: 146392\n",
      "Predicted salary (gbp): 48011.277\n",
      "Real salary (gbp): 59999.98\n"
     ]
    },
    {
     "data": {
      "text/html": [
       "<p style=\"font-size:20px;\"><span style=\"background-color: #B2B2FF\">senior</span> <span style=\"background-color: #FFF2F2\">business</span> <span style=\"background-color: #FFE4E4\">intelligence</span> <span style=\"background-color: #FFECEC\">analyst</span></p>"
      ]
     },
     "metadata": {},
     "output_type": "display_data"
    },
    {
     "data": {
      "text/html": [
       "<p style=\"font-size:14px;\"><span style=\"background-color: #EAEAFF\">senior</span> <span style=\"background-color: #F2F2FF\">bi</span> <span style=\"background-color: #FFFEFE\">analyst</span> <span style=\"background-color: #FFFEFE\">,</span> <span style=\"background-color: #FCFCFF\">engineer</span> <span style=\"background-color: #FFF4F4\">and</span> <span style=\"background-color: #FFF4F4\">architect</span> <span style=\"background-color: #FFFCFC\">required</span> <span style=\"background-color: #E6E6FF\">with</span> <span style=\"background-color: #FAFAFF\">****</span> <span style=\"background-color: #E8E8FF\">to</span> <span style=\"background-color: #E6E6FF\">7</span> <span style=\"background-color: #EEEEFF\">years</span> <span style=\"background-color: #FFE6E6\">commercial</span> <span style=\"background-color: #F2F2FF\">data</span> <span style=\"background-color: #F2F2FF\">warehouse</span> <span style=\"background-color: #FAFAFF\">experience</span> <span style=\"background-color: #FEFEFF\">to</span> <span style=\"background-color: #FFFAFA\">join</span> <span style=\"background-color: #FFDEDE\">a</span> <span style=\"background-color: #FCFCFF\">rapidly</span> <span style=\"background-color: #FFFCFC\">expanding</span> <span style=\"background-color: #FFFEFE\">british</span> <span style=\"background-color: #FFFEFE\">company</span> <span style=\"background-color: #FFFEFE\">with</span> <span style=\"background-color: #FFFEFE\">one</span> <span style=\"background-color: #FFFEFE\">of</span> <span style=\"background-color: #FFFEFE\">the</span> <span style=\"background-color: #FFFEFE\">best</span> <span style=\"background-color: #FFFEFE\">benefits</span> <span style=\"background-color: #FFFCFC\">schemes</span> <span style=\"background-color: #FFF0F0\">available</span> <span style=\"background-color: #F6F6FF\">.</span> <span style=\"background-color: #E2E2FF\">expert</span> <span style=\"background-color: #F2F2FF\">knowledge</span> <span style=\"background-color: #E6E6FF\">of</span> <span style=\"background-color: #FFECEC\">microstrategy</span> <span style=\"background-color: #FFFEFE\">along</span> <span style=\"background-color: #FFFEFE\">with</span> <span style=\"background-color: #FFFEFE\">the</span> <span style=\"background-color: #FEFEFF\">ability</span> <span style=\"background-color: #FFFAFA\">to</span> <span style=\"background-color: #FEFEFF\">write</span> <span style=\"background-color: #EEEEFF\">well</span> <span style=\"background-color: #FFFEFE\">structured</span> <span style=\"background-color: #FEFEFF\">tsql</span> <span style=\"background-color: #F8F8FF\">and</span> <span style=\"background-color: #FFDCDC\">good</span> <span style=\"background-color: #FFEEEE\">problem</span> <span style=\"background-color: #FFEAEA\">solving</span> <span style=\"background-color: #FFFEFE\">and</span> <span style=\"background-color: #FFFEFE\">analytical</span> <span style=\"background-color: #FCFCFF\">and</span> <span style=\"background-color: #FFFEFE\">problem</span> <span style=\"background-color: #FFFEFE\">solving</span> <span style=\"background-color: #FEFEFF\">skills</span> <span style=\"background-color: #FEFEFF\">is</span> <span style=\"background-color: #F3F3FF\">mandatory</span> <span style=\"background-color: #F3F3FF\">.</span> <span style=\"background-color: #F3F3FF\">experience</span> <span style=\"background-color: #F6F6FF\">of</span> <span style=\"background-color: #EAEAFF\">dimensional</span> <span style=\"background-color: #FFFEFE\">modelling</span> <span style=\"background-color: #ECECFF\">,</span> <span style=\"background-color: #ECECFF\">data</span> <span style=\"background-color: #ECECFF\">warehousing</span> <span style=\"background-color: #ECECFF\">techniques</span> <span style=\"background-color: #FFE8E8\">,</span> <span style=\"background-color: #FFE8E8\">methodologies</span> <span style=\"background-color: #FFF4F4\">and</span> <span style=\"background-color: #E0E0FF\">data</span> <span style=\"background-color: #F2F2FF\">modelling</span> <span style=\"background-color: #F2F2FF\">tools</span> <span style=\"background-color: #FAFAFF\">is</span> <span style=\"background-color: #FFFEFE\">required</span> <span style=\"background-color: #FFFEFE\">to</span> <span style=\"background-color: #FFFEFE\">join</span> <span style=\"background-color: #FFF4F4\">a</span> <span style=\"background-color: #E6E6FF\">world</span> <span style=\"background-color: #E6E6FF\">class</span> <span style=\"background-color: #FFFEFE\">bi</span> <span style=\"background-color: #FFF8F8\">&</span> <span style=\"background-color: #FFFEFE\">dw</span> <span style=\"background-color: #FCFCFF\">function</span> <span style=\"background-color: #FAFAFF\">.</span> <span style=\"background-color: #FFF6F6\">a</span> <span style=\"background-color: #F3F3FF\">key</span> <span style=\"background-color: #FFE8E8\">role</span> <span style=\"background-color: #F8F8FF\">in</span> <span style=\"background-color: #FFF8F8\">the</span> <span style=\"background-color: #FFFCFC\">planning</span> <span style=\"background-color: #FFFCFC\">and</span> <span style=\"background-color: #FFFCFC\">design</span> <span style=\"background-color: #FFDADA\">of</span> <span style=\"background-color: #FFFEFE\">dw</span> <span style=\"background-color: #FFFCFC\">and</span> <span style=\"background-color: #FFFCFC\">crm</span> <span style=\"background-color: #FFF8F8\">solutions</span> <span style=\"background-color: #FFEEEE\">you</span> <span style=\"background-color: #FFF4F4\">will</span> <span style=\"background-color: #FCFCFF\">work</span> <span style=\"background-color: #FFFEFE\">with</span> <span style=\"background-color: #F3F3FF\">the</span> <span style=\"background-color: #FFFAFA\">bi</span> <span style=\"background-color: #C6C6FF\">engineering</span> <span style=\"background-color: #FFF8F8\">team</span> <span style=\"background-color: #FFFAFA\">leads</span> <span style=\"background-color: #FFFEFE\">to</span> <span style=\"background-color: #FFFAFA\">set</span> <span style=\"background-color: #FFFEFE\">and</span> <span style=\"background-color: #F3F3FF\">maintain</span> <span style=\"background-color: #FEFEFF\">standards</span> <span style=\"background-color: #FEFEFF\">and</span> <span style=\"background-color: #FFFEFE\">development</span> <span style=\"background-color: #FFFEFE\">practices</span> <span style=\"background-color: #FEFEFF\">.</span> <span style=\"background-color: #FEFEFF\">working</span> <span style=\"background-color: #FEFEFF\">with</span> <span style=\"background-color: #FFFEFE\">it</span> <span style=\"background-color: #FFFEFE\">architects</span> <span style=\"background-color: #FFFEFE\">,</span> <span style=\"background-color: #F6F6FF\">product</span> <span style=\"background-color: #FFF4F4\">and</span> <span style=\"background-color: #F0F0FF\">project</span> <span style=\"background-color: #EAEAFF\">managers</span> <span style=\"background-color: #F6F6FF\">,</span> <span style=\"background-color: #E6E6FF\">technical</span> <span style=\"background-color: #E8E8FF\">specialists</span> <span style=\"background-color: #FAFAFF\">,</span> <span style=\"background-color: #FFFEFE\">3rd</span> <span style=\"background-color: #FFEEEE\">party</span> <span style=\"background-color: #FFE4E4\">vendors</span> <span style=\"background-color: #FFDEDE\">and</span> <span style=\"background-color: #FFFEFE\">consultants</span> <span style=\"background-color: #FFFEFE\">to</span> <span style=\"background-color: #FFFEFE\">ensure</span> <span style=\"background-color: #FFFEFE\">innovative</span> <span style=\"background-color: #FFFEFE\">development</span> <span style=\"background-color: #FFFEFE\">and</span> <span style=\"background-color: #FFFEFE\">adoption</span> <span style=\"background-color: #FFEAEA\">of</span> <span style=\"background-color: #FFFEFE\">dw</span> <span style=\"background-color: #FFFCFC\">and</span> <span style=\"background-color: #FFFEFE\">crm</span> <span style=\"background-color: #FFFAFA\">solutions</span> <span style=\"background-color: #FFFAFA\">.</span> <span style=\"background-color: #FFF8F8\">fantastic</span> <span style=\"background-color: #F0F0FF\">,</span> <span style=\"background-color: #FFFEFE\">trendy</span> <span style=\"background-color: #FCFCFF\">north</span> <span style=\"background-color: #FCFCFF\">london</span> <span style=\"background-color: #FCFCFF\">location</span> <span style=\"background-color: #FFFEFE\">very</span> <span style=\"background-color: #FFFEFE\">close</span> <span style=\"background-color: #FFD6D6\">to</span> <span style=\"background-color: #EAEAFF\">the</span> <span style=\"background-color: #FFD8D8\">tube</span> <span style=\"background-color: #FFFEFE\">,</span> <span style=\"background-color: #FFFEFE\">a</span> <span style=\"background-color: #FFFEFE\">brilliant</span> <span style=\"background-color: #F6F6FF\">benefits</span> <span style=\"background-color: #FFCECE\">and</span> <span style=\"background-color: #FFCACA\">discount</span> <span style=\"background-color: #FFE8E8\">package</span> <span style=\"background-color: #FFECEC\">,</span> <span style=\"background-color: #FFFAFA\">****</span> <span style=\"background-color: #FFFEFE\">base</span> <span style=\"background-color: #FFFEFE\">and</span> <span style=\"background-color: #FFFEFE\">bonus</span></p>"
      ]
     },
     "metadata": {},
     "output_type": "display_data"
    }
   ],
   "source": [
    "i = np.random.randint(len(data))\n",
    "batch = make_batch(data.iloc[i : i + 1])\n",
    "\n",
    "real_salary = np.expm1(batch[\"Log1pSalary\"].detach().numpy()[0])\n",
    "\n",
    "print(\"Index:\", i)\n",
    "print(\"Predicted salary (gbp):\", np.expm1(predict(model, batch)[0]))\n",
    "print(\"Real salary (gbp):\", real_salary)\n",
    "\n",
    "tokens_and_weights = explain(model, data.loc[i], \"Title\")\n",
    "draw_html(\n",
    "    [(tok, weight * 5) for tok, weight in tokens_and_weights],\n",
    "    font_style=\"font-size:20px;\",\n",
    ")\n",
    "\n",
    "tokens_and_weights = explain(model, data.loc[i], \"FullDescription\")\n",
    "draw_html([(tok, weight * 10) for tok, weight in tokens_and_weights]);"
   ]
  },
  {
   "cell_type": "markdown",
   "metadata": {},
   "source": [
    "__Terrible start-up idea #1962:__ make a tool that automaticaly rephrases your job description (or CV) to meet salary expectations :)"
   ]
  }
 ],
 "metadata": {
  "kernelspec": {
   "display_name": "yandex_nlp",
   "language": "python",
   "name": "yandex_nlp"
  },
  "language_info": {
   "codemirror_mode": {
    "name": "ipython",
    "version": 3
   },
   "file_extension": ".py",
   "mimetype": "text/x-python",
   "name": "python",
   "nbconvert_exporter": "python",
   "pygments_lexer": "ipython3",
   "version": "3.8.10"
  },
  "toc-autonumbering": false,
  "toc-showmarkdowntxt": false
 },
 "nbformat": 4,
 "nbformat_minor": 4
}
