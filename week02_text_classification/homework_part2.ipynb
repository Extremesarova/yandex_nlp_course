{
 "cells": [
  {
   "cell_type": "markdown",
   "metadata": {},
   "source": [
    "### Salary prediction, episode II: make it actually work (4 points)\n",
    "\n",
    "Your main task is to use some of the tricks you've learned on the network and analyze if you can improve __validation MAE__. Try __at least 3 options__ from the list below for a passing grade. Write a short report about what you have tried. More ideas = more bonus points. \n",
    "\n",
    "__Please be serious:__ \" plot learning curves in MAE/epoch, compare models based on optimal performance, test one change at a time. You know the drill :)\n",
    "\n",
    "You can use either __pytorch__ or __tensorflow__ or any other framework (e.g. pure __keras__). Feel free to adapt the seminar code for your needs. For tensorflow version, consider `seminar_tf2.ipynb` as a starting point.\n"
   ]
  },
  {
   "cell_type": "code",
   "execution_count": 1,
   "metadata": {},
   "outputs": [],
   "source": [
    "from collections import Counter\n",
    "\n",
    "import matplotlib.pyplot as plt\n",
    "import nltk\n",
    "import numpy as np\n",
    "import pandas as pd\n",
    "import torch\n",
    "import torch.functional as F\n",
    "import torch.nn as nn\n",
    "from nltk.tokenize import TweetTokenizer\n",
    "from scipy.stats import beta, shapiro\n",
    "from sklearn.feature_extraction import DictVectorizer\n",
    "from sklearn.model_selection import train_test_split\n",
    "from torch.autograd import Variable\n",
    "from torch.utils.data import DataLoader\n",
    "from tqdm.notebook import tqdm\n",
    "\n",
    "%matplotlib inline\n",
    "\n",
    "SEED = 42"
   ]
  },
  {
   "cell_type": "code",
   "execution_count": 2,
   "metadata": {},
   "outputs": [],
   "source": [
    "DEVICE = \"cuda\" if torch.cuda.is_available() else \"cpu\""
   ]
  },
  {
   "cell_type": "markdown",
   "metadata": {},
   "source": [
    "## Reading data"
   ]
  },
  {
   "cell_type": "code",
   "execution_count": 3,
   "metadata": {},
   "outputs": [
    {
     "data": {
      "text/plain": [
       "(244768, 8)"
      ]
     },
     "execution_count": 3,
     "metadata": {},
     "output_type": "execute_result"
    }
   ],
   "source": [
    "data = pd.read_csv(\"./Train_rev1.csv\", index_col=None)\n",
    "data.drop([\"LocationRaw\", \"SalaryRaw\", \"SourceName\", \"Id\"], axis=1, inplace=True)\n",
    "data.shape"
   ]
  },
  {
   "cell_type": "code",
   "execution_count": 4,
   "metadata": {},
   "outputs": [
    {
     "data": {
      "text/html": [
       "<div>\n",
       "<style scoped>\n",
       "    .dataframe tbody tr th:only-of-type {\n",
       "        vertical-align: middle;\n",
       "    }\n",
       "\n",
       "    .dataframe tbody tr th {\n",
       "        vertical-align: top;\n",
       "    }\n",
       "\n",
       "    .dataframe thead th {\n",
       "        text-align: right;\n",
       "    }\n",
       "</style>\n",
       "<table border=\"1\" class=\"dataframe\">\n",
       "  <thead>\n",
       "    <tr style=\"text-align: right;\">\n",
       "      <th></th>\n",
       "      <th>Title</th>\n",
       "      <th>FullDescription</th>\n",
       "      <th>LocationNormalized</th>\n",
       "      <th>ContractType</th>\n",
       "      <th>ContractTime</th>\n",
       "      <th>Company</th>\n",
       "      <th>Category</th>\n",
       "      <th>SalaryNormalized</th>\n",
       "    </tr>\n",
       "  </thead>\n",
       "  <tbody>\n",
       "    <tr>\n",
       "      <th>0</th>\n",
       "      <td>Engineering Systems Analyst</td>\n",
       "      <td>Engineering Systems Analyst Dorking Surrey Sal...</td>\n",
       "      <td>Dorking</td>\n",
       "      <td>NaN</td>\n",
       "      <td>permanent</td>\n",
       "      <td>Gregory Martin International</td>\n",
       "      <td>Engineering Jobs</td>\n",
       "      <td>25000</td>\n",
       "    </tr>\n",
       "    <tr>\n",
       "      <th>1</th>\n",
       "      <td>Stress Engineer Glasgow</td>\n",
       "      <td>Stress Engineer Glasgow Salary **** to **** We...</td>\n",
       "      <td>Glasgow</td>\n",
       "      <td>NaN</td>\n",
       "      <td>permanent</td>\n",
       "      <td>Gregory Martin International</td>\n",
       "      <td>Engineering Jobs</td>\n",
       "      <td>30000</td>\n",
       "    </tr>\n",
       "    <tr>\n",
       "      <th>2</th>\n",
       "      <td>Modelling and simulation analyst</td>\n",
       "      <td>Mathematical Modeller / Simulation Analyst / O...</td>\n",
       "      <td>Hampshire</td>\n",
       "      <td>NaN</td>\n",
       "      <td>permanent</td>\n",
       "      <td>Gregory Martin International</td>\n",
       "      <td>Engineering Jobs</td>\n",
       "      <td>30000</td>\n",
       "    </tr>\n",
       "    <tr>\n",
       "      <th>3</th>\n",
       "      <td>Engineering Systems Analyst / Mathematical Mod...</td>\n",
       "      <td>Engineering Systems Analyst / Mathematical Mod...</td>\n",
       "      <td>Surrey</td>\n",
       "      <td>NaN</td>\n",
       "      <td>permanent</td>\n",
       "      <td>Gregory Martin International</td>\n",
       "      <td>Engineering Jobs</td>\n",
       "      <td>27500</td>\n",
       "    </tr>\n",
       "    <tr>\n",
       "      <th>4</th>\n",
       "      <td>Pioneer, Miser Engineering Systems Analyst</td>\n",
       "      <td>Pioneer, Miser  Engineering Systems Analyst Do...</td>\n",
       "      <td>Surrey</td>\n",
       "      <td>NaN</td>\n",
       "      <td>permanent</td>\n",
       "      <td>Gregory Martin International</td>\n",
       "      <td>Engineering Jobs</td>\n",
       "      <td>25000</td>\n",
       "    </tr>\n",
       "  </tbody>\n",
       "</table>\n",
       "</div>"
      ],
      "text/plain": [
       "                                               Title  \\\n",
       "0                        Engineering Systems Analyst   \n",
       "1                            Stress Engineer Glasgow   \n",
       "2                   Modelling and simulation analyst   \n",
       "3  Engineering Systems Analyst / Mathematical Mod...   \n",
       "4         Pioneer, Miser Engineering Systems Analyst   \n",
       "\n",
       "                                     FullDescription LocationNormalized  \\\n",
       "0  Engineering Systems Analyst Dorking Surrey Sal...            Dorking   \n",
       "1  Stress Engineer Glasgow Salary **** to **** We...            Glasgow   \n",
       "2  Mathematical Modeller / Simulation Analyst / O...          Hampshire   \n",
       "3  Engineering Systems Analyst / Mathematical Mod...             Surrey   \n",
       "4  Pioneer, Miser  Engineering Systems Analyst Do...             Surrey   \n",
       "\n",
       "  ContractType ContractTime                       Company          Category  \\\n",
       "0          NaN    permanent  Gregory Martin International  Engineering Jobs   \n",
       "1          NaN    permanent  Gregory Martin International  Engineering Jobs   \n",
       "2          NaN    permanent  Gregory Martin International  Engineering Jobs   \n",
       "3          NaN    permanent  Gregory Martin International  Engineering Jobs   \n",
       "4          NaN    permanent  Gregory Martin International  Engineering Jobs   \n",
       "\n",
       "   SalaryNormalized  \n",
       "0             25000  \n",
       "1             30000  \n",
       "2             30000  \n",
       "3             27500  \n",
       "4             25000  "
      ]
     },
     "execution_count": 4,
     "metadata": {},
     "output_type": "execute_result"
    }
   ],
   "source": [
    "data.head()"
   ]
  },
  {
   "cell_type": "markdown",
   "metadata": {},
   "source": [
    "### Missing values "
   ]
  },
  {
   "cell_type": "code",
   "execution_count": 5,
   "metadata": {},
   "outputs": [
    {
     "data": {
      "text/plain": [
       "Title                      1\n",
       "FullDescription            0\n",
       "LocationNormalized         0\n",
       "ContractType          179326\n",
       "ContractTime           63905\n",
       "Company                32430\n",
       "Category                   0\n",
       "SalaryNormalized           0\n",
       "dtype: int64"
      ]
     },
     "execution_count": 5,
     "metadata": {},
     "output_type": "execute_result"
    }
   ],
   "source": [
    "data.isna().sum()"
   ]
  },
  {
   "cell_type": "code",
   "execution_count": 6,
   "metadata": {},
   "outputs": [],
   "source": [
    "text_columns = [\"Title\", \"FullDescription\"]\n",
    "categorical_columns = [\n",
    "    \"Category\",\n",
    "    \"Company\",\n",
    "    \"LocationNormalized\",\n",
    "    \"ContractType\",\n",
    "    \"ContractTime\",\n",
    "]\n",
    "target_column = \"SalaryNormalized\""
   ]
  },
  {
   "cell_type": "markdown",
   "metadata": {},
   "source": [
    "For now, let's just fill all the `NA` values with `NaN` "
   ]
  },
  {
   "cell_type": "code",
   "execution_count": 7,
   "metadata": {},
   "outputs": [],
   "source": [
    "data = data.fillna(\"NaN\")"
   ]
  },
  {
   "cell_type": "markdown",
   "metadata": {},
   "source": [
    "## Splitting data"
   ]
  },
  {
   "cell_type": "code",
   "execution_count": 8,
   "metadata": {},
   "outputs": [
    {
     "data": {
      "text/plain": [
       "((195814, 8), (48954, 8))"
      ]
     },
     "execution_count": 8,
     "metadata": {},
     "output_type": "execute_result"
    }
   ],
   "source": [
    "data_train, data_val = train_test_split(data, test_size=0.2, random_state=SEED)\n",
    "data_train.reset_index(drop=True, inplace=True)\n",
    "data_val.reset_index(drop=True, inplace=True)\n",
    "\n",
    "data_train.shape, data_val.shape"
   ]
  },
  {
   "cell_type": "markdown",
   "metadata": {},
   "source": [
    "## Looking at data"
   ]
  },
  {
   "cell_type": "code",
   "execution_count": 9,
   "metadata": {},
   "outputs": [
    {
     "name": "stdout",
     "output_type": "stream",
     "text": [
      "<class 'pandas.core.frame.DataFrame'>\n",
      "RangeIndex: 195814 entries, 0 to 195813\n",
      "Data columns (total 8 columns):\n",
      " #   Column              Non-Null Count   Dtype \n",
      "---  ------              --------------   ----- \n",
      " 0   Title               195814 non-null  object\n",
      " 1   FullDescription     195814 non-null  object\n",
      " 2   LocationNormalized  195814 non-null  object\n",
      " 3   ContractType        195814 non-null  object\n",
      " 4   ContractTime        195814 non-null  object\n",
      " 5   Company             195814 non-null  object\n",
      " 6   Category            195814 non-null  object\n",
      " 7   SalaryNormalized    195814 non-null  int64 \n",
      "dtypes: int64(1), object(7)\n",
      "memory usage: 12.0+ MB\n"
     ]
    }
   ],
   "source": [
    "data_train.info()"
   ]
  },
  {
   "cell_type": "markdown",
   "metadata": {},
   "source": [
    "#### Target"
   ]
  },
  {
   "cell_type": "code",
   "execution_count": 10,
   "metadata": {},
   "outputs": [
    {
     "data": {
      "image/png": "[encoded data removed]",
      "text/plain": [
       "<Figure size 576x288 with 2 Axes>"
      ]
     },
     "metadata": {
      "needs_background": "light"
     },
     "output_type": "display_data"
    }
   ],
   "source": [
    "log1pSalary = np.log1p(data_train[\"SalaryNormalized\"]).astype(\"float32\")\n",
    "\n",
    "plt.figure(figsize=[8, 4])\n",
    "plt.subplot(1, 2, 1)\n",
    "plt.hist(data[\"SalaryNormalized\"], bins=20)\n",
    "\n",
    "plt.subplot(1, 2, 2)\n",
    "plt.hist(log1pSalary, bins=20);"
   ]
  },
  {
   "cell_type": "markdown",
   "metadata": {},
   "source": [
    "The lognormal distribution is suitable for describing salaries, price of securities, urban population, number of comments on articles on the internet, etc."
   ]
  },
  {
   "cell_type": "code",
   "execution_count": 11,
   "metadata": {},
   "outputs": [
    {
     "name": "stderr",
     "output_type": "stream",
     "text": [
      "C:\\Users\\ryblo\\Documents\\projects\\yandex_nlp_course\\venv\\lib\\site-packages\\scipy\\stats\\_morestats.py:1761: UserWarning: p-value may not be accurate for N > 5000.\n",
      "  warnings.warn(\"p-value may not be accurate for N > 5000.\")\n"
     ]
    },
    {
     "data": {
      "text/plain": [
       "ShapiroResult(statistic=0.9969059824943542, pvalue=2.802596928649634e-45)"
      ]
     },
     "execution_count": 11,
     "metadata": {},
     "output_type": "execute_result"
    }
   ],
   "source": [
    "shapiro(log1pSalary)"
   ]
  },
  {
   "cell_type": "markdown",
   "metadata": {},
   "source": [
    "#### Categorical columns"
   ]
  },
  {
   "cell_type": "code",
   "execution_count": 12,
   "metadata": {},
   "outputs": [
    {
     "name": "stdout",
     "output_type": "stream",
     "text": [
      "'Category' column contains 29 unique values\n",
      "'Company' column contains 18857 unique values\n",
      "'LocationNormalized' column contains 2543 unique values\n",
      "'ContractType' column contains 3 unique values\n",
      "'ContractTime' column contains 3 unique values\n"
     ]
    }
   ],
   "source": [
    "for cat_column in categorical_columns:\n",
    "    print(\n",
    "        f\"'{cat_column}' column contains {data_train[cat_column].nunique()} unique values\"\n",
    "    )"
   ]
  },
  {
   "cell_type": "markdown",
   "metadata": {},
   "source": [
    "##### Category column"
   ]
  },
  {
   "cell_type": "code",
   "execution_count": 13,
   "metadata": {},
   "outputs": [
    {
     "data": {
      "text/plain": [
       "IT Jobs                             30847\n",
       "Engineering Jobs                    20159\n",
       "Accounting & Finance Jobs           17434\n",
       "Healthcare & Nursing Jobs           16916\n",
       "Sales Jobs                          13849\n",
       "Other/General Jobs                  13567\n",
       "Teaching Jobs                       10137\n",
       "Hospitality & Catering Jobs          9066\n",
       "Trade & Construction Jobs            7088\n",
       "PR, Advertising & Marketing Jobs     7070\n",
       "HR & Recruitment Jobs                6190\n",
       "Admin Jobs                           6112\n",
       "Retail Jobs                          5201\n",
       "Customer Services Jobs               4794\n",
       "Legal Jobs                           3145\n",
       "Manufacturing Jobs                   3027\n",
       "Logistics & Warehouse Jobs           2912\n",
       "Social work Jobs                     2743\n",
       "Consultancy Jobs                     2591\n",
       "Travel Jobs                          2508\n",
       "Scientific & QA Jobs                 2010\n",
       "Charity & Voluntary Jobs             1867\n",
       "Energy, Oil & Gas Jobs               1821\n",
       "Creative & Design Jobs               1285\n",
       "Maintenance Jobs                     1235\n",
       "Graduate Jobs                        1067\n",
       "Property Jobs                         826\n",
       "Domestic help & Cleaning Jobs         227\n",
       "Part time Jobs                        120\n",
       "Name: Category, dtype: int64"
      ]
     },
     "execution_count": 13,
     "metadata": {},
     "output_type": "execute_result"
    }
   ],
   "source": [
    "data_train[\"Category\"].value_counts()"
   ]
  },
  {
   "cell_type": "markdown",
   "metadata": {},
   "source": [
    "##### Company column"
   ]
  },
  {
   "cell_type": "code",
   "execution_count": 14,
   "metadata": {},
   "outputs": [
    {
     "data": {
      "text/plain": [
       "NaN                                                      25884\n",
       "UKStaffsearch                                             4015\n",
       "CVbrowser                                                 2387\n",
       "London4Jobs                                               1859\n",
       "Hays                                                      1424\n",
       "                                                         ...  \n",
       "Oxford University Hospitals NHS Trust                        1\n",
       "Aspirations Care                                             1\n",
       "MANPOWER UK LTD                                              1\n",
       "Zolv.com Ltd                                                 1\n",
       "The Facial Surgery Research Foundation   Saving Faces        1\n",
       "Name: Company, Length: 18857, dtype: int64"
      ]
     },
     "execution_count": 14,
     "metadata": {},
     "output_type": "execute_result"
    }
   ],
   "source": [
    "data_train[\"Company\"].value_counts()"
   ]
  },
  {
   "cell_type": "markdown",
   "metadata": {},
   "source": [
    "##### LocationNormalized column"
   ]
  },
  {
   "cell_type": "code",
   "execution_count": 15,
   "metadata": {},
   "outputs": [
    {
     "data": {
      "text/plain": [
       "UK                   32767\n",
       "London               24483\n",
       "South East London     9411\n",
       "The City              5337\n",
       "Manchester            2859\n",
       "                     ...  \n",
       "Kilbarchan               1\n",
       "Brompton                 1\n",
       "Kennoway                 1\n",
       "Kirkby Stephen           1\n",
       "Grimethorpe              1\n",
       "Name: LocationNormalized, Length: 2543, dtype: int64"
      ]
     },
     "execution_count": 15,
     "metadata": {},
     "output_type": "execute_result"
    }
   ],
   "source": [
    "data_train[\"LocationNormalized\"].value_counts()"
   ]
  },
  {
   "cell_type": "markdown",
   "metadata": {},
   "source": [
    "##### ContractType column"
   ]
  },
  {
   "cell_type": "code",
   "execution_count": 16,
   "metadata": {},
   "outputs": [
    {
     "data": {
      "text/plain": [
       "NaN          143245\n",
       "full_time     46208\n",
       "part_time      6361\n",
       "Name: ContractType, dtype: int64"
      ]
     },
     "execution_count": 16,
     "metadata": {},
     "output_type": "execute_result"
    }
   ],
   "source": [
    "data_train[\"ContractType\"].value_counts()"
   ]
  },
  {
   "cell_type": "markdown",
   "metadata": {},
   "source": [
    "##### ContractTime column"
   ]
  },
  {
   "cell_type": "code",
   "execution_count": 17,
   "metadata": {},
   "outputs": [
    {
     "data": {
      "text/plain": [
       "permanent    121042\n",
       "NaN           51332\n",
       "contract      23440\n",
       "Name: ContractTime, dtype: int64"
      ]
     },
     "execution_count": 17,
     "metadata": {},
     "output_type": "execute_result"
    }
   ],
   "source": [
    "data_train[\"ContractTime\"].value_counts()"
   ]
  },
  {
   "cell_type": "markdown",
   "metadata": {},
   "source": [
    "## Preparing"
   ]
  },
  {
   "cell_type": "markdown",
   "metadata": {},
   "source": [
    "### Tokenizer"
   ]
  },
  {
   "cell_type": "code",
   "execution_count": 18,
   "metadata": {},
   "outputs": [],
   "source": [
    "tokenizer = TweetTokenizer()\n",
    "# tokenizer = nltk.tokenize.WordPunctTokenizer()\n",
    "\n",
    "# assert tokenizer.tokenize(\"I've been doing this for a few years!\") == [\n",
    "#     \"I've\",\n",
    "#     \"been\",\n",
    "#     \"doing\",\n",
    "#     \"this\",\n",
    "#     \"for\",\n",
    "#     \"a\",\n",
    "#     \"few\",\n",
    "#     \"years\",\n",
    "#     \"!\",\n",
    "# ]"
   ]
  },
  {
   "cell_type": "markdown",
   "metadata": {},
   "source": [
    "## Preprocessor Class"
   ]
  },
  {
   "cell_type": "code",
   "execution_count": 19,
   "metadata": {
    "tags": []
   },
   "outputs": [],
   "source": [
    "class PreprocessDataset:\n",
    "    TEXT_COLS = [\"Title\", \"FullDescription\"]\n",
    "    CAT_COLS = [\n",
    "        \"Category\",\n",
    "        \"Company\",\n",
    "        \"LocationNormalized\",\n",
    "        \"ContractType\",\n",
    "        \"ContractTime\",\n",
    "    ]\n",
    "    TARGET_COL = \"SalaryNormalized\"\n",
    "    NEW_TARGET_COL = \"Log1pSalary\"\n",
    "    UNK, PAD = \"UNK\", \"PAD\"\n",
    "    SEED = 42\n",
    "\n",
    "    def __init__(\n",
    "        self,\n",
    "        data: pd.DataFrame,\n",
    "        tokenizer,\n",
    "        min_count=10,\n",
    "        max_len_title=None,\n",
    "        max_len_description=None,\n",
    "    ):\n",
    "        self.tokenizer = tokenizer\n",
    "        self.data = data\n",
    "\n",
    "        self.data_train, self.data_val = self._split_data()\n",
    "\n",
    "        self.data_train = self.preprocess_data(self.data_train, train=True)\n",
    "        self.data_val = self.preprocess_data(self.data_val)\n",
    "\n",
    "        self.categorical_vectorizer = self._preprocess_categorical()\n",
    "        self.vocab = self._build_vocab(min_count)\n",
    "        self.token_to_id = self._build_token_to_id_dict()\n",
    "        self.UNK_IX, self.PAD_IX = map(self.token_to_id.get, [self.UNK, self.PAD])\n",
    "        self.max_len_description = max_len_description\n",
    "        self.max_len_title = max_len_title\n",
    "\n",
    "    def preprocess_data(self, data, train=False):\n",
    "        print(f\"Preprocessing {'Train' if train else 'Val'} data\")\n",
    "        data = self._preprocess_texts(data)\n",
    "        data = self._preprocess_target(data)\n",
    "\n",
    "        return data\n",
    "\n",
    "    def _split_data(self, test_size=0.2):\n",
    "        print(\"Splitting data to train and val sets\")\n",
    "        data_train, data_val = train_test_split(\n",
    "            self.data, test_size=test_size, random_state=self.SEED\n",
    "        )\n",
    "        data_train.reset_index(drop=True, inplace=True)\n",
    "        data_val.reset_index(drop=True, inplace=True)\n",
    "\n",
    "        return data_train, data_val\n",
    "\n",
    "    def _preprocess_texts(self, data: pd.DataFrame) -> pd.DataFrame:\n",
    "        for text_col in self.TEXT_COLS:\n",
    "            tqdm.pandas(desc=f\"Tokenizing {text_col}\")\n",
    "            tokenized_texts = data[text_col].progress_apply(self._tokenize)\n",
    "            data[text_col] = tokenized_texts.values\n",
    "\n",
    "        return data\n",
    "\n",
    "    def _preprocess_target(self, data: pd.DataFrame) -> pd.DataFrame:\n",
    "        print(\"Preprocessing Target column\")\n",
    "        data[self.NEW_TARGET_COL] = np.log1p(data[self.TARGET_COL]).astype(\"float32\")\n",
    "\n",
    "        return data\n",
    "\n",
    "    def _preprocess_categorical(self, most_common=1000):\n",
    "        print(\"Preprocessing Categorical columns\")\n",
    "\n",
    "        tqdm.pandas(desc=f\"Preprocessing Company column\")\n",
    "        # we only consider top-1k most frequent companies to minimize memory usage\n",
    "        top_companies, top_counts = zip(\n",
    "            *Counter(self.data_train[\"Company\"]).most_common(most_common)\n",
    "        )\n",
    "        recognized_companies = set(top_companies)\n",
    "        self.data_train[\"Company\"] = self.data_train[\"Company\"].progress_apply(\n",
    "            lambda comp: comp if comp in recognized_companies else \"Other\"\n",
    "        )\n",
    "\n",
    "        tqdm.pandas(desc=f\"Vectorizing categorical columns\")\n",
    "        categorical_vectorizer = DictVectorizer(dtype=np.float32, sparse=False)\n",
    "        categorical_vectorizer.fit(\n",
    "            self.data_train[self.CAT_COLS].progress_apply(dict, axis=1)\n",
    "        )\n",
    "\n",
    "        return categorical_vectorizer\n",
    "\n",
    "    def _build_vocab(self, min_count):\n",
    "        token_counts = Counter()\n",
    "\n",
    "        # Count how many times does each token occur in both \"Title\" and \"FullDescription\" in total\n",
    "        for str_ in tqdm(\n",
    "            self.data_train[text_columns].values.flatten(), desc=\"Building vocab\"\n",
    "        ):\n",
    "            token_counts.update(str(str_).split())\n",
    "\n",
    "        print(\"Total unique tokens :\", len(token_counts))\n",
    "        print(\"\\n\".join(map(str, token_counts.most_common(n=5))))\n",
    "        print(\"...\")\n",
    "        print(\"\\n\".join(map(str, token_counts.most_common()[-3:])))\n",
    "\n",
    "        # tokens from token_counts keys that had at least min_count occurrences throughout the dataset\n",
    "        tokens = sorted(t for t, c in token_counts.items() if c >= min_count)\n",
    "\n",
    "        # Add a special tokens for unknown and empty words\n",
    "        tokens = [self.UNK, self.PAD] + tokens\n",
    "\n",
    "        print(\"Vocabulary size:\", len(tokens))\n",
    "        assert type(tokens) == list\n",
    "        assert len(tokens) in range(30000, 35000)\n",
    "        assert \"me\" in tokens\n",
    "        assert self.UNK in tokens\n",
    "\n",
    "        return tokens\n",
    "\n",
    "    def _build_token_to_id_dict(self):\n",
    "        token_to_id = {token: i for i, token in enumerate(self.vocab)}\n",
    "\n",
    "        assert isinstance(token_to_id, dict)\n",
    "        assert len(token_to_id) == len(self.vocab)\n",
    "        for token in self.vocab:\n",
    "            assert self.vocab[token_to_id[token]] == token\n",
    "\n",
    "        return token_to_id\n",
    "\n",
    "    def _tokenize(self, text):\n",
    "        return \" \".join(self.tokenizer.tokenize(str(text).lower()))\n",
    "\n",
    "    def _as_matrix(self, sequences, max_len=None):\n",
    "        \"\"\"Convert a list of tokens into a matrix with padding\"\"\"\n",
    "\n",
    "        if isinstance(sequences[0], str):\n",
    "            sequences = list(map(str.split, sequences))\n",
    "\n",
    "        max_len = min(max(map(len, sequences)), max_len or float(\"inf\"))\n",
    "\n",
    "        matrix = np.full((len(sequences), max_len), np.int32(self.PAD_IX))\n",
    "\n",
    "        for i, seq in enumerate(sequences):\n",
    "            row_ix = [self.token_to_id.get(word, self.UNK_IX) for word in seq[:max_len]]\n",
    "            matrix[i, : len(row_ix)] = row_ix\n",
    "\n",
    "        return matrix\n",
    "\n",
    "    def _encode_categorical(self, data):\n",
    "        pass"
   ]
  },
  {
   "cell_type": "code",
   "execution_count": 20,
   "metadata": {
    "tags": []
   },
   "outputs": [
    {
     "name": "stdout",
     "output_type": "stream",
     "text": [
      "Splitting data to train and val sets\n",
      "Preprocessing Train data\n"
     ]
    },
    {
     "data": {
      "application/vnd.jupyter.widget-view+json": {
       "model_id": "4b881deae0bf4dc7aa8ace6b619f975b",
       "version_major": 2,
       "version_minor": 0
      },
      "text/plain": [
       "Tokenizing Title:   0%|          | 0/195814 [00:00<?, ?it/s]"
      ]
     },
     "metadata": {},
     "output_type": "display_data"
    },
    {
     "data": {
      "application/vnd.jupyter.widget-view+json": {
       "model_id": "3234def64a5545ed95a8f327c0022f25",
       "version_major": 2,
       "version_minor": 0
      },
      "text/plain": [
       "Tokenizing FullDescription:   0%|          | 0/195814 [00:00<?, ?it/s]"
      ]
     },
     "metadata": {},
     "output_type": "display_data"
    },
    {
     "name": "stdout",
     "output_type": "stream",
     "text": [
      "Preprocessing Target column\n",
      "Preprocessing Val data\n"
     ]
    },
    {
     "data": {
      "application/vnd.jupyter.widget-view+json": {
       "model_id": "f3a545a500f141f7bfa11014dce16adc",
       "version_major": 2,
       "version_minor": 0
      },
      "text/plain": [
       "Tokenizing Title:   0%|          | 0/48954 [00:00<?, ?it/s]"
      ]
     },
     "metadata": {},
     "output_type": "display_data"
    },
    {
     "data": {
      "application/vnd.jupyter.widget-view+json": {
       "model_id": "a5a6e88a07844dedaca613f615bb089c",
       "version_major": 2,
       "version_minor": 0
      },
      "text/plain": [
       "Tokenizing FullDescription:   0%|          | 0/48954 [00:00<?, ?it/s]"
      ]
     },
     "metadata": {},
     "output_type": "display_data"
    },
    {
     "name": "stdout",
     "output_type": "stream",
     "text": [
      "Preprocessing Target column\n",
      "Preprocessing Categorical columns\n"
     ]
    },
    {
     "data": {
      "application/vnd.jupyter.widget-view+json": {
       "model_id": "7be85e799585400381013a765d0297b2",
       "version_major": 2,
       "version_minor": 0
      },
      "text/plain": [
       "Preprocessing Company column:   0%|          | 0/195814 [00:00<?, ?it/s]"
      ]
     },
     "metadata": {},
     "output_type": "display_data"
    },
    {
     "data": {
      "application/vnd.jupyter.widget-view+json": {
       "model_id": "f74f35d16ea64555ac917d4e2cf45912",
       "version_major": 2,
       "version_minor": 0
      },
      "text/plain": [
       "Vectorizing categorical columns:   0%|          | 0/195814 [00:00<?, ?it/s]"
      ]
     },
     "metadata": {},
     "output_type": "display_data"
    },
    {
     "data": {
      "application/vnd.jupyter.widget-view+json": {
       "model_id": "486105dc2ff744c78f1fd128ecd4e0eb",
       "version_major": 2,
       "version_minor": 0
      },
      "text/plain": [
       "Building vocab:   0%|          | 0/391628 [00:00<?, ?it/s]"
      ]
     },
     "metadata": {},
     "output_type": "display_data"
    },
    {
     "name": "stdout",
     "output_type": "stream",
     "text": [
      "Total unique tokens : 201108\n",
      "('and', 2123081)\n",
      "(',', 1871868)\n",
      "('.', 1758719)\n",
      "('*', 1674219)\n",
      "('the', 1659371)\n",
      "...\n",
      "('pate', 1)\n",
      "('nurseportadown', 1)\n",
      "('www.salestarget.co.uk/jobseeking/salesexecutivesx2northwestlondonesp***_job***', 1)\n",
      "Vocabulary size: 31171\n"
     ]
    }
   ],
   "source": [
    "preprocessor = PreprocessDataset(\n",
    "    data, tokenizer, max_len_title=10, max_len_description=100\n",
    ")"
   ]
  },
  {
   "cell_type": "markdown",
   "metadata": {},
   "source": [
    "## Dataset & Dataloaders & Transforms"
   ]
  },
  {
   "cell_type": "markdown",
   "metadata": {},
   "source": [
    "We will pass training data with parameter `train=True` with which we will fit our vectorizers and so on and test data with `train=False` with which we will transform our test dataset  \n",
    "Create one class for dataset preprocessing and another class for using preprocessed dataset for dataloaders"
   ]
  },
  {
   "cell_type": "markdown",
   "metadata": {},
   "source": [
    "### Transforms"
   ]
  },
  {
   "cell_type": "markdown",
   "metadata": {},
   "source": [
    "**Add target transform method**"
   ]
  },
  {
   "cell_type": "code",
   "execution_count": 21,
   "metadata": {},
   "outputs": [],
   "source": [
    "class ApplyWordDropout:\n",
    "    def __init__(self, replace_with, pad_ix, word_dropout=0.0):\n",
    "        self.keep_prop = 1.0 - word_dropout\n",
    "        self.replace_with = replace_with\n",
    "        self.pad_ix = pad_ix\n",
    "\n",
    "    def apply_word_dropout(self, matrix):\n",
    "        dropout_mask = np.random.choice(\n",
    "            2, np.shape(matrix), p=[self.keep_prop, 1 - self.keep_prop]\n",
    "        )\n",
    "        dropout_mask &= matrix != self.pad_ix\n",
    "\n",
    "        return np.choose(\n",
    "            dropout_mask, [matrix, np.full_like(matrix, self.replace_with)]\n",
    "        )\n",
    "\n",
    "    def __call__(self, sample):\n",
    "        return self.apply_word_dropout(sample)\n",
    "\n",
    "\n",
    "class ToTensor(object):\n",
    "    \"\"\"Convert ndarrays in sample to Tensors.\"\"\"\n",
    "\n",
    "    def __call__(self, sample, device=DEVICE):\n",
    "        sample_tensors = dict()\n",
    "        for key, arr in sample.items():\n",
    "            if key in [\"FullDescription\", \"Title\"]:\n",
    "                sample_tensors[key] = torch.tensor(arr, dtype=torch.long, device=device)\n",
    "            else:\n",
    "                sample_tensors[key] = torch.tensor(arr, device=device)\n",
    "        return sample_tensors"
   ]
  },
  {
   "cell_type": "markdown",
   "metadata": {},
   "source": [
    "### Dataset"
   ]
  },
  {
   "cell_type": "code",
   "execution_count": 22,
   "metadata": {},
   "outputs": [],
   "source": [
    "class VacancyDataset:\n",
    "    def __init__(self, preprocessor, train=True, transform=None, word_dropout=0):\n",
    "        self.preprocessor = preprocessor\n",
    "\n",
    "        self.data = self.preprocessor.data_train if train else preprocessor.data_val\n",
    "\n",
    "        self.transform = transform\n",
    "        self.word_dropout = ApplyWordDropout(\n",
    "            replace_with=self.preprocessor.UNK_IX,\n",
    "            pad_ix=self.preprocessor.PAD_IX,\n",
    "            word_dropout=word_dropout,\n",
    "        )\n",
    "\n",
    "        self.title = self.preprocessor._as_matrix(\n",
    "            self.data[\"Title\"].values, self.preprocessor.max_len_title\n",
    "        )\n",
    "        self.description = self.preprocessor._as_matrix(\n",
    "            self.data[\"FullDescription\"].values,\n",
    "            self.preprocessor.max_len_description,\n",
    "        )\n",
    "\n",
    "        if word_dropout != 0:\n",
    "            self.description = self.word_dropout(self.description)\n",
    "\n",
    "        self.categorical = self.preprocessor.categorical_vectorizer.transform(\n",
    "            self.data[self.preprocessor.CAT_COLS].apply(dict, axis=1)\n",
    "        )\n",
    "\n",
    "        self.target = self.data[self.preprocessor.NEW_TARGET_COL]\n",
    "\n",
    "    def __len__(self):\n",
    "        return len(self.data)\n",
    "\n",
    "    def __getitem__(self, idx):\n",
    "        sample = {}\n",
    "        sample[\"title_text\"] = self.title[idx]\n",
    "        sample[\"description_text\"] = self.description[idx]\n",
    "        sample[\"categorical\"] = self.categorical[idx]\n",
    "        sample[\"target\"] = self.target[idx]\n",
    "\n",
    "        if self.transform:\n",
    "            sample = self.transform(sample)\n",
    "\n",
    "        return sample"
   ]
  },
  {
   "cell_type": "code",
   "execution_count": 23,
   "metadata": {},
   "outputs": [],
   "source": [
    "training_data = VacancyDataset(preprocessor, train=True, transform=ToTensor())\n",
    "test_data = VacancyDataset(preprocessor, train=False, transform=ToTensor())"
   ]
  },
  {
   "cell_type": "code",
   "execution_count": 24,
   "metadata": {},
   "outputs": [
    {
     "data": {
      "text/plain": [
       "{'title_text': tensor([24816, 26825, 30259,     1,     1,     1,     1,     1,     1,     1],\n",
       "        device='cuda:0', dtype=torch.int32),\n",
       " 'description_text': tensor([24816, 26825, 30259, 29588,   819, 24816, 26825, 30259, 14759, 29588,\n",
       "         11235,   819, 23396, 24881, 13932,     0,    14, 25722,    14, 11235,\n",
       "         23397, 30147, 15941,  8200,    14, 20844,  8286,    14,  1106,  3973,\n",
       "         14235,  1927,     0, 21736,    15, 27600, 13699,  4640, 30041, 12710,\n",
       "          9263,  1883, 19240,    12,    12,    12,    16,    12,    12,    12,\n",
       "         30147,  2591, 15954,   819, 31005, 10309, 30158, 27696, 10848,    14,\n",
       "         21486,  2591,   819, 24816, 16073,    15, 27600, 24816, 26825, 30259,\n",
       "         30041, 12710, 27916,  3220,   898, 27916,  6152,  1927, 13886,  4739,\n",
       "         20988,    14,  2389, 29809,  2389,  2328, 14063,  7402, 19941,  1927,\n",
       "          9527, 23397, 27916, 27125,  1883,  1140, 23897, 13932,  1669,  2467],\n",
       "        device='cuda:0', dtype=torch.int32),\n",
       " 'categorical': tensor([0., 0., 0.,  ..., 0., 0., 0.], device='cuda:0'),\n",
       " 'target': tensor(9.7115, device='cuda:0')}"
      ]
     },
     "execution_count": 24,
     "metadata": {},
     "output_type": "execute_result"
    }
   ],
   "source": [
    "training_data[0]"
   ]
  },
  {
   "cell_type": "markdown",
   "metadata": {},
   "source": [
    "### Dataloaders"
   ]
  },
  {
   "cell_type": "code",
   "execution_count": 29,
   "metadata": {},
   "outputs": [
    {
     "data": {
      "text/plain": [
       "{'title_text': tensor([[   12,    12,    12,  8211,  8789,     1,     1,     1,     1,     1],\n",
       "         [ 8591,  4739,  4392,  8058, 16910,  3606,     1,     1,     1,     1],\n",
       "         [12785,  5326, 12241, 23476,     5,  4513, 10777,    12,    12,    12],\n",
       "         [ 3496, 16910, 29013,     1,     1,     1,     1,     1,     1,     1],\n",
       "         [25339,  1481,    16, 25339,  9601,     1,     1,     1,     1,     1],\n",
       "         [24816, 19568, 28145, 16910,    12,    12,    12, 15301,     1,     1],\n",
       "         [22253, 22266, 24488, 27284, 29588,     1,     1,     1,     1,     1],\n",
       "         [ 7924, 21838, 19423, 16910,   794, 20640,    12,    12,    12, 15301],\n",
       "         [20671, 27233, 24816,     1,     1,     1,     1,     1,     1,     1],\n",
       "         [21858,  9601,     1,     1,     1,     1,     1,     1,     1,     1],\n",
       "         [25786,  5326, 14025, 24482,     1,     1,     1,     1,     1,     1],\n",
       "         [24816, 17396,  9601,     7, 29656,    16, 29648,     9,     1,     1],\n",
       "         [ 9577,  6487,     1,     1,     1,     1,     1,     1,     1,     1],\n",
       "         [12785, 19403,  8813, 24205,  7465, 16901,     1,     1,     1,     1],\n",
       "         [ 4468,    16,  2481, 29719,  8052,  8218,  1470, 11341, 27686,     1],\n",
       "         [ 2529, 29983, 17533,     1,     1,     1,     1,     1,     1,     1],\n",
       "         [ 1016, 12560,    16, 24233, 10209,     1,     1,     1,     1,     1],\n",
       "         [ 4392,  8058, 16910, 24669,     1,     1,     1,     1,     1,     1],\n",
       "         [14496, 10237, 24233, 10209,     1,     1,     1,     1,     1,     1],\n",
       "         [ 4392, 16910, 18177, 28129, 26710,     1,     1,     1,     1,     1],\n",
       "         [14830, 22774,  6487, 16063,     1,     1,     1,     1,     1,     1],\n",
       "         [26392, 16910, 15700,     5, 16239, 10643, 21615,     1,     1,     1],\n",
       "         [25625, 30246,  2529,     1,     1,     1,     1,     1,     1,     1],\n",
       "         [14496, 24233,  8269,     1,     1,     1,     1,     1,     1,     1],\n",
       "         [ 7822,  5326,  7579, 20288,     1,     1,     1,     1,     1,     1],\n",
       "         [ 7924, 13223, 16910,    14,  2992,    14, 12963,     1,     1,     1],\n",
       "         [26825, 30262,     1,     1,     1,     1,     1,     1,     1,     1],\n",
       "         [  940,  1927, 22937, 16843,  9601,     1,     1,     1,     1,     1],\n",
       "         [ 4739,  2529, 15110,  5289,     1,     1,     1,     1,     1,     1],\n",
       "         [27536,  2782,  6487, 28588,     1,     1,     1,     1,     1,     1],\n",
       "         [21858,  1024, 25085,     1,     1,     1,     1,     1,     1,     1],\n",
       "         [16701,  8967,  6575, 16910,  7465,  5093,  7961,  4295,     1,     1],\n",
       "         [21667,  7465,  5093, 18725,  6487,     1,     1,     1,     1,     1],\n",
       "         [ 1016, 16910,     1,     1,     1,     1,     1,     1,     1,     1],\n",
       "         [22132, 15974,     1,     1,     1,     1,     1,     1,     1,     1],\n",
       "         [16007,  6487,     1,     1,     1,     1,     1,     1,     1,     1],\n",
       "         [22774,  6487,  6566, 17409,  8487,     1,     1,     1,     1,     1],\n",
       "         [15903, 21407, 25625, 30259,  1309, 24896,     1,     1,     1,     1],\n",
       "         [19218,  4729,     1,     1,     1,     1,     1,     1,     1,     1],\n",
       "         [ 8489, 16910, 27371,     1,     1,     1,     1,     1,     1,     1],\n",
       "         [ 6560, 13921, 16910,     1,     1,     1,     1,     1,     1,     1],\n",
       "         [19928,  4557,  1481,     1,     1,     1,     1,     1,     1,     1],\n",
       "         [24816, 13410,  1905,     1,     1,     1,     1,     1,     1,     1],\n",
       "         [21776, 16910, 16536, 27059, 16464, 27916,    12,    12,    12, 15301],\n",
       "         [26518, 21008,     1,     1,     1,     1,     1,     1,     1,     1],\n",
       "         [ 4468,    13,    13, 12182,    16, 21269, 12182, 25658,  8052,     1],\n",
       "         [28262, 24233,  6487,     1,     1,     1,     1,     1,     1,     1],\n",
       "         [22197,  1905, 22275,  2558, 26171,    14, 22275, 17600,    14,     1],\n",
       "         [16420, 19347, 27636,  6071, 26509,     1,     1,     1,     1,     1],\n",
       "         [26116, 19213, 16019, 16019,     1,     1,     1,     1,     1,     1],\n",
       "         [ 5584,    63, 12991,     7,  5039,     9,  8789,     1,     1,     1],\n",
       "         [  819, 18748, 21792,  4747, 20268, 27819,    16, 11580, 27819,     1],\n",
       "         [22275,  9601,     1,     1,     1,     1,     1,     1,     1,     1],\n",
       "         [ 1016, 10209, 13932,  4449, 18748, 17409,  1470,     7, 25662,     9],\n",
       "         [ 5863,  6487,  3043,     1,     1,     1,     1,     1,     1,     1],\n",
       "         [27420,    16,     0, 16855,    16, 27437,     1,     1,     1,     1],\n",
       "         [ 7043,  1276,     1,     1,     1,     1,     1,     1,     1,     1],\n",
       "         [18543,  1016, 16910, 31133, 31038, 31133,  5384,  4921, 15904,     1],\n",
       "         [25658,  7961, 16910,     7,  9401, 27059,     9,     1,     1,     1],\n",
       "         [23467,  9601,     7, 17396,     9,     1,     1,     1,     1,     1],\n",
       "         [12785, 19403, 10910,     1,     1,     1,     1,     1,     1,     1],\n",
       "         [ 2712,  2529, 16910,     1,     1,     1,     1,     1,     1,     1],\n",
       "         [14493, 24233,  9601,     1,     1,     1,     1,     1,     1,     1],\n",
       "         [16901,  1024,     1,     1,     1,     1,     1,     1,     1,     1]],\n",
       "        device='cuda:0', dtype=torch.int32),\n",
       " 'description_text': tensor([[   12,    12,    12,  ...,     1,     1,     1],\n",
       "         [ 1883, 10323,  4739,  ..., 19403,  1927, 12710],\n",
       "         [12785,  5326, 23328,  ...,  5328,    15, 14468],\n",
       "         ...,\n",
       "         [27696, 23897, 30041,  ...,  1927, 15994, 24896],\n",
       "         [14493, 24233,  9601,  ...,     0,    15, 24229],\n",
       "         [19920,  5663,    14,  ..., 16901, 23284, 30147]], device='cuda:0',\n",
       "        dtype=torch.int32),\n",
       " 'categorical': tensor([[0., 0., 0.,  ..., 0., 0., 0.],\n",
       "         [0., 0., 0.,  ..., 0., 0., 0.],\n",
       "         [0., 0., 0.,  ..., 0., 0., 0.],\n",
       "         ...,\n",
       "         [1., 0., 0.,  ..., 0., 0., 0.],\n",
       "         [0., 0., 0.,  ..., 0., 0., 0.],\n",
       "         [1., 0., 0.,  ..., 0., 0., 0.]], device='cuda:0'),\n",
       " 'target': tensor([10.0240, 10.2220, 10.1659, 11.0021, 10.5045, 11.1199, 10.4574, 10.4631,\n",
       "         10.0433, 10.3255,  9.7556, 10.4631, 10.5454, 11.4078, 10.3890, 10.0648,\n",
       "          9.7112, 11.0822, 10.3090, 10.1849, 10.3890,  9.6804, 10.0326, 11.6082,\n",
       "          9.6804, 10.3010,  9.9316,  9.9523,  9.8245, 10.9151, 10.3890, 11.2253,\n",
       "         11.0822, 10.3090,  9.7002, 10.3090, 10.3090, 10.6454,  9.3990, 10.4631,\n",
       "         10.6514,  9.6804, 10.3890, 11.0268, 10.2682, 10.3090,  9.4728, 10.7144,\n",
       "         10.7171, 10.0111,  9.7574,  9.6159, 10.1659,  9.9035, 10.8686,  9.7410,\n",
       "         10.0433, 10.7144, 10.7144, 10.5713, 11.1803, 10.4193, 10.0859, 10.3890],\n",
       "        device='cuda:0')}"
      ]
     },
     "execution_count": 29,
     "metadata": {},
     "output_type": "execute_result"
    }
   ],
   "source": [
    "dataloader = DataLoader(training_data, batch_size=64, shuffle=True)\n",
    "batch = next(iter(dataloader))\n",
    "batch"
   ]
  },
  {
   "cell_type": "markdown",
   "metadata": {},
   "source": [
    "# Model"
   ]
  },
  {
   "cell_type": "markdown",
   "metadata": {},
   "source": [
    "## Architecture\n",
    "\n",
    "Our basic model consists of three branches:\n",
    "* Title encoder\n",
    "* Description encoder\n",
    "* Categorical features encoder\n",
    "\n",
    "We will then feed all 3 branches into one common network that predicts salary.\n",
    "\n",
    "![scheme](https://github.com/yandexdataschool/nlp_course/raw/master/resources/w2_conv_arch.png)"
   ]
  },
  {
   "cell_type": "markdown",
   "metadata": {},
   "source": [
    "This clearly doesn't fit into keras' __Sequential__ interface. To build such a network, one will have to use PyTorch."
   ]
  },
  {
   "cell_type": "code",
   "execution_count": 28,
   "metadata": {},
   "outputs": [],
   "source": [
    "class GlobalMaxPooling(nn.Module):\n",
    "    def __init__(self, dim=-1):\n",
    "        super(self.__class__, self).__init__()\n",
    "        self.dim = dim\n",
    "\n",
    "    def forward(self, x):\n",
    "        return x.max(dim=self.dim)[0]"
   ]
  },
  {
   "cell_type": "code",
   "execution_count": 126,
   "metadata": {},
   "outputs": [],
   "source": [
    "class TitleEncoder(nn.Module):\n",
    "    def __init__(self, n_tokens, pad_ix, hid_size=64):\n",
    "        \"\"\"\n",
    "        A simple sequential encoder for titles.\n",
    "        x -> emb -> conv -> relu -> global_max\n",
    "        \"\"\"\n",
    "        super().__init__()\n",
    "        self.relu = nn.ReLU()\n",
    "        self.emb = nn.Embedding(n_tokens, 32, padding_idx=pad_ix)\n",
    "        self.conv1 = nn.Conv1d(32, hid_size, kernel_size=3, padding=1)\n",
    "        self.pool1 = GlobalMaxPooling()\n",
    "\n",
    "    def forward(self, batch):\n",
    "        # YOUR CODE HERE\n",
    "\n",
    "        x = self.emb(batch)\n",
    "\n",
    "        # we transpose from [batch, time, units] to [batch, units, time] to fit Conv1d dim order\n",
    "        x = torch.transpose(x, 1, 2)\n",
    "\n",
    "        c = self.conv1(x)\n",
    "        p = self.pool1(self.relu(c))\n",
    "\n",
    "        return p"
   ]
  },
  {
   "cell_type": "markdown",
   "metadata": {},
   "source": [
    "### Embedding layer investigation"
   ]
  },
  {
   "cell_type": "code",
   "execution_count": 75,
   "metadata": {},
   "outputs": [
    {
     "data": {
      "text/plain": [
       "{'title_text': tensor([[24816, 26825, 30259,     1,     1,     1,     1,     1,     1,     1],\n",
       "         [26233,    16, 17204, 17979, 13932, 20771,  3591,     1,     1,     1]],\n",
       "        device='cuda:0', dtype=torch.int32),\n",
       " 'description_text': tensor([[24816, 26825, 30259, 29588,   819, 24816, 26825, 30259, 14759, 29588,\n",
       "          11235,   819, 23396, 24881, 13932,     0,    14, 25722,    14, 11235,\n",
       "          23397, 30147, 15941,  8200,    14, 20844,  8286,    14,  1106,  3973,\n",
       "          14235,  1927,     0, 21736,    15, 27600, 13699,  4640, 30041, 12710,\n",
       "           9263,  1883, 19240,    12,    12,    12,    16,    12,    12,    12,\n",
       "          30147,  2591, 15954,   819, 31005, 10309, 30158, 27696, 10848,    14,\n",
       "          21486,  2591,   819, 24816, 16073,    15, 27600, 24816, 26825, 30259,\n",
       "          30041, 12710, 27916,  3220,   898, 27916,  6152,  1927, 13886,  4739,\n",
       "          20988,    14,  2389, 29809,  2389,  2328, 14063,  7402, 19941,  1927,\n",
       "           9527, 23397, 27916, 27125,  1883,  1140, 23897, 13932,  1669,  2467],\n",
       "         [26233,    16, 17204, 17979, 13932, 20771,  3591, 22873,   794,    12,\n",
       "             12,    12,  3131,  5353, 10158, 23174,  1927,  3370, 19920,  5663,\n",
       "          14759, 24683,   819, 27144,     0, 17204,    16, 26233, 17979, 27916,\n",
       "          20275, 13932, 27600,  8058, 19403,  7301,  9139, 17982, 11235,  2126,\n",
       "          13932, 27600, 20771,    14,  1513,  1927,  5335, 14078,    15, 27600,\n",
       "          21236, 30041,  9670, 16859, 25235,  6588, 27916, 24941, 21872, 13932,\n",
       "          25302, 17981,  1927, 13013,  6532, 24537,    15, 27600, 21657, 23337,\n",
       "           2273,   819, 26511,  2927, 13932, 26237, 19745, 17208,    14,   819,\n",
       "           7977, 27916, 30246, 13932,   819, 20771,    16,  3568, 17981,  9748,\n",
       "             14,  1178,  1927,   819, 12115, 27290, 10001,    15, 15099, 22148]],\n",
       "        device='cuda:0', dtype=torch.int32),\n",
       " 'categorical': tensor([[0., 0., 0.,  ..., 0., 0., 0.],\n",
       "         [0., 0., 0.,  ..., 0., 0., 0.]], device='cuda:0'),\n",
       " 'target': tensor([ 9.7115, 10.4631], device='cuda:0')}"
      ]
     },
     "execution_count": 75,
     "metadata": {},
     "output_type": "execute_result"
    }
   ],
   "source": [
    "batch = training_data[:2]\n",
    "batch"
   ]
  },
  {
   "cell_type": "code",
   "execution_count": 76,
   "metadata": {},
   "outputs": [
    {
     "data": {
      "text/plain": [
       "(tensor([[24816, 26825, 30259,     1,     1,     1,     1,     1,     1,     1],\n",
       "         [26233,    16, 17204, 17979, 13932, 20771,  3591,     1,     1,     1]],\n",
       "        device='cuda:0', dtype=torch.int32),\n",
       " tensor([[[-0.3266,  0.6644,  1.7764, -1.0906,  0.4211,  1.0323,  0.1674,\n",
       "            1.7191,  0.1854,  0.7117],\n",
       "          [-1.1453,  0.9574,  2.0451, -0.5152, -1.4298,  0.4269, -0.3293,\n",
       "           -0.3148,  0.0975, -1.0617],\n",
       "          [-0.7039,  0.1765,  1.0193,  0.3540, -1.8756, -0.7284, -1.7299,\n",
       "            1.3668, -0.1476,  0.0543],\n",
       "          [ 0.0000,  0.0000,  0.0000,  0.0000,  0.0000,  0.0000,  0.0000,\n",
       "            0.0000,  0.0000,  0.0000],\n",
       "          [ 0.0000,  0.0000,  0.0000,  0.0000,  0.0000,  0.0000,  0.0000,\n",
       "            0.0000,  0.0000,  0.0000],\n",
       "          [ 0.0000,  0.0000,  0.0000,  0.0000,  0.0000,  0.0000,  0.0000,\n",
       "            0.0000,  0.0000,  0.0000],\n",
       "          [ 0.0000,  0.0000,  0.0000,  0.0000,  0.0000,  0.0000,  0.0000,\n",
       "            0.0000,  0.0000,  0.0000],\n",
       "          [ 0.0000,  0.0000,  0.0000,  0.0000,  0.0000,  0.0000,  0.0000,\n",
       "            0.0000,  0.0000,  0.0000],\n",
       "          [ 0.0000,  0.0000,  0.0000,  0.0000,  0.0000,  0.0000,  0.0000,\n",
       "            0.0000,  0.0000,  0.0000],\n",
       "          [ 0.0000,  0.0000,  0.0000,  0.0000,  0.0000,  0.0000,  0.0000,\n",
       "            0.0000,  0.0000,  0.0000]],\n",
       " \n",
       "         [[ 0.3975,  0.3595, -1.3531, -0.1821, -0.0991, -1.0433, -0.2824,\n",
       "            1.0609,  1.1936,  0.3025],\n",
       "          [-0.5246, -1.5937, -0.4825, -0.3982, -0.6488,  0.4698, -0.8178,\n",
       "            0.2391, -1.3699,  0.6374],\n",
       "          [-0.1066, -0.5603, -0.3486,  1.0881, -1.2295, -0.7996,  0.3095,\n",
       "           -0.1238, -1.9977, -0.4003],\n",
       "          [ 1.0007, -0.8438,  1.0579, -1.0924,  0.6257, -0.8670, -1.0323,\n",
       "           -0.3688, -1.1091, -0.6656],\n",
       "          [ 0.6931, -0.5310, -0.7937,  2.5720,  0.7785,  0.6112,  1.5120,\n",
       "           -0.2196,  0.2254, -0.9679],\n",
       "          [ 1.5431, -1.1035, -0.2220, -0.4491, -0.1640, -1.0072,  1.1128,\n",
       "           -1.7283,  1.0663, -0.5243],\n",
       "          [ 1.2172,  0.6817,  0.0254, -0.3376,  0.0237, -2.2003, -0.2601,\n",
       "           -0.1373, -1.0851, -0.5455],\n",
       "          [ 0.0000,  0.0000,  0.0000,  0.0000,  0.0000,  0.0000,  0.0000,\n",
       "            0.0000,  0.0000,  0.0000],\n",
       "          [ 0.0000,  0.0000,  0.0000,  0.0000,  0.0000,  0.0000,  0.0000,\n",
       "            0.0000,  0.0000,  0.0000],\n",
       "          [ 0.0000,  0.0000,  0.0000,  0.0000,  0.0000,  0.0000,  0.0000,\n",
       "            0.0000,  0.0000,  0.0000]]], device='cuda:0',\n",
       "        grad_fn=<EmbeddingBackward0>))"
      ]
     },
     "execution_count": 76,
     "metadata": {},
     "output_type": "execute_result"
    }
   ],
   "source": [
    "emb = nn.Embedding(num_embeddings=len(preprocessor.vocab), embedding_dim=10, padding_idx=preprocessor.PAD_IX, device=DEVICE)\n",
    "title, embedded_title = batch[\"title_text\"], emb(batch[\"title_text\"])\n",
    "title, embedded_title"
   ]
  },
  {
   "cell_type": "code",
   "execution_count": 77,
   "metadata": {},
   "outputs": [
    {
     "data": {
      "text/plain": [
       "torch.Size([2, 10, 10])"
      ]
     },
     "execution_count": 77,
     "metadata": {},
     "output_type": "execute_result"
    }
   ],
   "source": [
    "embedded_title.shape"
   ]
  },
  {
   "cell_type": "code",
   "execution_count": 78,
   "metadata": {},
   "outputs": [
    {
     "data": {
      "text/plain": [
       "torch.Size([2, 10, 10])"
      ]
     },
     "execution_count": 78,
     "metadata": {},
     "output_type": "execute_result"
    }
   ],
   "source": [
    "torch.transpose(embedded_title, 1, 2).shape"
   ]
  },
  {
   "cell_type": "code",
   "execution_count": 62,
   "metadata": {},
   "outputs": [
    {
     "ename": "NameError",
     "evalue": "name 'TitleEncoder' is not defined",
     "output_type": "error",
     "traceback": [
      "\u001b[1;31m---------------------------------------------------------------------------\u001b[0m",
      "\u001b[1;31mNameError\u001b[0m                                 Traceback (most recent call last)",
      "Input \u001b[1;32mIn [62]\u001b[0m, in \u001b[0;36m<module>\u001b[1;34m\u001b[0m\n\u001b[1;32m----> 1\u001b[0m title_encoder \u001b[38;5;241m=\u001b[39m \u001b[43mTitleEncoder\u001b[49m(\n\u001b[0;32m      2\u001b[0m     n_tokens\u001b[38;5;241m=\u001b[39m\u001b[38;5;28mlen\u001b[39m(preprocessor\u001b[38;5;241m.\u001b[39mvocab), pad_ix\u001b[38;5;241m=\u001b[39mpreprocessor\u001b[38;5;241m.\u001b[39mPAD_IX, hid_size\u001b[38;5;241m=\u001b[39m\u001b[38;5;241m64\u001b[39m\n\u001b[0;32m      3\u001b[0m )\n\u001b[0;32m      4\u001b[0m title_encoder\u001b[38;5;241m.\u001b[39mto(DEVICE)\n\u001b[0;32m      6\u001b[0m dummy_x \u001b[38;5;241m=\u001b[39m Variable(batch[\u001b[38;5;124m\"\u001b[39m\u001b[38;5;124mtitle_text\u001b[39m\u001b[38;5;124m\"\u001b[39m])\n",
      "\u001b[1;31mNameError\u001b[0m: name 'TitleEncoder' is not defined"
     ]
    }
   ],
   "source": [
    "title_encoder = TitleEncoder(\n",
    "    n_tokens=len(preprocessor.vocab), pad_ix=preprocessor.PAD_IX, hid_size=64\n",
    ")\n",
    "title_encoder.to(DEVICE)\n",
    "\n",
    "dummy_x = Variable(batch[\"title_text\"])\n",
    "dummy_v = title_encoder(dummy_x)\n",
    "\n",
    "assert isinstance(dummy_v, Variable)\n",
    "assert tuple(dummy_v.shape) == (dummy_x.shape[0], 64)\n",
    "\n",
    "del title_encoder\n",
    "print(\"Seems fine\")"
   ]
  },
  {
   "cell_type": "code",
   "execution_count": 129,
   "metadata": {},
   "outputs": [],
   "source": [
    "class DescriptionEncoder(nn.Module):\n",
    "    def __init__(self, n_tokens, pad_ix, hid_size=64):\n",
    "        \"\"\"\n",
    "        A simple sequential encoder for descriptions.\n",
    "        x -> emb -> conv -> relu -> global_max\n",
    "        \"\"\"\n",
    "        super().__init__()\n",
    "        self.relu = nn.ReLU()\n",
    "        self.emb = nn.Embedding(n_tokens, 32, padding_idx=pad_ix)\n",
    "        self.conv1 = nn.Conv1d(32, hid_size, kernel_size=3, padding=1)\n",
    "        self.pool1 = GlobalMaxPooling()\n",
    "\n",
    "    def forward(self, batch):\n",
    "        # YOUR CODE HERE\n",
    "\n",
    "        x = self.emb(batch)\n",
    "\n",
    "        # we transpose from [batch, time, units] to [batch, units, time] to fit Conv1d dim order\n",
    "        x = torch.transpose(x, 1, 2)\n",
    "\n",
    "        c = self.conv1(x)\n",
    "        p = self.pool1(self.relu(c))\n",
    "\n",
    "        return p"
   ]
  },
  {
   "cell_type": "code",
   "execution_count": 130,
   "metadata": {},
   "outputs": [
    {
     "name": "stdout",
     "output_type": "stream",
     "text": [
      "Seems fine\n"
     ]
    }
   ],
   "source": [
    "description_encoder = DescriptionEncoder(\n",
    "    n_tokens=len(preprocessor.vocab), pad_ix=preprocessor.PAD_IX, hid_size=64\n",
    ")\n",
    "description_encoder.to(DEVICE)\n",
    "\n",
    "dummy_x = Variable(batch[\"description_text\"])\n",
    "dummy_v = description_encoder(dummy_x)\n",
    "\n",
    "assert isinstance(dummy_v, Variable)\n",
    "assert tuple(dummy_v.shape) == (dummy_x.shape[0], 64)\n",
    "\n",
    "del description_encoder\n",
    "print(\"Seems fine\")"
   ]
  },
  {
   "cell_type": "code",
   "execution_count": 131,
   "metadata": {},
   "outputs": [],
   "source": [
    "class SalaryPredictor(nn.Module):\n",
    "    def __init__(self, n_cat_features, n_tokens, pad_ix, hid_size=64):\n",
    "        super().__init__()\n",
    "        self.relu = nn.ReLU()\n",
    "        self.flatten = nn.Flatten()\n",
    "        self.title_encoder = TitleEncoder(n_tokens=n_tokens, pad_ix=pad_ix, hid_size=64)\n",
    "        self.desc_encoder = DescriptionEncoder(\n",
    "            n_tokens=n_tokens, pad_ix=pad_ix, hid_size=64\n",
    "        )\n",
    "\n",
    "        self.cat_dense1 = nn.Linear(n_cat_features, hid_size)\n",
    "        self.cat_dense2 = nn.Linear(hid_size, hid_size)\n",
    "\n",
    "        self.out_dense1 = nn.Linear(192, 100)\n",
    "        self.out_dense2 = nn.Linear(100, 1)\n",
    "\n",
    "    def forward(self, batch):\n",
    "        # process each data source with it's respective encoder\n",
    "        title_h = self.title_encoder(batch[\"title_text\"])\n",
    "        desc_h = self.desc_encoder(batch[\"description_text\"])\n",
    "\n",
    "        # apply categorical encoder\n",
    "        cat_h = self.relu(self.cat_dense1(batch[\"categorical\"]))\n",
    "        cat_h = self.cat_dense2(cat_h)\n",
    "\n",
    "        # concatenate all vectors together...\n",
    "        joint_h = torch.cat([title_h, desc_h, cat_h], dim=1)\n",
    "\n",
    "        # ... and stack a few more layers at the top\n",
    "        joint_h = self.out_dense1(joint_h)\n",
    "        joint_h = self.relu(joint_h)\n",
    "        joint_h = self.out_dense2(joint_h)\n",
    "\n",
    "        # Note 1: do not forget to select first columns, [:, 0], to get to 1d outputs\n",
    "        # Note 2: please do not use output nonlinearities.\n",
    "\n",
    "        return joint_h[:, 0]"
   ]
  },
  {
   "cell_type": "code",
   "execution_count": 133,
   "metadata": {},
   "outputs": [],
   "source": [
    "model = SalaryPredictor(\n",
    "    n_cat_features=len(preprocessor.categorical_vectorizer.vocabulary_),\n",
    "    n_tokens=len(preprocessor.vocab),\n",
    "    pad_ix=preprocessor.PAD_IX,\n",
    ")\n",
    "model.to(DEVICE)\n",
    "\n",
    "criterion = nn.MSELoss()\n",
    "\n",
    "dummy_pred = model(batch)\n",
    "dummy_loss = criterion(dummy_pred, batch[\"target\"])\n",
    "assert dummy_pred.shape == torch.Size([64])\n",
    "assert (\n",
    "    len(torch.unique(dummy_pred)) > 20\n",
    "), \"model returns suspiciously few unique outputs. Check your initialization\"\n",
    "assert dummy_loss.ndim == 0 and 0.0 <= dummy_loss <= 250.0, \"make sure you minimize MSE\""
   ]
  },
  {
   "cell_type": "markdown",
   "metadata": {},
   "source": [
    "## Training and evaluation"
   ]
  },
  {
   "cell_type": "markdown",
   "metadata": {},
   "source": [
    "### Hyperparameters"
   ]
  },
  {
   "cell_type": "code",
   "execution_count": 167,
   "metadata": {},
   "outputs": [],
   "source": [
    "learning_rate = 1e-4\n",
    "batch_size = 32\n",
    "epochs = 5"
   ]
  },
  {
   "cell_type": "markdown",
   "metadata": {},
   "source": [
    "### Optimization loop"
   ]
  },
  {
   "cell_type": "code",
   "execution_count": 171,
   "metadata": {},
   "outputs": [],
   "source": [
    "def train_loop(dataloader, model, loss_fn, optimizer):\n",
    "    model.train()\n",
    "    size = len(dataloader.dataset)\n",
    "    iter_size = 1000\n",
    "    for batch_num, batch in enumerate(dataloader):\n",
    "        # Compute prediction and loss\n",
    "        y = batch[\"target\"]\n",
    "        pred = model(batch)\n",
    "        loss = loss_fn(pred, y)\n",
    "\n",
    "        # Backpropagation\n",
    "        optimizer.zero_grad()\n",
    "        loss.backward()\n",
    "        optimizer.step()\n",
    "\n",
    "        if batch_num % iter_size == 0:\n",
    "            loss, current = loss.item(), batch_num * len(y)\n",
    "            print(f\"loss: {loss:>7f}  [{current:>5d}/{size:>5d}]\")\n",
    "\n",
    "\n",
    "def test_loop(dataloader, model, loss_fn):\n",
    "    model.eval()\n",
    "    size = len(dataloader.dataset)\n",
    "    num_batches = len(dataloader)\n",
    "\n",
    "    squared_error = abs_error = num_samples = 0.0\n",
    "    test_loss = 0.0\n",
    "\n",
    "    with torch.no_grad():\n",
    "        for batch in dataloader:\n",
    "            y = batch[\"target\"]\n",
    "            pred = model(batch)\n",
    "\n",
    "            test_loss += loss_fn(pred, y).item()\n",
    "\n",
    "            squared_error += torch.sum(torch.square(pred - y))\n",
    "            abs_error += torch.sum(torch.abs(pred - y))\n",
    "            num_samples += len(pred)\n",
    "\n",
    "    mse = squared_error.detach().cpu().numpy() / num_samples\n",
    "    mae = abs_error.detach().cpu().numpy() / num_samples\n",
    "\n",
    "    test_loss /= num_batches\n",
    "\n",
    "    print(\n",
    "        f\"Test Error: \\n MSE: {mse:>0.2f}, MAE: {mae:>0.2f}, Avg loss: {test_loss:>8f} \\n\"\n",
    "    )"
   ]
  },
  {
   "cell_type": "code",
   "execution_count": 172,
   "metadata": {},
   "outputs": [],
   "source": [
    "train_dataloader = DataLoader(training_data, batch_size=batch_size, shuffle=True)\n",
    "test_dataloader = DataLoader(test_data, batch_size=batch_size, shuffle=False)"
   ]
  },
  {
   "cell_type": "code",
   "execution_count": 173,
   "metadata": {},
   "outputs": [
    {
     "name": "stdout",
     "output_type": "stream",
     "text": [
      "Epoch 1\n",
      "-------------------------------\n",
      "loss: 3388.954102  [    0/195814]\n",
      "loss: 13.040665  [32000/195814]\n",
      "loss: 5.995313  [64000/195814]\n",
      "loss: 4.580814  [96000/195814]\n",
      "loss: 3.794548  [128000/195814]\n",
      "loss: 5.761114  [160000/195814]\n",
      "loss: 5.848915  [192000/195814]\n",
      "Test Error: \n",
      " MSE: 0.14, MAE: 0.28, Avg loss: 4.362908 \n",
      "\n",
      "Epoch 2\n",
      "-------------------------------\n",
      "loss: 4.147399  [    0/195814]\n",
      "loss: 3.483206  [32000/195814]\n",
      "loss: 4.033010  [64000/195814]\n",
      "loss: 2.759045  [96000/195814]\n",
      "loss: 2.889846  [128000/195814]\n",
      "loss: 6.534184  [160000/195814]\n",
      "loss: 3.502186  [192000/195814]\n",
      "Test Error: \n",
      " MSE: 0.11, MAE: 0.25, Avg loss: 3.546586 \n",
      "\n",
      "Epoch 3\n",
      "-------------------------------\n",
      "loss: 3.828348  [    0/195814]\n",
      "loss: 2.349961  [32000/195814]\n",
      "loss: 3.398009  [64000/195814]\n",
      "loss: 3.541483  [96000/195814]\n",
      "loss: 4.800520  [128000/195814]\n",
      "loss: 3.305174  [160000/195814]\n",
      "loss: 3.000372  [192000/195814]\n",
      "Test Error: \n",
      " MSE: 0.09, MAE: 0.23, Avg loss: 2.979922 \n",
      "\n",
      "Epoch 4\n",
      "-------------------------------\n",
      "loss: 2.764592  [    0/195814]\n",
      "loss: 2.972123  [32000/195814]\n",
      "loss: 1.764587  [64000/195814]\n",
      "loss: 2.882071  [96000/195814]\n",
      "loss: 2.208756  [128000/195814]\n",
      "loss: 1.854565  [160000/195814]\n",
      "loss: 6.227122  [192000/195814]\n",
      "Test Error: \n",
      " MSE: 0.09, MAE: 0.23, Avg loss: 2.867867 \n",
      "\n",
      "Epoch 5\n",
      "-------------------------------\n",
      "loss: 1.524756  [    0/195814]\n",
      "loss: 2.095402  [32000/195814]\n",
      "loss: 1.482869  [64000/195814]\n",
      "loss: 2.974389  [96000/195814]\n",
      "loss: 3.078068  [128000/195814]\n",
      "loss: 2.157768  [160000/195814]\n",
      "loss: 2.643198  [192000/195814]\n",
      "Test Error: \n",
      " MSE: 0.09, MAE: 0.22, Avg loss: 2.720807 \n",
      "\n",
      "Done!\n"
     ]
    }
   ],
   "source": [
    "model = SalaryPredictor(\n",
    "    n_cat_features=len(preprocessor.categorical_vectorizer.vocabulary_),\n",
    "    n_tokens=len(preprocessor.vocab),\n",
    "    pad_ix=preprocessor.PAD_IX,\n",
    ")\n",
    "model.to(DEVICE)\n",
    "\n",
    "loss_fn = nn.MSELoss(reduction=\"sum\")\n",
    "optimizer = torch.optim.Adam(model.parameters(), lr=1e-4)\n",
    "\n",
    "for t in range(epochs):\n",
    "    print(f\"Epoch {t+1}\\n-------------------------------\")\n",
    "    train_loop(train_dataloader, model, loss_fn, optimizer)\n",
    "    test_loop(test_dataloader, model, loss_fn)\n",
    "print(\"Done!\")"
   ]
  },
  {
   "cell_type": "code",
   "execution_count": null,
   "metadata": {},
   "outputs": [],
   "source": []
  },
  {
   "cell_type": "code",
   "execution_count": null,
   "metadata": {},
   "outputs": [],
   "source": []
  },
  {
   "cell_type": "code",
   "execution_count": null,
   "metadata": {},
   "outputs": [],
   "source": []
  },
  {
   "cell_type": "markdown",
   "metadata": {},
   "source": [
    "### A short report\n",
    "\n",
    "Please tell us what you did and how did it work.\n",
    "\n",
    "`<YOUR_TEXT_HERE>`, i guess..."
   ]
  },
  {
   "cell_type": "markdown",
   "metadata": {},
   "source": [
    "## Recommended options\n",
    "\n",
    "#### A) CNN architecture\n",
    "\n",
    "All the tricks you know about dense and convolutional neural networks apply here as well.\n",
    "* Dropout. Nuff said.\n",
    "* Batch Norm. This time it's `nn.BatchNorm*`/`L.BatchNormalization`\n",
    "* Parallel convolution layers. The idea is that you apply several nn.Conv1d to the same embeddings and concatenate output channels.\n",
    "* More layers, more neurons, ya know...\n",
    "\n",
    "\n",
    "#### B) Play with pooling\n",
    "\n",
    "There's more than one way to perform pooling:\n",
    "* Max over time (independently for each feature)\n",
    "* Average over time (excluding PAD)\n",
    "* Softmax-pooling:\n",
    "$$ out_{i, t} = \\sum_t {h_{i,t} \\cdot {{e ^ {h_{i, t}}} \\over \\sum_\\tau e ^ {h_{j, \\tau}} } }$$\n",
    "\n",
    "* Attentive pooling\n",
    "$$ out_{i, t} = \\sum_t {h_{i,t} \\cdot Attn(h_t)}$$\n",
    "\n",
    ", where $$ Attn(h_t) = {{e ^ {NN_{attn}(h_t)}} \\over \\sum_\\tau e ^ {NN_{attn}(h_\\tau)}}  $$\n",
    "and $NN_{attn}$ is a dense layer.\n",
    "\n",
    "The optimal score is usually achieved by concatenating several different poolings, including several attentive pooling with different $NN_{attn}$ (aka multi-headed attention).\n",
    "\n",
    "The catch is that keras layers do not inlude those toys. You will have to [write your own keras layer](https://keras.io/layers/writing-your-own-keras-layers/). Or use pure tensorflow, it might even be easier :)\n",
    "\n",
    "#### C) Fun with words\n",
    "\n",
    "It's not always a good idea to train embeddings from scratch. Here's a few tricks:\n",
    "\n",
    "* Use a pre-trained embeddings from `gensim.downloader.load`. See last lecture.\n",
    "* Start with pre-trained embeddings, then fine-tune them with gradient descent. You may or may not download pre-trained embeddings from [here](http://nlp.stanford.edu/data/glove.6B.zip) and follow this [manual](https://keras.io/examples/nlp/pretrained_word_embeddings/) to initialize your Keras embedding layer with downloaded weights.\n",
    "* Use the same embedding matrix in title and desc vectorizer\n",
    "\n",
    "\n",
    "#### D) Going recurrent\n",
    "\n",
    "We've already learned that recurrent networks can do cool stuff in sequence modelling. Turns out, they're not useless for classification as well. With some tricks of course..\n",
    "\n",
    "* Like convolutional layers, LSTM should be pooled into a fixed-size vector with some of the poolings.\n",
    "* Since you know all the text in advance, use bidirectional RNN\n",
    "  * Run one LSTM from left to right\n",
    "  * Run another in parallel from right to left \n",
    "  * Concatenate their output sequences along unit axis (dim=-1)\n",
    "\n",
    "* It might be good idea to mix convolutions and recurrent layers differently for title and description\n",
    "\n",
    "\n",
    "#### E) Optimizing seriously\n",
    "\n",
    "* You don't necessarily need 100 epochs. Use early stopping. If you've never done this before, take a look at [early stopping callback(keras)](https://keras.io/callbacks/#earlystopping) or in [pytorch(lightning)](https://pytorch-lightning.readthedocs.io/en/latest/common/early_stopping.html).\n",
    "  * In short, train until you notice that validation\n",
    "  * Maintain the best-on-validation snapshot via `model.save(file_name)`\n",
    "  * Plotting learning curves is usually a good idea\n",
    "  \n",
    "Good luck! And may the force be with you!"
   ]
  },
  {
   "cell_type": "markdown",
   "metadata": {},
   "source": [
    "# Questions"
   ]
  },
  {
   "cell_type": "markdown",
   "metadata": {},
   "source": [
    "* Why did we use `max_len = 10` for `FullDescription` column?  \n",
    "The text size in this column is so much bigger\n",
    "* Why do we treat `Company` and `Title` differently?\n",
    "* Investigate lengths for `Title` and `FullDescription` columns"
   ]
  },
  {
   "cell_type": "code",
   "execution_count": null,
   "metadata": {},
   "outputs": [],
   "source": []
  }
 ],
 "metadata": {
  "kernelspec": {
   "display_name": "yandex_nlp",
   "language": "python",
   "name": "yandex_nlp"
  },
  "language_info": {
   "codemirror_mode": {
    "name": "ipython",
    "version": 3
   },
   "file_extension": ".py",
   "mimetype": "text/x-python",
   "name": "python",
   "nbconvert_exporter": "python",
   "pygments_lexer": "ipython3",
   "version": "3.8.10"
  }
 },
 "nbformat": 4,
 "nbformat_minor": 4
}
