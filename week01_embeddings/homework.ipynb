{
 "cells": [
  {
   "cell_type": "markdown",
   "metadata": {},
   "source": [
    "## Homework: Multilingual Embedding-based Machine Translation (7 points)"
   ]
  },
  {
   "cell_type": "markdown",
   "metadata": {},
   "source": [
    "**In this homework** **<font color='red'>YOU</font>** will make machine translation system without using parallel corpora, alignment, attention, 100500 depth super-cool recurrent neural network and all that kind superstuff.\n",
    "\n",
    "But even without parallel corpora this system can be good enough (hopefully). \n",
    "\n",
    "For our system we choose two kindred Slavic languages: Ukrainian and Russian. "
   ]
  },
  {
   "cell_type": "markdown",
   "metadata": {},
   "source": [
    "### Feel the difference!\n",
    "\n",
    "(_синій кіт_ vs. _синій кит_)"
   ]
  },
  {
   "cell_type": "markdown",
   "metadata": {},
   "source": [
    "![blue_cat_blue_whale.png](https://github.com/yandexdataschool/nlp_course/raw/master/resources/blue_cat_blue_whale.png)"
   ]
  },
  {
   "cell_type": "markdown",
   "metadata": {},
   "source": [
    "### Frament of the Swadesh list for some slavic languages\n",
    "\n",
    "The Swadesh list is a lexicostatistical stuff. It's named after American linguist Morris Swadesh and contains basic lexis. This list are used to define subgroupings of languages, its relatedness.\n",
    "\n",
    "So we can see some kind of word invariance for different Slavic languages.\n",
    "\n",
    "\n",
    "| Russian         | Belorussian              | Ukrainian               | Polish             | Czech                         | Bulgarian            |\n",
    "|-----------------|--------------------------|-------------------------|--------------------|-------------------------------|-----------------------|\n",
    "| женщина         | жанчына, кабета, баба    | жінка                   | kobieta            | žena                          | жена                  |\n",
    "| мужчина         | мужчына                  | чоловік, мужчина        | mężczyzna          | muž                           | мъж                   |\n",
    "| человек         | чалавек                  | людина, чоловік         | człowiek           | člověk                        | човек                 |\n",
    "| ребёнок, дитя   | дзіця, дзіцёнак, немаўля | дитина, дитя            | dziecko            | dítě                          | дете                  |\n",
    "| жена            | жонка                    | дружина, жінка          | żona               | žena, manželka, choť          | съпруга, жена         |\n",
    "| муж             | муж, гаспадар            | чоловiк, муж            | mąż                | muž, manžel, choť             | съпруг, мъж           |\n",
    "| мать, мама      | маці, матка              | мати, матір, неня, мама | matka              | matka, máma, 'стар.' mateř    | майка                 |\n",
    "| отец, тятя      | бацька, тата             | батько, тато, татусь    | ojciec             | otec                          | баща, татко           |\n",
    "| много           | шмат, багата             | багато                  | wiele              | mnoho, hodně                  | много                 |\n",
    "| несколько       | некалькі, колькі         | декілька, кілька        | kilka              | několik, pár, trocha          | няколко               |\n",
    "| другой, иной    | іншы                     | інший                   | inny               | druhý, jiný                   | друг                  |\n",
    "| зверь, животное | жывёла, звер, істота     | тварина, звір           | zwierzę            | zvíře                         | животно               |\n",
    "| рыба            | рыба                     | риба                    | ryba               | ryba                          | риба                  |\n",
    "| птица           | птушка                   | птах, птиця             | ptak               | pták                          | птица                 |\n",
    "| собака, пёс     | сабака                   | собака, пес             | pies               | pes                           | куче, пес             |\n",
    "| вошь            | вош                      | воша                    | wesz               | veš                           | въшка                 |\n",
    "| змея, гад       | змяя                     | змія, гад               | wąż                | had                           | змия                  |\n",
    "| червь, червяк   | чарвяк                   | хробак, черв'як         | robak              | červ                          | червей                |\n",
    "| дерево          | дрэва                    | дерево                  | drzewo             | strom, dřevo                  | дърво                 |\n",
    "| лес             | лес                      | ліс                     | las                | les                           | гора, лес             |\n",
    "| палка           | кій, палка               | палиця                  | patyk, pręt, pałka | hůl, klacek, prut, kůl, pálka | палка, пръчка, бастун |"
   ]
  },
  {
   "cell_type": "markdown",
   "metadata": {},
   "source": [
    "But the context distribution of these languages demonstrates even more invariance. And we can use this fact for our for our purposes."
   ]
  },
  {
   "cell_type": "markdown",
   "metadata": {},
   "source": [
    "## Data"
   ]
  },
  {
   "cell_type": "code",
   "execution_count": 4,
   "metadata": {},
   "outputs": [],
   "source": [
    "# !pip3 install python-Levenshtein"
   ]
  },
  {
   "cell_type": "code",
   "execution_count": 5,
   "metadata": {},
   "outputs": [],
   "source": [
    "import gensim\n",
    "import numpy as np\n",
    "from gensim.models import KeyedVectors"
   ]
  },
  {
   "cell_type": "markdown",
   "metadata": {},
   "source": [
    "Download embeddings here:\n",
    "* [cc.uk.300.vec.zip](https://yadi.sk/d/9CAeNsJiInoyUA)\n",
    "* [cc.ru.300.vec.zip](https://yadi.sk/d/3yG0-M4M8fypeQ)"
   ]
  },
  {
   "cell_type": "markdown",
   "metadata": {},
   "source": [
    "Load embeddings for ukrainian and russian."
   ]
  },
  {
   "cell_type": "code",
   "execution_count": 6,
   "metadata": {},
   "outputs": [],
   "source": [
    "uk_emb = KeyedVectors.load_word2vec_format(\"cc.uk.300.vec\")"
   ]
  },
  {
   "cell_type": "code",
   "execution_count": 7,
   "metadata": {},
   "outputs": [],
   "source": [
    "ru_emb = KeyedVectors.load_word2vec_format(\"cc.ru.300.vec\")"
   ]
  },
  {
   "cell_type": "code",
   "execution_count": 8,
   "metadata": {},
   "outputs": [
    {
     "data": {
      "text/plain": [
       "[('август', 1.0000001192092896),\n",
       " ('июль', 0.9383152723312378),\n",
       " ('сентябрь', 0.9240029454231262),\n",
       " ('июнь', 0.9222574830055237),\n",
       " ('октябрь', 0.9095539450645447),\n",
       " ('ноябрь', 0.8930036425590515),\n",
       " ('апрель', 0.8729087114334106),\n",
       " ('декабрь', 0.8652557730674744),\n",
       " ('март', 0.8545795679092407),\n",
       " ('февраль', 0.8401415944099426)]"
      ]
     },
     "execution_count": 8,
     "metadata": {},
     "output_type": "execute_result"
    }
   ],
   "source": [
    "ru_emb.most_similar([ru_emb[\"август\"]], topn=10)"
   ]
  },
  {
   "cell_type": "code",
   "execution_count": 9,
   "metadata": {},
   "outputs": [
    {
     "data": {
      "text/plain": [
       "[('серпень', 0.9999998807907104),\n",
       " ('липень', 0.9096441268920898),\n",
       " ('вересень', 0.9016969203948975),\n",
       " ('червень', 0.8992518782615662),\n",
       " ('жовтень', 0.8810408115386963),\n",
       " ('листопад', 0.8787633180618286),\n",
       " ('квітень', 0.8592804670333862),\n",
       " ('грудень', 0.8586863279342651),\n",
       " ('травень', 0.840811014175415),\n",
       " ('лютий', 0.8256431221961975)]"
      ]
     },
     "execution_count": 9,
     "metadata": {},
     "output_type": "execute_result"
    }
   ],
   "source": [
    "uk_emb.most_similar([uk_emb[\"серпень\"]])"
   ]
  },
  {
   "cell_type": "code",
   "execution_count": 10,
   "metadata": {},
   "outputs": [
    {
     "data": {
      "text/plain": [
       "[('Недопустимость', 0.24435284733772278),\n",
       " ('конструктивность', 0.23293082416057587),\n",
       " ('офор', 0.23256804049015045),\n",
       " ('deteydlya', 0.230317160487175),\n",
       " ('пресечении', 0.22632381319999695),\n",
       " ('одностороннего', 0.22608886659145355),\n",
       " ('подход', 0.2230587750673294),\n",
       " ('иболее', 0.22003726661205292),\n",
       " ('2015Александр', 0.21872766315937042),\n",
       " ('конструктивен', 0.21796567738056183)]"
      ]
     },
     "execution_count": 10,
     "metadata": {},
     "output_type": "execute_result"
    }
   ],
   "source": [
    "ru_emb.most_similar([uk_emb[\"серпень\"]])"
   ]
  },
  {
   "cell_type": "markdown",
   "metadata": {},
   "source": [
    "Load small dictionaries for correspoinding words pairs as trainset and testset."
   ]
  },
  {
   "cell_type": "code",
   "execution_count": 11,
   "metadata": {},
   "outputs": [],
   "source": [
    "def load_word_pairs_word2vec(filename):\n",
    "    uk_ru_pairs = []\n",
    "    uk_vectors = []\n",
    "    ru_vectors = []\n",
    "    with open(filename, \"r\") as inpf:\n",
    "        for line in inpf:\n",
    "            uk, ru = line.rstrip().split(\"\\t\")\n",
    "            if uk not in uk_emb or ru not in ru_emb:\n",
    "                continue\n",
    "            uk_ru_pairs.append((uk, ru))\n",
    "            uk_vectors.append(uk_emb[uk])\n",
    "            ru_vectors.append(ru_emb[ru])\n",
    "    return uk_ru_pairs, np.array(uk_vectors), np.array(ru_vectors)"
   ]
  },
  {
   "cell_type": "code",
   "execution_count": 12,
   "metadata": {},
   "outputs": [],
   "source": [
    "uk_ru_train_word2vec, X_train_word2vec, Y_train_word2vec = load_word_pairs_word2vec(\"ukr_rus.train.txt\")"
   ]
  },
  {
   "cell_type": "code",
   "execution_count": 13,
   "metadata": {},
   "outputs": [],
   "source": [
    "uk_ru_test_word2vec, X_test_word2vec, Y_test_word2vec = load_word_pairs_word2vec(\"ukr_rus.test.txt\")"
   ]
  },
  {
   "cell_type": "markdown",
   "metadata": {},
   "source": [
    "## Embedding space mapping"
   ]
  },
  {
   "cell_type": "markdown",
   "metadata": {},
   "source": [
    "Let $x_i \\in \\mathrm{R}^d$ be the distributed representation of word $i$ in the source language, and $y_i \\in \\mathrm{R}^d$ is the vector representation of its translation. Our purpose is to learn such linear transform $W$ that minimizes euclidian distance between $Wx_i$ and $y_i$ for some subset of word embeddings. Thus we can formulate so-called Procrustes problem:\n",
    "\n",
    "$$W^*= \\arg\\min_W \\sum_{i=1}^n||Wx_i - y_i||_2$$\n",
    "or\n",
    "$$W^*= \\arg\\min_W ||WX - Y||_F$$\n",
    "\n",
    "where $||*||_F$ - Frobenius norm.\n",
    "\n",
    "In Greek mythology, Procrustes or \"the stretcher\" was a rogue smith and bandit from Attica who attacked people by stretching them or cutting off their legs, so as to force them to fit the size of an iron bed. We make same bad things with source embedding space. Our Procrustean bed is target embedding space."
   ]
  },
  {
   "cell_type": "markdown",
   "metadata": {},
   "source": [
    "![embedding_mapping.png](https://github.com/yandexdataschool/nlp_course/raw/master/resources/embedding_mapping.png)"
   ]
  },
  {
   "cell_type": "markdown",
   "metadata": {},
   "source": [
    "![procrustes.png](https://github.com/yandexdataschool/nlp_course/raw/master/resources/procrustes.png)"
   ]
  },
  {
   "cell_type": "markdown",
   "metadata": {},
   "source": [
    "But wait...$W^*= \\arg\\min_W \\sum_{i=1}^n||Wx_i - y_i||_2$ looks like simple multiple linear regression (without intercept fit). So let's code."
   ]
  },
  {
   "cell_type": "code",
   "execution_count": 14,
   "metadata": {},
   "outputs": [],
   "source": [
    "from sklearn.linear_model import LinearRegression\n",
    "\n",
    "mapping_word2vec = LinearRegression().fit(X_train_word2vec, Y_train_word2vec)"
   ]
  },
  {
   "cell_type": "markdown",
   "metadata": {},
   "source": [
    "Let's take a look at neigbours of the vector of word _\"серпень\"_ (_\"август\"_ in Russian) after linear transform."
   ]
  },
  {
   "cell_type": "code",
   "execution_count": 15,
   "metadata": {},
   "outputs": [
    {
     "data": {
      "text/plain": [
       "[('апрель', 0.8541592955589294),\n",
       " ('июнь', 0.8411963582038879),\n",
       " ('март', 0.8397400379180908),\n",
       " ('сентябрь', 0.8359215259552002),\n",
       " ('февраль', 0.8328747749328613),\n",
       " ('октябрь', 0.8311805725097656),\n",
       " ('ноябрь', 0.8278147578239441),\n",
       " ('июль', 0.823634922504425),\n",
       " ('август', 0.8120612502098083),\n",
       " ('декабрь', 0.8038000464439392)]"
      ]
     },
     "execution_count": 15,
     "metadata": {},
     "output_type": "execute_result"
    }
   ],
   "source": [
    "august_word2vec = mapping_word2vec.predict(uk_emb[\"серпень\"].reshape(1, -1))\n",
    "ru_emb.most_similar(august_word2vec)"
   ]
  },
  {
   "cell_type": "markdown",
   "metadata": {},
   "source": [
    "We can see that neighbourhood of this embedding cosists of different months, but right variant is on the ninth place."
   ]
  },
  {
   "cell_type": "markdown",
   "metadata": {},
   "source": [
    "As quality measure we will use precision top-1, top-5 and top-10 (for each transformed Ukrainian embedding we count how many right target pairs are found in top N nearest neighbours in Russian embedding space)."
   ]
  },
  {
   "cell_type": "code",
   "execution_count": 16,
   "metadata": {},
   "outputs": [],
   "source": [
    "def precision(pairs, mapped_vectors, topn=1):\n",
    "    \"\"\"\n",
    "    :args:\n",
    "        pairs = list of right word pairs [(uk_word_0, ru_word_0), ...]\n",
    "        mapped_vectors = list of embeddings after mapping from source embedding space to destination embedding space\n",
    "        topn = the number of nearest neighbours in destination embedding space to choose from\n",
    "    :returns:\n",
    "        precision_val, float number, total number of words for those we can find right translation at top K.\n",
    "    \"\"\"\n",
    "    assert len(pairs) == len(mapped_vectors)\n",
    "    num_matches = 0\n",
    "    for i, (_, ru) in enumerate(pairs):\n",
    "        res = [value for (value, _) in ru_emb.most_similar([mapped_vectors[i]])]\n",
    "        num_matches += 1 if ru in res[:topn] else 0\n",
    "    precision_val = num_matches / len(pairs)\n",
    "    return precision_val\n"
   ]
  },
  {
   "cell_type": "code",
   "execution_count": 17,
   "metadata": {},
   "outputs": [],
   "source": [
    "assert precision([(\"серпень\", \"август\")], august_word2vec, topn=5) == 0.0\n",
    "assert precision([(\"серпень\", \"август\")], august_word2vec, topn=9) == 1.0\n",
    "assert precision([(\"серпень\", \"август\")], august_word2vec, topn=10) == 1.0"
   ]
  },
  {
   "cell_type": "code",
   "execution_count": 18,
   "metadata": {},
   "outputs": [],
   "source": [
    "assert precision(uk_ru_test_word2vec, X_test_word2vec) == 0.0\n",
    "assert precision(uk_ru_test_word2vec, Y_test_word2vec) == 1.0"
   ]
  },
  {
   "cell_type": "code",
   "execution_count": 20,
   "metadata": {},
   "outputs": [],
   "source": [
    "precision_top1 = precision(uk_ru_test_word2vec, mapping_word2vec.predict(X_test_word2vec), 1)\n",
    "precision_top5 = precision(uk_ru_test_word2vec, mapping_word2vec.predict(X_test_word2vec), 5)\n",
    "\n",
    "assert precision_top1 >= 0.635\n",
    "assert precision_top5 >= 0.811"
   ]
  },
  {
   "cell_type": "markdown",
   "metadata": {},
   "source": [
    "## Making it better (orthogonal Procrustean problem)"
   ]
  },
  {
   "cell_type": "markdown",
   "metadata": {},
   "source": [
    "It can be shown (see original paper) that a self-consistent linear mapping between semantic spaces should be orthogonal. \n",
    "We can restrict transform $W$ to be orthogonal. Then we will solve next problem:\n",
    "\n",
    "$$W^*= \\arg\\min_W ||WX - Y||_F \\text{, where: } W^TW = I$$\n",
    "\n",
    "$$I \\text{- identity matrix}$$\n",
    "\n",
    "Instead of making yet another regression problem we can find optimal orthogonal transformation using singular value decomposition. It turns out that optimal transformation $W^*$ can be expressed via SVD components:\n",
    "$$X^TY=U\\Sigma V^T\\text{, singular value decompostion}$$\n",
    "$$W^*=UV^T$$"
   ]
  },
  {
   "cell_type": "code",
   "execution_count": 21,
   "metadata": {},
   "outputs": [],
   "source": [
    "from sklearn.decomposition import TruncatedSVD\n",
    "\n",
    "def learn_transform(X_train, Y_train):\n",
    "    \"\"\" \n",
    "    :returns: W* : float matrix[emb_dim x emb_dim] as defined in formulae above\n",
    "    \"\"\"\n",
    "    x_t_y = np.dot(np.transpose(X_train), Y_train)\n",
    "    u, s, vh = np.linalg.svd(x_t_y, full_matrices=True)\n",
    "    w = np.dot(u, vh)\n",
    "    return w"
   ]
  },
  {
   "cell_type": "code",
   "execution_count": 22,
   "metadata": {},
   "outputs": [],
   "source": [
    "W_word2vec = learn_transform(X_train_word2vec, Y_train_word2vec)"
   ]
  },
  {
   "cell_type": "code",
   "execution_count": 24,
   "metadata": {},
   "outputs": [
    {
     "data": {
      "text/plain": [
       "[('апрель', 0.8237906694412231),\n",
       " ('сентябрь', 0.8049713373184204),\n",
       " ('март', 0.8025653958320618),\n",
       " ('июнь', 0.8021842837333679),\n",
       " ('октябрь', 0.8001735806465149),\n",
       " ('ноябрь', 0.7934484481811523),\n",
       " ('февраль', 0.7914121150970459),\n",
       " ('июль', 0.7908110022544861),\n",
       " ('август', 0.7891016602516174),\n",
       " ('декабрь', 0.7686373591423035)]"
      ]
     },
     "execution_count": 24,
     "metadata": {},
     "output_type": "execute_result"
    }
   ],
   "source": [
    "ru_emb.most_similar([np.matmul(uk_emb[\"серпень\"], W_word2vec)])"
   ]
  },
  {
   "cell_type": "code",
   "execution_count": 25,
   "metadata": {},
   "outputs": [],
   "source": [
    "assert precision(uk_ru_test_word2vec, np.matmul(X_test_word2vec, W_word2vec)) >= 0.653\n",
    "assert precision(uk_ru_test_word2vec, np.matmul(X_test_word2vec, W_word2vec), 5) >= 0.824"
   ]
  },
  {
   "cell_type": "markdown",
   "metadata": {},
   "source": [
    "## UK-RU Translator"
   ]
  },
  {
   "cell_type": "markdown",
   "metadata": {},
   "source": [
    "Now we are ready to make simple word-based translator: for earch word in source language in shared embedding space we find the nearest in target language.\n"
   ]
  },
  {
   "cell_type": "code",
   "execution_count": 26,
   "metadata": {},
   "outputs": [],
   "source": [
    "with open(\"fairy_tale.txt\", \"r\") as inpf:\n",
    "    uk_sentences = [line.rstrip().lower() for line in inpf]"
   ]
  },
  {
   "cell_type": "code",
   "execution_count": 27,
   "metadata": {},
   "outputs": [],
   "source": [
    "from nltk.tokenize import WordPunctTokenizer\n",
    "tokenizer = WordPunctTokenizer()\n",
    "    \n",
    "def translate_word2vec(sentence):\n",
    "    \"\"\"\n",
    "    :args:\n",
    "        sentence - sentence in Ukrainian (str)\n",
    "    :returns:\n",
    "        translation - sentence in Russian (str)\n",
    "\n",
    "    * find ukrainian embedding for each word in sentence\n",
    "    * transform ukrainian embedding vector\n",
    "    * find nearest russian word and replace\n",
    "    \"\"\"\n",
    "    ru_sentence = \"\"\n",
    "\n",
    "    vector = np.zeros([uk_emb.vector_size], dtype='float32')\n",
    "    word_vectors = []\n",
    "\n",
    "    data_tok = tokenizer.tokenize(sentence.lower())\n",
    "    word_vectors = np.array([uk_emb.get_vector(word) for word in data_tok if word in uk_emb.key_to_index.keys()])\n",
    "    ru_sentence = \" \".join([ru_emb.most_similar([np.matmul(vector, W_word2vec)])[0][0] for vector in word_vectors])\n",
    "    \n",
    "    return ru_sentence"
   ]
  },
  {
   "cell_type": "code",
   "execution_count": 28,
   "metadata": {},
   "outputs": [],
   "source": [
    "assert translate_word2vec(\".\") == \".\"\n",
    "assert translate_word2vec(\"1 , 3\") == \"1 , 3\"\n",
    "assert translate_word2vec(\"кіт зловив мишу\") == \"кот поймал мышку\""
   ]
  },
  {
   "cell_type": "code",
   "execution_count": 29,
   "metadata": {},
   "outputs": [
    {
     "name": "stdout",
     "output_type": "stream",
     "text": [
      "src: лисичка - сестричка і вовк - панібрат\n",
      "dst: лисичка – сестричка и волк –\n",
      "\n",
      "src: як була собі лисичка та зробила хатку, та й живе. а це приходять холоди. от лисичка замерзла та й побігла в село вогню добувать, щоб витопити. прибігає до одної баби та й каже:\n",
      "dst: как была себе лисичка и сделала избушку , и и живет . а оно приходят морозы . из лисичка замерзла и и побежала во село огня , чтобы . прибегает к одной бабы и и говорит :\n",
      "\n",
      "src: — здорові були, бабусю! з неділею... позичте мені огню, я вам одслужу.\n",
      "dst: — здоровые были , бабушку ! со воскресеньем ... мне огня , мной тебе .\n",
      "\n",
      "src: — добре, — каже, — лисичко - сестричко. сідай погрійся трохи, поки я пиріжечки повибираю з печі!\n",
      "dst: — хорошо , — говорит , — – сестричка . садись немного , пока мной пирожки со печи !\n",
      "\n",
      "src: а баба макові пиріжки пекла. от баба вибирає пиріжки та на столі кладе, щоб прохололи; а лисичка підгляділа та за пиріг, та з хати... виїла мачок із середини, а туди напхала сміттячка, стулила та й біжить.\n",
      "dst: а бабка маковые пирожки ада . из бабка выбирает пирожки и по столе кладет , чтобы ; а лисичка и за пирог , и со хаты ... со середины , а туда , и и бежит .\n",
      "\n",
      "src: от біжить, а хлопці товар женуть до води.\n",
      "dst: из бежит , а парни товар гонят к воды .\n",
      "\n",
      "src: — здорові були, хлопці!\n",
      "dst: — здоровые были , парни !\n",
      "\n",
      "src: — здорова, лисичко - сестричко!\n",
      "dst: — здоровая , – сестричка !\n",
      "\n",
      "src: — проміняйте мені бичка - третячка на маковий пиріжок!\n",
      "dst: — мне бычка – по маковый пирожок !\n",
      "\n",
      "src: — добре, — кажуть.\n",
      "dst: — хорошо , — дескать .\n",
      "\n",
      "src: — тільки, — каже, — тепер не їжте, а як я вибіжу з села, то тоді.\n",
      "dst: — только , — говорит , — теперь не ешьте , а как мной со деревни , то тогда .\n",
      "\n",
      "src: от помінялись. лисичка за бичка — та в ліс. а хлопці до пиріжка — а там сміттянко.\n",
      "dst: из поменяются . лисичка за бычка — и во лес . а парни к пирожка — а там .\n",
      "\n",
      "src: от прибігла лисичка до своєї хатки, вирубала дерево, зробила санки, запрягла бичка — іде. аж біжить вовк:\n",
      "dst: из прибежала лисичка к своего хатки , дерево , сделала санки , бычка — идет . аж бежит волк :\n",
      "\n",
      "src: — здорова, лисичко - сестричко!\n",
      "dst: — здоровая , – сестричка !\n",
      "\n",
      "src: — здоров, вовчику - братику!\n",
      "dst: — здоровье , – братику !\n",
      "\n",
      "src: — де ти взяла бичка - третячка і санки?\n",
      "dst: — куда ты взяла бычка – и санки ?\n",
      "\n",
      "src: — зробила собі!\n",
      "dst: — сделала себе !\n",
      "\n",
      "src: — підвези ж, — каже, — мене, лисичко - сестричко!\n",
      "dst: — же , — говорит , — меня , – сестричка !\n",
      "\n",
      "src: — е, куди я тебе візьму? ти мені й санки поламаєш!\n",
      "dst: — ьн , куда мной тебя возьму ? ты мне и санки !\n",
      "\n",
      "src: — ні, — каже, — я тільки одну ніжку положу.\n",
      "dst: — ни , — говорит , — мной только одну ножку .\n",
      "\n",
      "src: — ну, клади!\n",
      "dst: — ну , дощечки !\n",
      "\n",
      "src: от од’їхали трохи, вовк і каже:\n",
      "dst: из от со ехали немного , волк и говорит :\n",
      "\n",
      "src: — положу я, лисичко - сестричко, й другу ніжку!\n",
      "dst: — мной , – сестричка , и вторую ножку !\n",
      "\n",
      "src: — е, вовчику - братику, ти мені й санки поламаєш!\n",
      "dst: — ьн , – братику , ты мне и санки !\n",
      "\n",
      "src: — ні, — каже, — не поламаю!\n",
      "dst: — ни , — говорит , — не !\n",
      "\n",
      "src: — ну, клади!\n",
      "dst: — ну , дощечки !\n",
      "\n",
      "src: вовк і положив. ідуть, їдуть, коли це щось — трісь.\n",
      "dst: волк и положил . идут , едут , когда оно что-то — .\n",
      "\n",
      "src: — е, вовчику - братику, ти мені вже й санки ламаєш!\n",
      "dst: — ьн , – братику , ты мне уже и санки !\n",
      "\n",
      "src: — ні лисичко - сестричко, то я орішок розкусив.\n",
      "dst: — ни – сестричка , то мной .\n",
      "\n",
      "src: — ну, гляди!\n",
      "dst: — ну , девки !\n",
      "\n",
      "src: от їдуть...\n",
      "dst: из едут ...\n",
      "\n",
      "src: — положу я, лисичко - сестричко, й третю ніжку! — каже вовк.\n",
      "dst: — мной , – сестричка , и третью ножку ! — говорит волк .\n",
      "\n",
      "src: — куди ти положиш? ти мені санки поламаєш! чим я тоді дровець привезу?\n",
      "dst: — куда ты ? ты мне санки ! Чем мной тогда привезу ?\n",
      "\n",
      "src: — ні, — каже, — не поламаю.\n",
      "dst: — ни , — говорит , — не .\n",
      "\n",
      "src: — ну, клади.\n",
      "dst: — ну , дощечки .\n",
      "\n",
      "src: вовк положив і третю ногу. коли це — трісь!\n",
      "dst: волк положил и третью ногу . когда оно — !\n",
      "\n",
      "src: — ой лихо! — каже лисичка. — йди собі геть, вовчику, — ти мені зовсім санки поламаєш.\n",
      "dst: — ой горе ! — говорит лисичка . — иди себе прочь , , — ты мне совсем санки .\n",
      "\n",
      "src: — ні, то я орішок розкусив!\n",
      "dst: — ни , то мной !\n",
      "\n",
      "src: — дай же й мені!\n",
      "dst: — дай то и мне !\n",
      "\n",
      "src: — нема, — каже, — останній!\n",
      "dst: — нету , — говорит , — последний !\n",
      "\n",
      "src: їдуть собі та й їдуть; вовчик і каже:\n",
      "dst: едут себе и и едут ; и говорит :\n",
      "\n",
      "src: — сяду я зовсім, лисичко!\n",
      "dst: — сяду мной совсем , !\n",
      "\n",
      "src: — куди ти сядеш, вовчику - братику? і санки розламаєш!\n",
      "dst: — куда ты сяду , – братику ? и санки !\n",
      "\n",
      "src: — я помаленьку, — каже.\n",
      "dst: — мной потихоньку , — говорит .\n",
      "\n",
      "src: — ну, гляди!\n",
      "dst: — ну , девки !\n",
      "\n",
      "src: от вовчик тільки що сів, а санки так і розпались... лисичка тоді давай його лаять! лаяла - лаяла та й каже:\n",
      "dst: из только что уселся , а санки так и распались ... лисичка тогда давай его ! ругала – ругала и и говорит :\n",
      "\n",
      "src: — піди ж, сякий - такий сину, дровець нарубай і на санки вирубай, і приволочи!\n",
      "dst: — пойди же , – такой сыну , и по санки , и !\n",
      "\n",
      "src: — як же я, — каже вовчик, — вирубаю, коли я не знаю, якого дерева?\n",
      "dst: — как то мной , — говорит , — , когда мной не знаю , которого деревья ?\n",
      "\n",
      "src: — е, — сякий - такий сину! як санчата ламать, так і знав, а дровець вирубать, то й ні!\n",
      "dst: — ьн , — – такой сыну ! как санки , так и знал , а , то и ни !\n",
      "\n",
      "src: коришувала його, коришувала...\n",
      "dst: его , ...\n",
      "\n",
      "src: — як увійдеш, — каже, — в ліс, то кажи: « рубайся, дерево, й пряме, й криве! рубайся, дерево, й пряме, й криве! »\n",
      "dst: — как , — говорит , — во лес , то говори : « , дерево , и прямое , и кривое ! , дерево , и прямое , и кривое ! »\n",
      "\n",
      "src: вовк і пішов.\n",
      "dst: волк и пошел .\n",
      "\n",
      "src: от приходить в ліс та й каже:\n",
      "dst: из приходит во лес и и говорит :\n",
      "\n",
      "src: — рубайся, дерево, криве й криве!\n",
      "dst: — , дерево , кривое и кривое !\n",
      "\n",
      "src: дерево й нарубалось. таке корячкувате, що й на палицю не вибереш — не то на полозок! приносить вовчик до лисички те дерево. вона як подивилась, давай його знов батькувати.\n",
      "dst: дерево и . такое , что и по палку не выберешь — не то по ! приносит к лисички что дерево . она как посмотрела , давай его снова .\n",
      "\n",
      "src: — ти, — каже, — сякий - такий сину, не так казав, як я тобі веліла!\n",
      "dst: — ты , — говорит , — – такой сыну , не так говорил , как мной тебе велела !\n",
      "\n",
      "src: — ні, лисичко - сестричко, я, — каже, — стояв та все казав: « рубайся, дерево, криве й криве! »\n",
      "dst: — ни , – сестричка , мной , — говорит , — стоял и всё говорил : « , дерево , кривое и кривое ! »\n",
      "\n",
      "src: — е, бісів сину, й того недотепний! ну, сиди ж ти тут, — я сама піду нарубаю.\n",
      "dst: — ьн , бесов сыну , и того ! ну , сиди же ты здесь , — мной сама пойду .\n",
      "\n",
      "src: та й пішла.\n",
      "dst: и и пошла .\n",
      "\n",
      "src: от сидить вовк сам собі — так їсти хочеться! він думав - думав: « давай, — каже, — з’їм бичка та й утечу! » от взяв проїв дірку у бичка, із середини все виїв, а туди горобців напустив і соломою заткнув, а сам — драла... приходить лисичка, зробила санчата, сіла...\n",
      "dst: из сидит волк сам себе — так кушать хочется ! он думал – думал : « давай , — говорит , — со со им бычка и и побег ! » из взял дыру во бычка , со середины всё , а туда воробьёв напустил и соломой заткнул , а сам — деру ... приходит лисичка , сделала санки , присела ...\n",
      "\n",
      "src: — гей, бичок - третячок!\n",
      "dst: — гей , бычок – !\n",
      "\n",
      "src: аж бичок не везе. вона його батогом. як ударила, а віхоть соломи й випав; а горобці — хррр!\n",
      "dst: аж бычок не увозит . она его хлыстом . как ударила , а соломы и выпал ; а воробьи — !\n",
      "\n",
      "src: — а, сякий - такий вовчик! постій же, — каже, — я тобі згадаю!\n",
      "dst: — а , – такой ! постой то , — говорит , — мной тебе вспомню !\n",
      "\n",
      "src: та й пішла...\n",
      "dst: и и пошла ...\n",
      "\n",
      "src: лягла на шляху та й лежить. ідуть чумаки з рибою; вона притаїлась, мов нежива. чумаки дивляться — аж лисиця:\n",
      "dst: легла по пути и и лежит . идут казаки со рыбой ; она , языки неживая . казаки смотрят — аж лисица :\n",
      "\n",
      "src: — візьмім, — кажуть, — бра, та продамо — буде за що хоч погрітися!\n",
      "dst: — , — дескать , — бра , и продадим — будет за что хоть погреться !\n",
      "\n",
      "src: скинули її на останній віз та й поїхали. ідуть та й їдуть. а лисичка - сестричка бачить, що вони не дивляться, та все кида по рибці на дорогу, все кида... от як накидала вже багато, тоді нишком і сама злізла. чумаки ж поїхали собі далі, а вона позбирала рибку, сіла та й їсть.\n",
      "dst: сбросили ей по последний визы и и поехали . идут и и едут . а лисичка – сестричка видит , что они не смотрят , и всё по рыбки по дорогу , всё ... из как навязала уже много , тогда втихаря и сама слезла . казаки же поехали себе дальше , а она рыбку , присела и и ест .\n",
      "\n",
      "src: коли це біжить вовчик:\n",
      "dst: когда оно бежит :\n",
      "\n",
      "src: — здорова була, лисичко - сестричко!\n",
      "dst: — здоровая была , – сестричка !\n",
      "\n",
      "src: — здоров, вовчику - братику!\n",
      "dst: — здоровье , – братику !\n",
      "\n",
      "src: — що ти робиш, лисичко - сестричко?\n",
      "dst: — что ты делаешь , – сестричка ?\n",
      "\n",
      "src: — рибу, — каже, — їм.\n",
      "dst: — рыбу , — говорит , — им .\n",
      "\n",
      "src: — дай же й мені!\n",
      "dst: — дай то и мне !\n",
      "\n",
      "src: — піди собі налови.\n",
      "dst: — пойди себе .\n",
      "\n",
      "src: — так як же я наловлю, коли я не вмію?\n",
      "dst: — так как то мной , когда мной не умею ?\n",
      "\n",
      "src: — ну, як знаєш, а я не дам і кісточки!\n",
      "dst: — ну , как знаешь , а мной не дам и косточки !\n",
      "\n",
      "src: — так хоч навчи мене, як наловить.\n",
      "dst: — так хоть научить меня , как .\n",
      "\n",
      "src: а лисичка й дума: « постій же! ти мого бичка - третячка з’їв — я тепер тобі оддячу! »\n",
      "dst: а лисичка и дума : « постой то ! ты моего бычка – со со ел — мной теперь тебе ! »\n",
      "\n",
      "src: — а так, — каже, — піди до ополонки, устроми в ополонку хвіст та потихеньку води ним і приказуй: « ловись, рибко, мала й велика! ловись, рибко, мала й велика! » то вона й наловиться.\n",
      "dst: — а так , — говорит , — пойди к проруби , во прорубь хвост и потихоньку воды ним и : « , рыбка , имела и большая ! , рыбка , имела и большая ! » то она и .\n",
      "\n",
      "src: — ну, спасибі за науку! — каже вовчик.\n",
      "dst: — ну , спасибо за науку ! — говорит .\n",
      "\n",
      "src: от прибігає вовчик до ополонки, устромив в ополонку хвіст:\n",
      "dst: из прибегает к проруби , во прорубь хвост :\n",
      "\n",
      "src: — ловись, — каже, — рибко, мала й велика!\n",
      "dst: — , — говорит , — рыбка , имела и большая !\n",
      "\n",
      "src: а лисичка з очерету:\n",
      "dst: а лисичка со камыша :\n",
      "\n",
      "src: — мерзни, мерзни, вовчий хвіст!\n",
      "dst: — , , волчий хвост !\n",
      "\n",
      "src: а мороз надворі такий, що аж шкварчить! вовчик хвостиком усе водить та:\n",
      "dst: а мороз дворе такой , что аж ! хвостиком всё водит и :\n",
      "\n",
      "src: — ловись, рибко, мала й велика!\n",
      "dst: — , рыбка , имела и большая !\n",
      "\n",
      "src: а лисичка:\n",
      "dst: а лисичка :\n",
      "\n",
      "src: — мерзни, мерзни, вовчий хвіст!\n",
      "dst: — , , волчий хвост !\n",
      "\n",
      "src: поки ловив вовчик рибу, поки хвіст так і прикипів в ополонці! тоді лисичка в село:\n",
      "dst: пока ловил рыбу , пока хвост так и пугаясь во проруби ! тогда лисичка во село :\n",
      "\n",
      "src: — ідіть, люди, вовка бить!\n",
      "dst: — идите , люди , волка мочь !\n",
      "\n",
      "src: люди як вискочать — з кочергами, з рогачами, із сокирами: вбили того вовка і пропав бідний! а лисичка й досі живе у своїй хатці.\n",
      "dst: люди как — со , со , со топорами : убили того волка и пропал бедный ! а лисичка и сих живет во своей хате .\n",
      "\n"
     ]
    }
   ],
   "source": [
    "for sentence in uk_sentences:\n",
    "    print(\"src: {}\\ndst: {}\\n\".format(sentence, translate_word2vec(sentence)))"
   ]
  },
  {
   "cell_type": "markdown",
   "metadata": {},
   "source": [
    "Not so bad, right? We can easily improve translation using language model and not one but several nearest neighbours in shared embedding space. But next time."
   ]
  },
  {
   "cell_type": "markdown",
   "metadata": {},
   "source": [
    "## Additional investigation"
   ]
  },
  {
   "cell_type": "markdown",
   "metadata": {},
   "source": [
    "Using fastText implementation from Gensim due to better support for similarity methods"
   ]
  },
  {
   "cell_type": "code",
   "execution_count": 30,
   "metadata": {},
   "outputs": [],
   "source": [
    "from gensim.models.fasttext import load_facebook_model"
   ]
  },
  {
   "cell_type": "markdown",
   "metadata": {},
   "source": [
    "### Loading models"
   ]
  },
  {
   "cell_type": "code",
   "execution_count": 31,
   "metadata": {},
   "outputs": [],
   "source": [
    "# downloading models\n",
    "# fasttext.util.download_model('uk', if_exists='ignore')  # English\n",
    "# fasttext.util.download_model('ru', if_exists='ignore')  # English"
   ]
  },
  {
   "cell_type": "code",
   "execution_count": 32,
   "metadata": {},
   "outputs": [],
   "source": [
    "uk_ft = load_facebook_model('cc.uk.300.bin')"
   ]
  },
  {
   "cell_type": "code",
   "execution_count": 33,
   "metadata": {},
   "outputs": [],
   "source": [
    "ru_ft = load_facebook_model('cc.ru.300.bin')"
   ]
  },
  {
   "cell_type": "code",
   "execution_count": 34,
   "metadata": {},
   "outputs": [
    {
     "name": "stdout",
     "output_type": "stream",
     "text": [
      "Number of words in ukranian fastText model 2000000\n",
      "Number of words in russian fastText model 2000000\n"
     ]
    }
   ],
   "source": [
    "print(\"Number of words in ukranian fastText model\", len(uk_ft.wv))\n",
    "print(\"Number of words in russian fastText model\", len(ru_ft.wv))"
   ]
  },
  {
   "cell_type": "code",
   "execution_count": 35,
   "metadata": {},
   "outputs": [
    {
     "name": "stdout",
     "output_type": "stream",
     "text": [
      "Number of words in ukranian word2vec model 600000\n",
      "Number of words in russian word2vec model 600000\n"
     ]
    }
   ],
   "source": [
    "print(\"Number of words in ukranian word2vec model\", len(uk_emb.index_to_key))\n",
    "print(\"Number of words in russian word2vec model\", len(ru_emb.index_to_key))"
   ]
  },
  {
   "cell_type": "markdown",
   "metadata": {},
   "source": [
    "We can see that in fastText model there are almost 3 times more words than in word2vec model. So the quality of traslation can be even better. Let's find out!"
   ]
  },
  {
   "cell_type": "code",
   "execution_count": 36,
   "metadata": {},
   "outputs": [],
   "source": [
    "def load_word_pairs_fasttext(filename):\n",
    "    uk_ru_pairs = []\n",
    "    uk_vectors = []\n",
    "    ru_vectors = []\n",
    "    with open(filename, \"r\") as inpf:\n",
    "        for line in inpf:\n",
    "            uk, ru = line.rstrip().split(\"\\t\")\n",
    "            if uk not in uk_emb or ru not in ru_emb:\n",
    "                continue\n",
    "            uk_ru_pairs.append((uk, ru))\n",
    "            uk_vectors.append(uk_ft.wv[uk])\n",
    "            ru_vectors.append(ru_ft.wv[ru])\n",
    "    return uk_ru_pairs, np.array(uk_vectors), np.array(ru_vectors)"
   ]
  },
  {
   "cell_type": "code",
   "execution_count": 37,
   "metadata": {},
   "outputs": [],
   "source": [
    "uk_ru_train_fasttext, X_train_fasttext, Y_train_fasttext = load_word_pairs_fasttext(\"ukr_rus.train.txt\")"
   ]
  },
  {
   "cell_type": "code",
   "execution_count": 38,
   "metadata": {},
   "outputs": [],
   "source": [
    "uk_ru_test_fasttext, X_test_fasttext, Y_test_fasttext = load_word_pairs_fasttext(\"ukr_rus.test.txt\")"
   ]
  },
  {
   "cell_type": "code",
   "execution_count": 39,
   "metadata": {},
   "outputs": [],
   "source": [
    "W_fasttext = learn_transform(X_train_fasttext, Y_train_fasttext)"
   ]
  },
  {
   "cell_type": "code",
   "execution_count": 40,
   "metadata": {},
   "outputs": [],
   "source": [
    "def translate_fasttext(sentence):\n",
    "    \"\"\"\n",
    "    :args:\n",
    "        sentence - sentence in Ukrainian (str)\n",
    "    :returns:\n",
    "        translation - sentence in Russian (str)\n",
    "\n",
    "    * find ukrainian embedding for each word in sentence\n",
    "    * transform ukrainian embedding vector\n",
    "    * find nearest russian word and replace\n",
    "    \"\"\"\n",
    "    ru_sentence = \"\"\n",
    "\n",
    "    vector = np.zeros([uk_emb.vector_size], dtype='float32')\n",
    "    word_vectors = []\n",
    "\n",
    "    data_tok = tokenizer.tokenize(sentence.lower())\n",
    "    word_vectors = np.array([uk_ft.wv[word] for word in data_tok if word in uk_ft.wv])\n",
    "    ru_sentence = \" \".join([ru_ft.wv.most_similar([np.matmul(vector, W_word2vec)])[0][0] for vector in word_vectors])\n",
    "    \n",
    "    return ru_sentence"
   ]
  },
  {
   "cell_type": "code",
   "execution_count": 41,
   "metadata": {},
   "outputs": [
    {
     "name": "stdout",
     "output_type": "stream",
     "text": [
      "src: лисичка - сестричка і вовк - панібрат\n",
      "dst: лисичка – сестричка и волк – сын\n",
      "\n",
      "src: як була собі лисичка та зробила хатку, та й живе. а це приходять холоди. от лисичка замерзла та й побігла в село вогню добувать, щоб витопити. прибігає до одної баби та й каже:\n",
      "dst: как была себе лисичка и сделала хатку , и и живет . а оно приходят морозы . из лисичка замерзла и и побежала во село огня добывать , чтобы истопить . прибегает к одной бабы и и говорит :\n",
      "\n",
      "src: — здорові були, бабусю! з неділею... позичте мені огню, я вам одслужу.\n",
      "dst: — здоровые были , бабушку ! со Пасхою ... одолжу мне огня , мной тебе присягаю .\n",
      "\n",
      "src: — добре, — каже, — лисичко - сестричко. сідай погрійся трохи, поки я пиріжечки повибираю з печі!\n",
      "dst: — хорошо , — говорит , — лисонька – сестричка . садись покупатьCloseвосстановление немного , пока мной пирожки выбираю со печи !\n",
      "\n",
      "src: а баба макові пиріжки пекла. от баба вибирає пиріжки та на столі кладе, щоб прохололи; а лисичка підгляділа та за пиріг, та з хати... виїла мачок із середини, а туди напхала сміттячка, стулила та й біжить.\n",
      "dst: а бабка маковые пирожки ада . из бабка выбирает пирожки и по столе кладет , чтобы успокоились ; а лисичка подсматривала и за пирог , и со хаты ... пожрала цветок со середины , а туда зажевала мусора , свесилась и и бежит .\n",
      "\n",
      "src: от біжить, а хлопці товар женуть до води.\n",
      "dst: из бежит , а парни товар гонят к воды .\n",
      "\n",
      "src: — здорові були, хлопці!\n",
      "dst: — здоровые были , парни !\n",
      "\n",
      "src: — здорова, лисичко - сестричко!\n",
      "dst: — здоровая , лисонька – сестричка !\n",
      "\n",
      "src: — проміняйте мені бичка - третячка на маковий пиріжок!\n",
      "dst: — поменять мне бычка – маленькая-маленькая по маковый пирожок !\n",
      "\n",
      "src: — добре, — кажуть.\n",
      "dst: — хорошо , — дескать .\n",
      "\n",
      "src: — тільки, — каже, — тепер не їжте, а як я вибіжу з села, то тоді.\n",
      "dst: — только , — говорит , — теперь не ешьте , а как мной выбегаешь со деревни , то тогда .\n",
      "\n",
      "src: от помінялись. лисичка за бичка — та в ліс. а хлопці до пиріжка — а там сміттянко.\n",
      "dst: из поменятся . лисичка за бычка — и во лес . а парни к пирожка — а там мусора .\n",
      "\n",
      "src: от прибігла лисичка до своєї хатки, вирубала дерево, зробила санки, запрягла бичка — іде. аж біжить вовк:\n",
      "dst: из прибежала лисичка к своего хатки , вырубала дерево , сделала санки , запрягла бычка — идет . аж бежит волк :\n",
      "\n",
      "src: — здорова, лисичко - сестричко!\n",
      "dst: — здоровая , лисонька – сестричка !\n",
      "\n",
      "src: — здоров, вовчику - братику!\n",
      "dst: — здоровье , плутишка – братику !\n",
      "\n",
      "src: — де ти взяла бичка - третячка і санки?\n",
      "dst: — куда ты взяла бычка – маленькая-маленькая и санки ?\n",
      "\n",
      "src: — зробила собі!\n",
      "dst: — сделала себе !\n",
      "\n",
      "src: — підвези ж, — каже, — мене, лисичко - сестричко!\n",
      "dst: — подвезла же , — говорит , — меня , лисонька – сестричка !\n",
      "\n",
      "src: — е, куди я тебе візьму? ти мені й санки поламаєш!\n",
      "dst: — ащ , куда мной тебя возьму ? ты мне и санки поломаешь !\n",
      "\n",
      "src: — ні, — каже, — я тільки одну ніжку положу.\n",
      "dst: — ни , — говорит , — мной только одну ножку милочку .\n",
      "\n",
      "src: — ну, клади!\n",
      "dst: — ну , костяки !\n",
      "\n",
      "src: от од’їхали трохи, вовк і каже:\n",
      "dst: из от со ехали немного , волк и говорит :\n",
      "\n",
      "src: — положу я, лисичко - сестричко, й другу ніжку!\n",
      "dst: — милочку мной , лисонька – сестричка , и вторую ножку !\n",
      "\n",
      "src: — е, вовчику - братику, ти мені й санки поламаєш!\n",
      "dst: — ащ , плутишка – братику , ты мне и санки поломаешь !\n",
      "\n",
      "src: — ні, — каже, — не поламаю!\n",
      "dst: — ни , — говорит , — не сломаю !\n",
      "\n",
      "src: — ну, клади!\n",
      "dst: — ну , костяки !\n",
      "\n",
      "src: вовк і положив. ідуть, їдуть, коли це щось — трісь.\n",
      "dst: волк и положил . идут , едут , когда оно что-то — хрясь .\n",
      "\n",
      "src: — е, вовчику - братику, ти мені вже й санки ламаєш!\n",
      "dst: — ащ , плутишка – братику , ты мне уже и санки поломаешь !\n",
      "\n",
      "src: — ні лисичко - сестричко, то я орішок розкусив.\n",
      "dst: — ни лисонька – сестричка , то мной крайт раскусил .\n",
      "\n",
      "src: — ну, гляди!\n",
      "dst: — ну , девки !\n",
      "\n",
      "src: от їдуть...\n",
      "dst: из едут ...\n",
      "\n",
      "src: — положу я, лисичко - сестричко, й третю ніжку! — каже вовк.\n",
      "dst: — милочку мной , лисонька – сестричка , и третью ножку ! — говорит волк .\n",
      "\n",
      "src: — куди ти положиш? ти мені санки поламаєш! чим я тоді дровець привезу?\n",
      "dst: — куда ты нассыт ? ты мне санки поломаешь ! Чем мной тогда дров привезу ?\n",
      "\n",
      "src: — ні, — каже, — не поламаю.\n",
      "dst: — ни , — говорит , — не сломаю .\n",
      "\n",
      "src: — ну, клади.\n",
      "dst: — ну , костяки .\n",
      "\n",
      "src: вовк положив і третю ногу. коли це — трісь!\n",
      "dst: волк положил и третью ногу . когда оно — хрясь !\n",
      "\n",
      "src: — ой лихо! — каже лисичка. — йди собі геть, вовчику, — ти мені зовсім санки поламаєш.\n",
      "dst: — ой горе ! — говорит лисичка . — иди себе прочь , плутишка , — ты мне совсем санки поломаешь .\n",
      "\n",
      "src: — ні, то я орішок розкусив!\n",
      "dst: — ни , то мной крайт раскусил !\n",
      "\n",
      "src: — дай же й мені!\n",
      "dst: — дай то и мне !\n",
      "\n",
      "src: — нема, — каже, — останній!\n",
      "dst: — нету , — говорит , — последний !\n",
      "\n",
      "src: їдуть собі та й їдуть; вовчик і каже:\n",
      "dst: едут себе и и едут ; заяц и говорит :\n",
      "\n",
      "src: — сяду я зовсім, лисичко!\n",
      "dst: — сяду мной совсем , лисонька !\n",
      "\n",
      "src: — куди ти сядеш, вовчику - братику? і санки розламаєш!\n",
      "dst: — куда ты сядите , плутишка – братику ? и санки раздробит !\n",
      "\n",
      "src: — я помаленьку, — каже.\n",
      "dst: — мной потихоньку , — говорит .\n",
      "\n",
      "src: — ну, гляди!\n",
      "dst: — ну , девки !\n",
      "\n",
      "src: от вовчик тільки що сів, а санки так і розпались... лисичка тоді давай його лаять! лаяла - лаяла та й каже:\n",
      "dst: из заяц только что уселся , а санки так и распались ... лисичка тогда давай его орать ! ругала – ругала и и говорит :\n",
      "\n",
      "src: — піди ж, сякий - такий сину, дровець нарубай і на санки вирубай, і приволочи!\n",
      "dst: — пойди же , всякий – такой сыну , дров порубленной и по санки вырубленное , и везется !\n",
      "\n",
      "src: — як же я, — каже вовчик, — вирубаю, коли я не знаю, якого дерева?\n",
      "dst: — как то мной , — говорит заяц , — вырубленное , когда мной не знаю , которого деревья ?\n",
      "\n",
      "src: — е, — сякий - такий сину! як санчата ламать, так і знав, а дровець вирубать, то й ні!\n",
      "dst: — ащ , — всякий – такой сыну ! как санки ломать , так и знал , а дров поремонтировать , то и ни !\n",
      "\n",
      "src: коришувала його, коришувала...\n",
      "dst: сосуществовала его , сосуществовала ...\n",
      "\n",
      "src: — як увійдеш, — каже, — в ліс, то кажи: « рубайся, дерево, й пряме, й криве! рубайся, дерево, й пряме, й криве! »\n",
      "dst: — как войдешь , — говорит , — во лес , то говори : « рубить , дерево , и прямое , и кривое ! рубить , дерево , и прямое , и кривое ! »\n",
      "\n",
      "src: вовк і пішов.\n",
      "dst: волк и пошел .\n",
      "\n",
      "src: от приходить в ліс та й каже:\n",
      "dst: из приходит во лес и и говорит :\n",
      "\n",
      "src: — рубайся, дерево, криве й криве!\n",
      "dst: — рубить , дерево , кривое и кривое !\n",
      "\n",
      "src: дерево й нарубалось. таке корячкувате, що й на палицю не вибереш — не то на полозок! приносить вовчик до лисички те дерево. вона як подивилась, давай його знов батькувати.\n",
      "dst: дерево и мариновалось . такое пустяковое , что и по палку не выберешь — не то по аммортизатор ! приносит заяц к лисички что дерево . она как посмотрела , давай его снова присмирить .\n",
      "\n",
      "src: — ти, — каже, — сякий - такий сину, не так казав, як я тобі веліла!\n",
      "dst: — ты , — говорит , — всякий – такой сыну , не так говорил , как мной тебе велела !\n",
      "\n",
      "src: — ні, лисичко - сестричко, я, — каже, — стояв та все казав: « рубайся, дерево, криве й криве! »\n",
      "dst: — ни , лисонька – сестричка , мной , — говорит , — стоял и всё говорил : « рубить , дерево , кривое и кривое ! »\n",
      "\n",
      "src: — е, бісів сину, й того недотепний! ну, сиди ж ти тут, — я сама піду нарубаю.\n",
      "dst: — ащ , бесов сыну , и того нелепый ! ну , сиди же ты здесь , — мной сама пойду порублю .\n",
      "\n",
      "src: та й пішла.\n",
      "dst: и и пошла .\n",
      "\n",
      "src: от сидить вовк сам собі — так їсти хочеться! він думав - думав: « давай, — каже, — з’їм бичка та й утечу! » от взяв проїв дірку у бичка, із середини все виїв, а туди горобців напустив і соломою заткнув, а сам — драла... приходить лисичка, зробила санчата, сіла...\n",
      "dst: из сидит волк сам себе — так кушать хочется ! он думал – думал : « давай , — говорит , — со со им бычка и и побег ! » из взял папаша дыру во бычка , со середины всё тюрю , а туда воробьёв напустил и соломой заткнул , а сам — довала ... приходит лисичка , сделала санки , присела ...\n",
      "\n",
      "src: — гей, бичок - третячок!\n",
      "dst: — гей , бычок – дятелок !\n",
      "\n",
      "src: аж бичок не везе. вона його батогом. як ударила, а віхоть соломи й випав; а горобці — хррр!\n",
      "dst: аж бычок не увозит . она его хлыстом . как ударила , а стог соломы и выпал ; а воробьи — 252,8 !\n",
      "\n",
      "src: — а, сякий - такий вовчик! постій же, — каже, — я тобі згадаю!\n",
      "dst: — а , всякий – такой заяц ! постой то , — говорит , — мной тебе вспомню !\n",
      "\n",
      "src: та й пішла...\n",
      "dst: и и пошла ...\n",
      "\n",
      "src: лягла на шляху та й лежить. ідуть чумаки з рибою; вона притаїлась, мов нежива. чумаки дивляться — аж лисиця:\n",
      "dst: легла по пути и и лежит . идут чумаки со рыбой ; она покружилась , языки неживая . чумаки смотрят — аж лисица :\n",
      "\n",
      "src: — візьмім, — кажуть, — бра, та продамо — буде за що хоч погрітися!\n",
      "dst: — взять , — дескать , — бра , и продадим — будет за что хоть погреться !\n",
      "\n",
      "src: скинули її на останній віз та й поїхали. ідуть та й їдуть. а лисичка - сестричка бачить, що вони не дивляться, та все кида по рибці на дорогу, все кида... от як накидала вже багато, тоді нишком і сама злізла. чумаки ж поїхали собі далі, а вона позбирала рибку, сіла та й їсть.\n",
      "dst: сбросили ей по последний визы и и поехали . идут и и едут . а лисичка – сестричка видит , что они не смотрят , и всё кидающий по карасям по дорогу , всё кидающий ... из как набрасывала уже много , тогда втихаря и сама слезла . чумаки же поехали себе дальше , а она собирала рыбку , присела и и ест .\n",
      "\n",
      "src: коли це біжить вовчик:\n",
      "dst: когда оно бежит заяц :\n",
      "\n",
      "src: — здорова була, лисичко - сестричко!\n",
      "dst: — здоровая была , лисонька – сестричка !\n",
      "\n",
      "src: — здоров, вовчику - братику!\n",
      "dst: — здоровье , плутишка – братику !\n",
      "\n",
      "src: — що ти робиш, лисичко - сестричко?\n",
      "dst: — что ты делаешь , лисонька – сестричка ?\n",
      "\n",
      "src: — рибу, — каже, — їм.\n",
      "dst: — рыбу , — говорит , — им .\n",
      "\n",
      "src: — дай же й мені!\n",
      "dst: — дай то и мне !\n",
      "\n",
      "src: — піди собі налови.\n",
      "dst: — пойди себе мотыльницыКрючкиПешняКормушки .\n",
      "\n",
      "src: — так як же я наловлю, коли я не вмію?\n",
      "dst: — так как то мной рыбачишь , когда мной не умею ?\n",
      "\n",
      "src: — ну, як знаєш, а я не дам і кісточки!\n",
      "dst: — ну , как знаешь , а мной не дам и косточки !\n",
      "\n",
      "src: — так хоч навчи мене, як наловить.\n",
      "dst: — так хоть научить меня , как наловит .\n",
      "\n",
      "src: а лисичка й дума: « постій же! ти мого бичка - третячка з’їв — я тепер тобі оддячу! »\n",
      "dst: а лисичка и дума : « постой то ! ты моего бычка – маленькая-маленькая со со ел — мной теперь тебе крапивная ! »\n",
      "\n",
      "src: — а так, — каже, — піди до ополонки, устроми в ополонку хвіст та потихеньку води ним і приказуй: « ловись, рибко, мала й велика! ловись, рибко, мала й велика! » то вона й наловиться.\n",
      "dst: — а так , — говорит , — пойди к проруби , государственнойвласти во прорубь хвост и потихоньку воды ним и государственнойвласти : « неводом , рыбка , имела и большая ! неводом , рыбка , имела и большая ! » то она и наловит .\n",
      "\n",
      "src: — ну, спасибі за науку! — каже вовчик.\n",
      "dst: — ну , спасибо за науку ! — говорит заяц .\n",
      "\n",
      "src: от прибігає вовчик до ополонки, устромив в ополонку хвіст:\n",
      "dst: из прибегает заяц к проруби , изломал во прорубь хвост :\n",
      "\n",
      "src: — ловись, — каже, — рибко, мала й велика!\n",
      "dst: — неводом , — говорит , — рыбка , имела и большая !\n",
      "\n",
      "src: а лисичка з очерету:\n",
      "dst: а лисичка со камыша :\n",
      "\n",
      "src: — мерзни, мерзни, вовчий хвіст!\n",
      "dst: — мерзнуть , мерзнуть , волчий хвост !\n",
      "\n",
      "src: а мороз надворі такий, що аж шкварчить! вовчик хвостиком усе водить та:\n",
      "dst: а мороз дворе такой , что аж шкворчит ! заяц хвостиком всё водит и :\n",
      "\n",
      "src: — ловись, рибко, мала й велика!\n",
      "dst: — неводом , рыбка , имела и большая !\n",
      "\n",
      "src: а лисичка:\n",
      "dst: а лисичка :\n",
      "\n",
      "src: — мерзни, мерзни, вовчий хвіст!\n",
      "dst: — мерзнуть , мерзнуть , волчий хвост !\n",
      "\n",
      "src: поки ловив вовчик рибу, поки хвіст так і прикипів в ополонці! тоді лисичка в село:\n",
      "dst: пока ловил заяц рыбу , пока хвост так и пугаясь во проруби ! тогда лисичка во село :\n",
      "\n",
      "src: — ідіть, люди, вовка бить!\n",
      "dst: — идите , люди , волка будиш !\n",
      "\n",
      "src: люди як вискочать — з кочергами, з рогачами, із сокирами: вбили того вовка і пропав бідний! а лисичка й досі живе у своїй хатці.\n",
      "dst: люди как выползут — со поленьями , со оглоблями , со топорами : убили того волка и пропал бедный ! а лисичка и сих живет во своей хатке .\n",
      "\n"
     ]
    }
   ],
   "source": [
    "for sentence in uk_sentences:\n",
    "    print(\"src: {}\\ndst: {}\\n\".format(sentence, translate_fasttext(sentence)))"
   ]
  },
  {
   "cell_type": "markdown",
   "metadata": {},
   "source": [
    "## Would you like to learn more?\n",
    "\n",
    "### Articles:\n",
    "* [Exploiting Similarities among Languages for Machine Translation](https://arxiv.org/pdf/1309.4168)  - entry point for multilingual embedding studies by Tomas Mikolov (the author of W2V)\n",
    "* [Offline bilingual word vectors, orthogonal transformations and the inverted softmax](https://arxiv.org/pdf/1702.03859) - orthogonal transform for unsupervised MT\n",
    "* [Word Translation Without Parallel Data](https://arxiv.org/pdf/1710.04087)\n",
    "* [Loss in Translation: Learning Bilingual Word Mapping with a Retrieval Criterion](https://arxiv.org/pdf/1804.07745)\n",
    "* [Unsupervised Alignment of Embeddings with Wasserstein Procrustes](https://arxiv.org/pdf/1805.11222)\n",
    "\n",
    "### Repos (with ready-to-use multilingual embeddings):\n",
    "* https://github.com/facebookresearch/MUSE\n",
    "\n",
    "* https://github.com/Babylonpartners/fastText_multilingual -"
   ]
  }
 ],
 "metadata": {
  "kernelspec": {
   "display_name": "Python 3",
   "language": "python",
   "name": "python3"
  },
  "language_info": {
   "codemirror_mode": {
    "name": "ipython",
    "version": 3
   },
   "file_extension": ".py",
   "mimetype": "text/x-python",
   "name": "python",
   "nbconvert_exporter": "python",
   "pygments_lexer": "ipython3",
   "version": "3.8.10"
  }
 },
 "nbformat": 4,
 "nbformat_minor": 4
}
